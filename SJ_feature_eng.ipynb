{
  "nbformat": 4,
  "nbformat_minor": 0,
  "metadata": {
    "colab": {
      "name": "SJ_feature_eng.ipynb",
      "provenance": [],
      "authorship_tag": "ABX9TyPtcOp+HcIrQ/YxcTvKgY1m",
      "include_colab_link": true
    },
    "kernelspec": {
      "name": "python3",
      "display_name": "Python 3"
    }
  },
  "cells": [
    {
      "cell_type": "markdown",
      "metadata": {
        "id": "view-in-github",
        "colab_type": "text"
      },
      "source": [
        "<a href=\"https://colab.research.google.com/github/nazaninaslani/Demand-Forecasting-1/blob/main/SJ_feature_eng.ipynb\" target=\"_parent\"><img src=\"https://colab.research.google.com/assets/colab-badge.svg\" alt=\"Open In Colab\"/></a>"
      ]
    },
    {
      "cell_type": "code",
      "metadata": {
        "id": "FgWIsYY5t-10"
      },
      "source": [
        "!pip install feature_engine\r\n"
      ],
      "execution_count": null,
      "outputs": []
    },
    {
      "cell_type": "code",
      "metadata": {
        "id": "XdnDO_JwE6sA"
      },
      "source": [
        "import pandas as pd\r\n",
        "import numpy as np\r\n",
        "from matplotlib import pyplot\r\n",
        "import matplotlib.pyplot as plt\r\n",
        "import itertools\r\n",
        "# Ignore harmless warnings\r\n",
        "import warnings\r\n",
        "warnings.filterwarnings(\"ignore\")\r\n",
        "plt.style.use('fivethirtyeight')\r\n",
        "import matplotlib\r\n",
        "matplotlib.rcParams['axes.labelsize'] = 14\r\n",
        "matplotlib.rcParams['xtick.labelsize'] = 12\r\n",
        "matplotlib.rcParams['ytick.labelsize'] = 12\r\n",
        "matplotlib.rcParams['text.color'] = 'G'\r\n",
        "import seaborn as sns\r\n",
        "from datetime import datetime, timedelta\r\n",
        "# Load specific statistical tool for outlier detection\r\n",
        "import statsmodels\r\n",
        "import statsmodels.api as sm\r\n",
        "from statsmodels.stats.stattools import medcouple\r\n",
        "import math\r\n",
        "import datetime\r\n",
        "# Load specific forecasting tools\r\n",
        "from statsmodels.tsa.arima_model import ARMA,ARMAResults,ARIMA,ARIMAResults\r\n",
        "from statsmodels.tsa.statespace.sarimax import SARIMAX\r\n",
        "\r\n",
        "from statsmodels.graphics.tsaplots import plot_acf,plot_pacf # for determining (p,q) orders\r\n",
        "from statsmodels.tsa.seasonal import seasonal_decompose      # for ETS Plots\r\n",
        "#import pmdarima\r\n",
        "#from pmdarima import auto_arima                              # for determining ARIMA orders\r\n",
        "#normalizing input & output features\r\n",
        "from sklearn.preprocessing import MinMaxScaler\r\n",
        "#tools for evaluating the forecasting model\r\n",
        "from statsmodels.tools.eval_measures import rmse\r\n",
        "from sklearn.metrics import mean_absolute_error\r\n",
        "from sklearn.metrics import mean_squared_error\r\n",
        "# for Q-Q plots\r\n",
        "import scipy.stats as stats\r\n",
        "#####\r\n",
        "from sklearn.preprocessing import StandardScaler\r\n",
        "from sklearn.linear_model import LinearRegression\r\n",
        "from sklearn.feature_selection import SelectFromModel\r\n",
        "####################\r\n",
        "# for one hot encoding with sklearn\r\n",
        "from sklearn.preprocessing import OneHotEncoder\r\n",
        "\r\n",
        "# for one hot encoding with feature-engine\r\n",
        "from feature_engine.encoding import OneHotEncoder as fe_OneHotEncoder"
      ],
      "execution_count": null,
      "outputs": []
    },
    {
      "cell_type": "code",
      "metadata": {
        "id": "ncKERwkjFt25"
      },
      "source": [
        "df_fselect = pd.read_csv('train_sj_NOoutlier.csv',parse_dates=['week_start_date'],index_col=0)"
      ],
      "execution_count": null,
      "outputs": []
    },
    {
      "cell_type": "code",
      "metadata": {
        "id": "AxTQCYEZF0LU"
      },
      "source": [
        "Y = df_fselect[['total_cases']]\r\n",
        "train_Ysj = Y[:-156]\r\n",
        "valid_Ysj = Y[-156:]"
      ],
      "execution_count": null,
      "outputs": []
    },
    {
      "cell_type": "code",
      "metadata": {
        "colab": {
          "base_uri": "https://localhost:8080/",
          "height": 450
        },
        "id": "o-msqc4K1qKi",
        "outputId": "9aca8eeb-da94-4f10-b942-1ea2a5accf70"
      },
      "source": [
        "Y"
      ],
      "execution_count": null,
      "outputs": [
        {
          "output_type": "execute_result",
          "data": {
            "text/html": [
              "<div>\n",
              "<style scoped>\n",
              "    .dataframe tbody tr th:only-of-type {\n",
              "        vertical-align: middle;\n",
              "    }\n",
              "\n",
              "    .dataframe tbody tr th {\n",
              "        vertical-align: top;\n",
              "    }\n",
              "\n",
              "    .dataframe thead th {\n",
              "        text-align: right;\n",
              "    }\n",
              "</style>\n",
              "<table border=\"1\" class=\"dataframe\">\n",
              "  <thead>\n",
              "    <tr style=\"text-align: right;\">\n",
              "      <th></th>\n",
              "      <th>total_cases</th>\n",
              "    </tr>\n",
              "    <tr>\n",
              "      <th>week_start_date</th>\n",
              "      <th></th>\n",
              "    </tr>\n",
              "  </thead>\n",
              "  <tbody>\n",
              "    <tr>\n",
              "      <th>1990-05-05</th>\n",
              "      <td>4.0</td>\n",
              "    </tr>\n",
              "    <tr>\n",
              "      <th>1990-05-12</th>\n",
              "      <td>5.0</td>\n",
              "    </tr>\n",
              "    <tr>\n",
              "      <th>1990-05-19</th>\n",
              "      <td>4.0</td>\n",
              "    </tr>\n",
              "    <tr>\n",
              "      <th>1990-05-26</th>\n",
              "      <td>3.0</td>\n",
              "    </tr>\n",
              "    <tr>\n",
              "      <th>1990-06-02</th>\n",
              "      <td>6.0</td>\n",
              "    </tr>\n",
              "    <tr>\n",
              "      <th>...</th>\n",
              "      <td>...</td>\n",
              "    </tr>\n",
              "    <tr>\n",
              "      <th>2008-03-29</th>\n",
              "      <td>4.0</td>\n",
              "    </tr>\n",
              "    <tr>\n",
              "      <th>2008-04-05</th>\n",
              "      <td>3.0</td>\n",
              "    </tr>\n",
              "    <tr>\n",
              "      <th>2008-04-12</th>\n",
              "      <td>1.0</td>\n",
              "    </tr>\n",
              "    <tr>\n",
              "      <th>2008-04-19</th>\n",
              "      <td>3.0</td>\n",
              "    </tr>\n",
              "    <tr>\n",
              "      <th>2008-04-26</th>\n",
              "      <td>5.0</td>\n",
              "    </tr>\n",
              "  </tbody>\n",
              "</table>\n",
              "<p>939 rows × 1 columns</p>\n",
              "</div>"
            ],
            "text/plain": [
              "                 total_cases\n",
              "week_start_date             \n",
              "1990-05-05               4.0\n",
              "1990-05-12               5.0\n",
              "1990-05-19               4.0\n",
              "1990-05-26               3.0\n",
              "1990-06-02               6.0\n",
              "...                      ...\n",
              "2008-03-29               4.0\n",
              "2008-04-05               3.0\n",
              "2008-04-12               1.0\n",
              "2008-04-19               3.0\n",
              "2008-04-26               5.0\n",
              "\n",
              "[939 rows x 1 columns]"
            ]
          },
          "metadata": {
            "tags": []
          },
          "execution_count": 6
        }
      ]
    },
    {
      "cell_type": "code",
      "metadata": {
        "id": "E5_BBJM1xKXg"
      },
      "source": [
        "nn = Y.diff(12)"
      ],
      "execution_count": null,
      "outputs": []
    },
    {
      "cell_type": "code",
      "metadata": {
        "id": "n1h2Ks23yFah"
      },
      "source": [
        "nnn=nn.iloc[12:]"
      ],
      "execution_count": null,
      "outputs": []
    },
    {
      "cell_type": "code",
      "metadata": {
        "id": "osflMeqh0uRg"
      },
      "source": [
        "nnn.columns = ['diff']"
      ],
      "execution_count": null,
      "outputs": []
    },
    {
      "cell_type": "code",
      "metadata": {
        "id": "DBYekMSpySWz"
      },
      "source": [
        "yyy = Y.iloc[:-12]"
      ],
      "execution_count": null,
      "outputs": []
    },
    {
      "cell_type": "code",
      "metadata": {
        "id": "d56UaebRzipk"
      },
      "source": [
        "yyy.reset_index(inplace=True)"
      ],
      "execution_count": null,
      "outputs": []
    },
    {
      "cell_type": "code",
      "metadata": {
        "id": "qpfGTb1q1Tda"
      },
      "source": [
        "yyy = yyy.drop('week_start_date',axis=1)"
      ],
      "execution_count": null,
      "outputs": []
    },
    {
      "cell_type": "code",
      "metadata": {
        "id": "xXI1N6UOyWS-"
      },
      "source": [
        "yyy"
      ],
      "execution_count": null,
      "outputs": []
    },
    {
      "cell_type": "code",
      "metadata": {
        "id": "Ef18KAAY0cwc"
      },
      "source": [
        "df_undiff = pd.concat([nnn.reset_index(), yyy['total_cases']],axis=1)"
      ],
      "execution_count": null,
      "outputs": []
    },
    {
      "cell_type": "code",
      "metadata": {
        "id": "nB8Sf0ez2Hnf"
      },
      "source": [
        "df_undiff"
      ],
      "execution_count": null,
      "outputs": []
    },
    {
      "cell_type": "code",
      "metadata": {
        "id": "22ST09Vl0nGW"
      },
      "source": [
        "df_undiff['new'] = df_undiff['total_cases'] +df_undiff['diff']"
      ],
      "execution_count": null,
      "outputs": []
    },
    {
      "cell_type": "code",
      "metadata": {
        "id": "3fu8DSs5GCgb"
      },
      "source": [
        "Y.to_csv('df_eng.csv')"
      ],
      "execution_count": null,
      "outputs": []
    },
    {
      "cell_type": "markdown",
      "metadata": {
        "id": "mlmqfrOlIwq1"
      },
      "source": [
        "##Load Data"
      ]
    },
    {
      "cell_type": "code",
      "metadata": {
        "colab": {
          "base_uri": "https://localhost:8080/",
          "height": 418
        },
        "id": "qRFqROuxIyw_",
        "outputId": "b01e2a9b-87e4-4341-d809-065ad8b6a873"
      },
      "source": [
        "# line plot of time series\r\n",
        "from pandas import read_csv\r\n",
        "from matplotlib import pyplot\r\n",
        "# load dataset\r\n",
        "series = read_csv('df_eng.csv', header=0, index_col=0)\r\n",
        "# display first few rows\r\n",
        "print(series.head(5))\r\n",
        "# line plot of dataset\r\n",
        "series.plot()\r\n",
        "pyplot.show()"
      ],
      "execution_count": null,
      "outputs": [
        {
          "output_type": "stream",
          "text": [
            "                 total_cases\n",
            "week_start_date             \n",
            "1990-05-05               4.0\n",
            "1990-05-12               5.0\n",
            "1990-05-19               4.0\n",
            "1990-05-26               3.0\n",
            "1990-06-02               6.0\n"
          ],
          "name": "stdout"
        },
        {
          "output_type": "display_data",
          "data": {
            "image/png": "[encoded data removed]",
            "text/plain": [
              "<Figure size 432x288 with 1 Axes>"
            ]
          },
          "metadata": {
            "tags": []
          }
        }
      ]
    },
    {
      "cell_type": "markdown",
      "metadata": {
        "id": "QnCDL5ZGI9_V"
      },
      "source": [
        "##make stationary"
      ]
    },
    {
      "cell_type": "code",
      "metadata": {
        "colab": {
          "base_uri": "https://localhost:8080/",
          "height": 304
        },
        "id": "kAfHA2gZJAEO",
        "outputId": "eb802df9-a7b0-4309-82cd-04282276638b"
      },
      "source": [
        "# seasonally adjust the time series\r\n",
        "from pandas import read_csv\r\n",
        "from matplotlib import pyplot\r\n",
        "# load dataset\r\n",
        "series = read_csv('df_eng.csv', header=0, index_col=0)\r\n",
        "# seasonal difference\r\n",
        "differenced = series.diff(12)\r\n",
        "#differenced = series\r\n",
        "# trim off the first year of empty data\r\n",
        "differenced = differenced[12:]\r\n",
        "# save differenced dataset to file\r\n",
        "differenced.to_csv('seasonally_adjusted.csv', index=False)\r\n",
        "# plot differenced dataset\r\n",
        "differenced.plot()\r\n",
        "pyplot.show()"
      ],
      "execution_count": null,
      "outputs": [
        {
          "output_type": "display_data",
          "data": {
            "image/png": "[encoded data removed]",
            "text/plain": [
              "<Figure size 432x288 with 1 Axes>"
            ]
          },
          "metadata": {
            "tags": []
          }
        }
      ]
    },
    {
      "cell_type": "markdown",
      "metadata": {
        "id": "0-W_ui_sJO-K"
      },
      "source": [
        "#Autocorr"
      ]
    },
    {
      "cell_type": "code",
      "metadata": {
        "colab": {
          "base_uri": "https://localhost:8080/",
          "height": 302
        },
        "id": "faIKEmYJJPVc",
        "outputId": "55b043ae-2d6e-4299-d41e-ed78efeab618"
      },
      "source": [
        "from pandas import read_csv\r\n",
        "from statsmodels.graphics.tsaplots import plot_acf\r\n",
        "from matplotlib import pyplot\r\n",
        "series = read_csv('seasonally_adjusted.csv', header=0)\r\n",
        "plot_acf(series)\r\n",
        "pyplot.show()"
      ],
      "execution_count": null,
      "outputs": [
        {
          "output_type": "display_data",
          "data": {
            "image/png": "[encoded data removed]",
            "text/plain": [
              "<Figure size 432x288 with 1 Axes>"
            ]
          },
          "metadata": {
            "tags": []
          }
        }
      ]
    },
    {
      "cell_type": "markdown",
      "metadata": {
        "id": "524lXDHBLRit"
      },
      "source": [
        "##time series to supervised learning"
      ]
    },
    {
      "cell_type": "code",
      "metadata": {
        "colab": {
          "base_uri": "https://localhost:8080/",
          "height": 431
        },
        "id": "1uNfjYDELf0y",
        "outputId": "191fff37-b673-4cc3-b794-90ba849b7e6c"
      },
      "source": [
        "series"
      ],
      "execution_count": null,
      "outputs": [
        {
          "output_type": "execute_result",
          "data": {
            "text/html": [
              "<div>\n",
              "<style scoped>\n",
              "    .dataframe tbody tr th:only-of-type {\n",
              "        vertical-align: middle;\n",
              "    }\n",
              "\n",
              "    .dataframe tbody tr th {\n",
              "        vertical-align: top;\n",
              "    }\n",
              "\n",
              "    .dataframe thead th {\n",
              "        text-align: right;\n",
              "    }\n",
              "</style>\n",
              "<table border=\"1\" class=\"dataframe\">\n",
              "  <thead>\n",
              "    <tr style=\"text-align: right;\">\n",
              "      <th></th>\n",
              "      <th>total_cases</th>\n",
              "    </tr>\n",
              "    <tr>\n",
              "      <th>week_start_date</th>\n",
              "      <th></th>\n",
              "    </tr>\n",
              "  </thead>\n",
              "  <tbody>\n",
              "    <tr>\n",
              "      <th>1990-05-05</th>\n",
              "      <td>4.0</td>\n",
              "    </tr>\n",
              "    <tr>\n",
              "      <th>1990-05-12</th>\n",
              "      <td>5.0</td>\n",
              "    </tr>\n",
              "    <tr>\n",
              "      <th>1990-05-19</th>\n",
              "      <td>4.0</td>\n",
              "    </tr>\n",
              "    <tr>\n",
              "      <th>1990-05-26</th>\n",
              "      <td>3.0</td>\n",
              "    </tr>\n",
              "    <tr>\n",
              "      <th>1990-06-02</th>\n",
              "      <td>6.0</td>\n",
              "    </tr>\n",
              "    <tr>\n",
              "      <th>...</th>\n",
              "      <td>...</td>\n",
              "    </tr>\n",
              "    <tr>\n",
              "      <th>2008-03-29</th>\n",
              "      <td>4.0</td>\n",
              "    </tr>\n",
              "    <tr>\n",
              "      <th>2008-04-05</th>\n",
              "      <td>3.0</td>\n",
              "    </tr>\n",
              "    <tr>\n",
              "      <th>2008-04-12</th>\n",
              "      <td>1.0</td>\n",
              "    </tr>\n",
              "    <tr>\n",
              "      <th>2008-04-19</th>\n",
              "      <td>3.0</td>\n",
              "    </tr>\n",
              "    <tr>\n",
              "      <th>2008-04-26</th>\n",
              "      <td>5.0</td>\n",
              "    </tr>\n",
              "  </tbody>\n",
              "</table>\n",
              "<p>939 rows × 1 columns</p>\n",
              "</div>"
            ],
            "text/plain": [
              "                 total_cases\n",
              "week_start_date             \n",
              "1990-05-05               4.0\n",
              "1990-05-12               5.0\n",
              "1990-05-19               4.0\n",
              "1990-05-26               3.0\n",
              "1990-06-02               6.0\n",
              "...                      ...\n",
              "2008-03-29               4.0\n",
              "2008-04-05               3.0\n",
              "2008-04-12               1.0\n",
              "2008-04-19               3.0\n",
              "2008-04-26               5.0\n",
              "\n",
              "[939 rows x 1 columns]"
            ]
          },
          "metadata": {
            "tags": []
          },
          "execution_count": 144
        }
      ]
    },
    {
      "cell_type": "code",
      "metadata": {
        "id": "ufFK9et1NAQv"
      },
      "source": [
        "series"
      ],
      "execution_count": null,
      "outputs": []
    },
    {
      "cell_type": "markdown",
      "metadata": {
        "id": "MUgkMf8wU5Gg"
      },
      "source": [
        "##XGBOOST"
      ]
    },
    {
      "cell_type": "markdown",
      "metadata": {
        "id": "7rIy82F6U4xl"
      },
      "source": [
        ""
      ]
    },
    {
      "cell_type": "code",
      "metadata": {
        "colab": {
          "base_uri": "https://localhost:8080/"
        },
        "id": "NZlpDybvLVHC",
        "outputId": "0e168484-589a-4bc0-fd23-46b9fe9c1b0d"
      },
      "source": [
        "from pandas import read_csv\r\n",
        "from pandas import DataFrame\r\n",
        "# load dataset\r\n",
        "series = read_csv('seasonally_adjusted.csv', header=0)\r\n",
        "#series = read_csv('df_eng.csv', header=0,index_col=0)\r\n",
        "# reframe as supervised learning\r\n",
        "dataframe = DataFrame()\r\n",
        "for i in range(12,0,-1):\r\n",
        "\tdataframe['t-'+str(i)] = series.shift(i).values[:,0]\r\n",
        "dataframe['t'] = series.values[:,0]\r\n",
        "print(dataframe.head(14))\r\n",
        "dataframe = dataframe[13:]\r\n",
        "# save to new file\r\n",
        "dataframe.to_csv('lags_12months_features.csv', index=False)"
      ],
      "execution_count": null,
      "outputs": [
        {
          "output_type": "stream",
          "text": [
            "    t-12  t-11  t-10   t-9   t-8   t-7  ...   t-5   t-4   t-3   t-2   t-1     t\n",
            "0    NaN   NaN   NaN   NaN   NaN   NaN  ...   NaN   NaN   NaN   NaN   NaN   2.0\n",
            "1    NaN   NaN   NaN   NaN   NaN   NaN  ...   NaN   NaN   NaN   NaN   2.0  12.0\n",
            "2    NaN   NaN   NaN   NaN   NaN   NaN  ...   NaN   NaN   NaN   2.0  12.0  19.0\n",
            "3    NaN   NaN   NaN   NaN   NaN   NaN  ...   NaN   NaN   2.0  12.0  19.0  10.0\n",
            "4    NaN   NaN   NaN   NaN   NaN   NaN  ...   NaN   2.0  12.0  19.0  10.0  15.0\n",
            "5    NaN   NaN   NaN   NaN   NaN   NaN  ...   2.0  12.0  19.0  10.0  15.0  26.0\n",
            "6    NaN   NaN   NaN   NaN   NaN   NaN  ...  12.0  19.0  10.0  15.0  26.0  20.0\n",
            "7    NaN   NaN   NaN   NaN   NaN   2.0  ...  19.0  10.0  15.0  26.0  20.0  15.0\n",
            "8    NaN   NaN   NaN   NaN   2.0  12.0  ...  10.0  15.0  26.0  20.0  15.0  30.0\n",
            "9    NaN   NaN   NaN   2.0  12.0  19.0  ...  15.0  26.0  20.0  15.0  30.0  21.0\n",
            "10   NaN   NaN   2.0  12.0  19.0  10.0  ...  26.0  20.0  15.0  30.0  21.0  34.0\n",
            "11   NaN   2.0  12.0  19.0  10.0  15.0  ...  20.0  15.0  30.0  21.0  34.0  31.0\n",
            "12   2.0  12.0  19.0  10.0  15.0  26.0  ...  15.0  30.0  21.0  34.0  31.0  37.0\n",
            "13  12.0  19.0  10.0  15.0  26.0  20.0  ...  30.0  21.0  34.0  31.0  37.0  20.0\n",
            "\n",
            "[14 rows x 13 columns]\n"
          ],
          "name": "stdout"
        }
      ]
    },
    {
      "cell_type": "code",
      "metadata": {
        "colab": {
          "base_uri": "https://localhost:8080/",
          "height": 419
        },
        "id": "6YjNYqnkNt8W",
        "outputId": "28a2aba5-2257-48b9-cd0c-03de48a216f1"
      },
      "source": [
        "dataframe"
      ],
      "execution_count": null,
      "outputs": [
        {
          "output_type": "execute_result",
          "data": {
            "text/html": [
              "<div>\n",
              "<style scoped>\n",
              "    .dataframe tbody tr th:only-of-type {\n",
              "        vertical-align: middle;\n",
              "    }\n",
              "\n",
              "    .dataframe tbody tr th {\n",
              "        vertical-align: top;\n",
              "    }\n",
              "\n",
              "    .dataframe thead th {\n",
              "        text-align: right;\n",
              "    }\n",
              "</style>\n",
              "<table border=\"1\" class=\"dataframe\">\n",
              "  <thead>\n",
              "    <tr style=\"text-align: right;\">\n",
              "      <th></th>\n",
              "      <th>t-12</th>\n",
              "      <th>t-11</th>\n",
              "      <th>t-10</th>\n",
              "      <th>t-9</th>\n",
              "      <th>t-8</th>\n",
              "      <th>t-7</th>\n",
              "      <th>t-6</th>\n",
              "      <th>t-5</th>\n",
              "      <th>t-4</th>\n",
              "      <th>t-3</th>\n",
              "      <th>t-2</th>\n",
              "      <th>t-1</th>\n",
              "      <th>t</th>\n",
              "    </tr>\n",
              "  </thead>\n",
              "  <tbody>\n",
              "    <tr>\n",
              "      <th>13</th>\n",
              "      <td>12.000000</td>\n",
              "      <td>19.000000</td>\n",
              "      <td>10.0</td>\n",
              "      <td>15.0</td>\n",
              "      <td>26.0</td>\n",
              "      <td>20.0</td>\n",
              "      <td>15.0</td>\n",
              "      <td>30.0</td>\n",
              "      <td>21.0</td>\n",
              "      <td>34.0</td>\n",
              "      <td>31.0</td>\n",
              "      <td>37.0</td>\n",
              "      <td>20.0</td>\n",
              "    </tr>\n",
              "    <tr>\n",
              "      <th>14</th>\n",
              "      <td>19.000000</td>\n",
              "      <td>10.000000</td>\n",
              "      <td>15.0</td>\n",
              "      <td>26.0</td>\n",
              "      <td>20.0</td>\n",
              "      <td>15.0</td>\n",
              "      <td>30.0</td>\n",
              "      <td>21.0</td>\n",
              "      <td>34.0</td>\n",
              "      <td>31.0</td>\n",
              "      <td>37.0</td>\n",
              "      <td>20.0</td>\n",
              "      <td>34.0</td>\n",
              "    </tr>\n",
              "    <tr>\n",
              "      <th>15</th>\n",
              "      <td>10.000000</td>\n",
              "      <td>15.000000</td>\n",
              "      <td>26.0</td>\n",
              "      <td>20.0</td>\n",
              "      <td>15.0</td>\n",
              "      <td>30.0</td>\n",
              "      <td>21.0</td>\n",
              "      <td>34.0</td>\n",
              "      <td>31.0</td>\n",
              "      <td>37.0</td>\n",
              "      <td>20.0</td>\n",
              "      <td>34.0</td>\n",
              "      <td>58.0</td>\n",
              "    </tr>\n",
              "    <tr>\n",
              "      <th>16</th>\n",
              "      <td>15.000000</td>\n",
              "      <td>26.000000</td>\n",
              "      <td>20.0</td>\n",
              "      <td>15.0</td>\n",
              "      <td>30.0</td>\n",
              "      <td>21.0</td>\n",
              "      <td>34.0</td>\n",
              "      <td>31.0</td>\n",
              "      <td>37.0</td>\n",
              "      <td>20.0</td>\n",
              "      <td>34.0</td>\n",
              "      <td>58.0</td>\n",
              "      <td>23.0</td>\n",
              "    </tr>\n",
              "    <tr>\n",
              "      <th>17</th>\n",
              "      <td>26.000000</td>\n",
              "      <td>20.000000</td>\n",
              "      <td>15.0</td>\n",
              "      <td>30.0</td>\n",
              "      <td>21.0</td>\n",
              "      <td>34.0</td>\n",
              "      <td>31.0</td>\n",
              "      <td>37.0</td>\n",
              "      <td>20.0</td>\n",
              "      <td>34.0</td>\n",
              "      <td>58.0</td>\n",
              "      <td>23.0</td>\n",
              "      <td>28.0</td>\n",
              "    </tr>\n",
              "    <tr>\n",
              "      <th>...</th>\n",
              "      <td>...</td>\n",
              "      <td>...</td>\n",
              "      <td>...</td>\n",
              "      <td>...</td>\n",
              "      <td>...</td>\n",
              "      <td>...</td>\n",
              "      <td>...</td>\n",
              "      <td>...</td>\n",
              "      <td>...</td>\n",
              "      <td>...</td>\n",
              "      <td>...</td>\n",
              "      <td>...</td>\n",
              "      <td>...</td>\n",
              "    </tr>\n",
              "    <tr>\n",
              "      <th>922</th>\n",
              "      <td>-53.857143</td>\n",
              "      <td>-54.428571</td>\n",
              "      <td>-53.0</td>\n",
              "      <td>-38.0</td>\n",
              "      <td>-39.0</td>\n",
              "      <td>-24.0</td>\n",
              "      <td>-27.0</td>\n",
              "      <td>-21.0</td>\n",
              "      <td>-12.0</td>\n",
              "      <td>-11.0</td>\n",
              "      <td>-11.0</td>\n",
              "      <td>-14.0</td>\n",
              "      <td>-11.0</td>\n",
              "    </tr>\n",
              "    <tr>\n",
              "      <th>923</th>\n",
              "      <td>-54.428571</td>\n",
              "      <td>-53.000000</td>\n",
              "      <td>-38.0</td>\n",
              "      <td>-39.0</td>\n",
              "      <td>-24.0</td>\n",
              "      <td>-27.0</td>\n",
              "      <td>-21.0</td>\n",
              "      <td>-12.0</td>\n",
              "      <td>-11.0</td>\n",
              "      <td>-11.0</td>\n",
              "      <td>-14.0</td>\n",
              "      <td>-11.0</td>\n",
              "      <td>-11.0</td>\n",
              "    </tr>\n",
              "    <tr>\n",
              "      <th>924</th>\n",
              "      <td>-53.000000</td>\n",
              "      <td>-38.000000</td>\n",
              "      <td>-39.0</td>\n",
              "      <td>-24.0</td>\n",
              "      <td>-27.0</td>\n",
              "      <td>-21.0</td>\n",
              "      <td>-12.0</td>\n",
              "      <td>-11.0</td>\n",
              "      <td>-11.0</td>\n",
              "      <td>-14.0</td>\n",
              "      <td>-11.0</td>\n",
              "      <td>-11.0</td>\n",
              "      <td>-14.0</td>\n",
              "    </tr>\n",
              "    <tr>\n",
              "      <th>925</th>\n",
              "      <td>-38.000000</td>\n",
              "      <td>-39.000000</td>\n",
              "      <td>-24.0</td>\n",
              "      <td>-27.0</td>\n",
              "      <td>-21.0</td>\n",
              "      <td>-12.0</td>\n",
              "      <td>-11.0</td>\n",
              "      <td>-11.0</td>\n",
              "      <td>-14.0</td>\n",
              "      <td>-11.0</td>\n",
              "      <td>-11.0</td>\n",
              "      <td>-14.0</td>\n",
              "      <td>-7.0</td>\n",
              "    </tr>\n",
              "    <tr>\n",
              "      <th>926</th>\n",
              "      <td>-39.000000</td>\n",
              "      <td>-24.000000</td>\n",
              "      <td>-27.0</td>\n",
              "      <td>-21.0</td>\n",
              "      <td>-12.0</td>\n",
              "      <td>-11.0</td>\n",
              "      <td>-11.0</td>\n",
              "      <td>-14.0</td>\n",
              "      <td>-11.0</td>\n",
              "      <td>-11.0</td>\n",
              "      <td>-14.0</td>\n",
              "      <td>-7.0</td>\n",
              "      <td>-4.0</td>\n",
              "    </tr>\n",
              "  </tbody>\n",
              "</table>\n",
              "<p>914 rows × 13 columns</p>\n",
              "</div>"
            ],
            "text/plain": [
              "          t-12       t-11  t-10   t-9   t-8  ...   t-4   t-3   t-2   t-1     t\n",
              "13   12.000000  19.000000  10.0  15.0  26.0  ...  21.0  34.0  31.0  37.0  20.0\n",
              "14   19.000000  10.000000  15.0  26.0  20.0  ...  34.0  31.0  37.0  20.0  34.0\n",
              "15   10.000000  15.000000  26.0  20.0  15.0  ...  31.0  37.0  20.0  34.0  58.0\n",
              "16   15.000000  26.000000  20.0  15.0  30.0  ...  37.0  20.0  34.0  58.0  23.0\n",
              "17   26.000000  20.000000  15.0  30.0  21.0  ...  20.0  34.0  58.0  23.0  28.0\n",
              "..         ...        ...   ...   ...   ...  ...   ...   ...   ...   ...   ...\n",
              "922 -53.857143 -54.428571 -53.0 -38.0 -39.0  ... -12.0 -11.0 -11.0 -14.0 -11.0\n",
              "923 -54.428571 -53.000000 -38.0 -39.0 -24.0  ... -11.0 -11.0 -14.0 -11.0 -11.0\n",
              "924 -53.000000 -38.000000 -39.0 -24.0 -27.0  ... -11.0 -14.0 -11.0 -11.0 -14.0\n",
              "925 -38.000000 -39.000000 -24.0 -27.0 -21.0  ... -14.0 -11.0 -11.0 -14.0  -7.0\n",
              "926 -39.000000 -24.000000 -27.0 -21.0 -12.0  ... -11.0 -11.0 -14.0  -7.0  -4.0\n",
              "\n",
              "[914 rows x 13 columns]"
            ]
          },
          "metadata": {
            "tags": []
          },
          "execution_count": 44
        }
      ]
    },
    {
      "cell_type": "code",
      "metadata": {
        "id": "H0gmy4Y-Xts3"
      },
      "source": [
        "from numpy import asarray\r\n",
        "from pandas import read_csv\r\n",
        "from pandas import DataFrame\r\n",
        "from pandas import concat\r\n",
        "from sklearn.metrics import mean_absolute_error\r\n",
        "from xgboost import XGBRegressor\r\n",
        "from matplotlib import pyplot"
      ],
      "execution_count": null,
      "outputs": []
    },
    {
      "cell_type": "code",
      "metadata": {
        "id": "SpJC33_8PzCP"
      },
      "source": [
        "series"
      ],
      "execution_count": null,
      "outputs": []
    },
    {
      "cell_type": "code",
      "metadata": {
        "id": "WcasoC26VBWJ"
      },
      "source": [
        "# transform a time series dataset into a supervised learning dataset\r\n",
        "def series_to_supervised(data, n_in=1, n_out=1, dropnan=True):\r\n",
        "\tn_vars = 1 if type(data) is list else data.shape[1]\r\n",
        "\tdf = pd.DataFrame(data)\r\n",
        "\tcols = list()\r\n",
        "\t# input sequence (t-n, ... t-1)\r\n",
        "\tfor i in range(n_in, 0, -1):\r\n",
        "\t\tcols.append(df.shift(i))\r\n",
        "\t# forecast sequence (t, t+1, ... t+n)\r\n",
        "\tfor i in range(0, n_out):\r\n",
        "\t\tcols.append(df.shift(-i))\r\n",
        "\t# put it all together\r\n",
        "\tagg = pd.concat(cols, axis=1)\r\n",
        "\t# drop rows with NaN values\r\n",
        "\tif dropnan:\r\n",
        "\t\tagg.dropna(inplace=True)\r\n",
        "\treturn agg.values"
      ],
      "execution_count": null,
      "outputs": []
    },
    {
      "cell_type": "code",
      "metadata": {
        "id": "tBlG3eFTVBR7"
      },
      "source": [
        "data = series_to_supervised(series,n_in=12)"
      ],
      "execution_count": null,
      "outputs": []
    },
    {
      "cell_type": "code",
      "metadata": {
        "colab": {
          "base_uri": "https://localhost:8080/"
        },
        "id": "IeJRODeWVBPx",
        "outputId": "64fc6903-c615-4da1-9d8e-4b745c4d08c2"
      },
      "source": [
        "data"
      ],
      "execution_count": null,
      "outputs": [
        {
          "output_type": "execute_result",
          "data": {
            "text/plain": [
              "array([[  2.,  12.,  19., ...,  34.,  31.,  37.],\n",
              "       [ 12.,  19.,  10., ...,  31.,  37.,  20.],\n",
              "       [ 19.,  10.,  15., ...,  37.,  20.,  34.],\n",
              "       ...,\n",
              "       [-53., -38., -39., ..., -11., -11., -14.],\n",
              "       [-38., -39., -24., ..., -11., -14.,  -7.],\n",
              "       [-39., -24., -27., ..., -14.,  -7.,  -4.]])"
            ]
          },
          "metadata": {
            "tags": []
          },
          "execution_count": 47
        }
      ]
    },
    {
      "cell_type": "code",
      "metadata": {
        "id": "rFLM1jK129az"
      },
      "source": [
        "yyy"
      ],
      "execution_count": null,
      "outputs": []
    },
    {
      "cell_type": "code",
      "metadata": {
        "colab": {
          "base_uri": "https://localhost:8080/",
          "height": 450
        },
        "id": "WqsKE8ja3Jua",
        "outputId": "20c47092-8e82-4bee-8a70-0a7cc90cf5b7"
      },
      "source": [
        "nnn"
      ],
      "execution_count": null,
      "outputs": [
        {
          "output_type": "execute_result",
          "data": {
            "text/html": [
              "<div>\n",
              "<style scoped>\n",
              "    .dataframe tbody tr th:only-of-type {\n",
              "        vertical-align: middle;\n",
              "    }\n",
              "\n",
              "    .dataframe tbody tr th {\n",
              "        vertical-align: top;\n",
              "    }\n",
              "\n",
              "    .dataframe thead th {\n",
              "        text-align: right;\n",
              "    }\n",
              "</style>\n",
              "<table border=\"1\" class=\"dataframe\">\n",
              "  <thead>\n",
              "    <tr style=\"text-align: right;\">\n",
              "      <th></th>\n",
              "      <th>diff</th>\n",
              "    </tr>\n",
              "    <tr>\n",
              "      <th>week_start_date</th>\n",
              "      <th></th>\n",
              "    </tr>\n",
              "  </thead>\n",
              "  <tbody>\n",
              "    <tr>\n",
              "      <th>1990-07-28</th>\n",
              "      <td>2.0</td>\n",
              "    </tr>\n",
              "    <tr>\n",
              "      <th>1990-08-04</th>\n",
              "      <td>12.0</td>\n",
              "    </tr>\n",
              "    <tr>\n",
              "      <th>1990-08-11</th>\n",
              "      <td>19.0</td>\n",
              "    </tr>\n",
              "    <tr>\n",
              "      <th>1990-08-18</th>\n",
              "      <td>10.0</td>\n",
              "    </tr>\n",
              "    <tr>\n",
              "      <th>1990-08-25</th>\n",
              "      <td>15.0</td>\n",
              "    </tr>\n",
              "    <tr>\n",
              "      <th>...</th>\n",
              "      <td>...</td>\n",
              "    </tr>\n",
              "    <tr>\n",
              "      <th>2008-03-29</th>\n",
              "      <td>-11.0</td>\n",
              "    </tr>\n",
              "    <tr>\n",
              "      <th>2008-04-05</th>\n",
              "      <td>-11.0</td>\n",
              "    </tr>\n",
              "    <tr>\n",
              "      <th>2008-04-12</th>\n",
              "      <td>-14.0</td>\n",
              "    </tr>\n",
              "    <tr>\n",
              "      <th>2008-04-19</th>\n",
              "      <td>-7.0</td>\n",
              "    </tr>\n",
              "    <tr>\n",
              "      <th>2008-04-26</th>\n",
              "      <td>-4.0</td>\n",
              "    </tr>\n",
              "  </tbody>\n",
              "</table>\n",
              "<p>927 rows × 1 columns</p>\n",
              "</div>"
            ],
            "text/plain": [
              "                 diff\n",
              "week_start_date      \n",
              "1990-07-28        2.0\n",
              "1990-08-04       12.0\n",
              "1990-08-11       19.0\n",
              "1990-08-18       10.0\n",
              "1990-08-25       15.0\n",
              "...               ...\n",
              "2008-03-29      -11.0\n",
              "2008-04-05      -11.0\n",
              "2008-04-12      -14.0\n",
              "2008-04-19       -7.0\n",
              "2008-04-26       -4.0\n",
              "\n",
              "[927 rows x 1 columns]"
            ]
          },
          "metadata": {
            "tags": []
          },
          "execution_count": 291
        }
      ]
    },
    {
      "cell_type": "code",
      "metadata": {
        "colab": {
          "base_uri": "https://localhost:8080/"
        },
        "id": "zLRQdLbWVBNz",
        "outputId": "e53c3619-0dd9-4253-bfd0-ee4b21e3c8cc"
      },
      "source": [
        "!pip install xgboost"
      ],
      "execution_count": null,
      "outputs": [
        {
          "output_type": "stream",
          "text": [
            "Requirement already satisfied: xgboost in /usr/local/lib/python3.6/dist-packages (0.90)\n",
            "Requirement already satisfied: numpy in /usr/local/lib/python3.6/dist-packages (from xgboost) (1.19.5)\n",
            "Requirement already satisfied: scipy in /usr/local/lib/python3.6/dist-packages (from xgboost) (1.4.1)\n"
          ],
          "name": "stdout"
        }
      ]
    },
    {
      "cell_type": "code",
      "metadata": {
        "id": "z_XW9cdpWD-i"
      },
      "source": [
        "from sklearn.metrics import mean_absolute_error\r\n",
        "from xgboost import XGBRegressor"
      ],
      "execution_count": null,
      "outputs": []
    },
    {
      "cell_type": "code",
      "metadata": {
        "id": "SL7hK4DuWD5u"
      },
      "source": [
        "# split a univariate dataset into train/test sets\r\n",
        "def train_test_split(data, n_test):\r\n",
        "\treturn data[:-n_test, :], data[-n_test:, :]"
      ],
      "execution_count": null,
      "outputs": []
    },
    {
      "cell_type": "code",
      "metadata": {
        "id": "QzRYO3dYZjyB"
      },
      "source": [
        "train, test = train_test_split(data, 156)"
      ],
      "execution_count": null,
      "outputs": []
    },
    {
      "cell_type": "code",
      "metadata": {
        "colab": {
          "base_uri": "https://localhost:8080/"
        },
        "id": "PuQyFq6RwzRH",
        "outputId": "5e99b2ad-1db7-4909-e2e2-b21720f1bca6"
      },
      "source": [
        "len(Y)"
      ],
      "execution_count": null,
      "outputs": [
        {
          "output_type": "execute_result",
          "data": {
            "text/plain": [
              "914"
            ]
          },
          "metadata": {
            "tags": []
          },
          "execution_count": 221
        }
      ]
    },
    {
      "cell_type": "code",
      "metadata": {
        "colab": {
          "base_uri": "https://localhost:8080/"
        },
        "id": "I087GWkHcZjd",
        "outputId": "33d1f084-c630-4255-861f-f76a3587a57c"
      },
      "source": [
        "len(data)"
      ],
      "execution_count": null,
      "outputs": [
        {
          "output_type": "execute_result",
          "data": {
            "text/plain": [
              "915"
            ]
          },
          "metadata": {
            "tags": []
          },
          "execution_count": 213
        }
      ]
    },
    {
      "cell_type": "code",
      "metadata": {
        "colab": {
          "base_uri": "https://localhost:8080/"
        },
        "id": "q-N3g_UUwJsz",
        "outputId": "769bcef6-72cf-40e0-98ca-b0bf92bb387b"
      },
      "source": [
        "len(test)"
      ],
      "execution_count": null,
      "outputs": [
        {
          "output_type": "execute_result",
          "data": {
            "text/plain": [
              "156"
            ]
          },
          "metadata": {
            "tags": []
          },
          "execution_count": 214
        }
      ]
    },
    {
      "cell_type": "code",
      "metadata": {
        "colab": {
          "base_uri": "https://localhost:8080/"
        },
        "id": "c_BjUw7lvW4y",
        "outputId": "c406cf92-6e2e-4e2e-a048-293e92307252"
      },
      "source": [
        "len(data[-168:-12])"
      ],
      "execution_count": null,
      "outputs": [
        {
          "output_type": "execute_result",
          "data": {
            "text/plain": [
              "156"
            ]
          },
          "metadata": {
            "tags": []
          },
          "execution_count": 215
        }
      ]
    },
    {
      "cell_type": "code",
      "metadata": {
        "id": "3RQo35GMwRyw"
      },
      "source": [
        "m =data[-168:-12]"
      ],
      "execution_count": null,
      "outputs": []
    },
    {
      "cell_type": "code",
      "metadata": {
        "id": "-rcOAl2lwVKN"
      },
      "source": [
        "m[:5]"
      ],
      "execution_count": null,
      "outputs": []
    },
    {
      "cell_type": "code",
      "metadata": {
        "id": "1f-946Kpa20-"
      },
      "source": [
        "train, test = train_test_split(data, 156)\r\n",
        "\t# seed history with training dataset\r\n",
        "history = [x for x in train]"
      ],
      "execution_count": null,
      "outputs": []
    },
    {
      "cell_type": "code",
      "metadata": {
        "id": "9nodZxcnsIBm"
      },
      "source": [
        "test"
      ],
      "execution_count": null,
      "outputs": []
    },
    {
      "cell_type": "code",
      "metadata": {
        "id": "dRMjJqzPsHZY"
      },
      "source": [
        "testX, testy = test[i, :-1], test[i, -1]"
      ],
      "execution_count": null,
      "outputs": []
    },
    {
      "cell_type": "code",
      "metadata": {
        "id": "fXROYWuBswML"
      },
      "source": [
        "trainX, trainy = train[:, :-1], train[:, -1]"
      ],
      "execution_count": null,
      "outputs": []
    },
    {
      "cell_type": "code",
      "metadata": {
        "id": "zWNxE3jpbJ5_"
      },
      "source": [
        "history"
      ],
      "execution_count": null,
      "outputs": []
    },
    {
      "cell_type": "code",
      "metadata": {
        "id": "R3ueamudWD2a"
      },
      "source": [
        "# walk-forward validation for univariate data\r\n",
        "def walk_forward_validation(data, n_test):\r\n",
        "\tpredictions = list()\r\n",
        "\t# split dataset\r\n",
        "\ttrain, test = train_test_split(data, n_test)\r\n",
        "\t# seed history with training dataset\r\n",
        "\thistory = [x for x in train]\r\n",
        "\t# step over each time-step in the test set\r\n",
        "\tfor i in range(len(test)):\r\n",
        "\t\t# split test row into input and output columns\r\n",
        "\t\ttestX, testy = test[i, :-1], test[i, -1]\r\n",
        "\t\t# fit model on history and make a prediction\r\n",
        "\t\tyhat = xgboost_forecast(history, testX)\r\n",
        "\t\t# store forecast in list of predictions\r\n",
        "\t\tpredictions.append(yhat)\r\n",
        "\t\t# add actual observation to history for the next loop\r\n",
        "\t\thistory.append(test[i])\r\n",
        "\t\t# summarize progress\r\n",
        "\t\tprint('>expected=%.1f, predicted=%.1f' % (testy, yhat))\r\n",
        "\t# estimate prediction error\r\n",
        "\terror = mean_absolute_error(test[:, -1], predictions)\r\n",
        "\treturn error, test[:, 1], predictions"
      ],
      "execution_count": null,
      "outputs": []
    },
    {
      "cell_type": "code",
      "metadata": {
        "id": "bbxvqN5b7qRN"
      },
      "source": [
        ""
      ],
      "execution_count": null,
      "outputs": []
    },
    {
      "cell_type": "code",
      "metadata": {
        "id": "5-7G7x9IXQuU"
      },
      "source": [
        "# fit an xgboost model and make a one step prediction\r\n",
        "def xgboost_forecast(train, testX):\r\n",
        "\t# transform list into array\r\n",
        "\ttrain = asarray(train)\r\n",
        "\t# split into input and output columns\r\n",
        "\ttrainX, trainy = train[:, :-1], train[:, -1]\r\n",
        "\t# fit model\r\n",
        "\tmodel = XGBRegressor(objective='reg:squarederror', n_estimators=1000)\r\n",
        "\tmodel.fit(trainX, trainy)\r\n",
        "\t# make a one-step prediction\r\n",
        "\tyhat = model.predict([testX])\r\n",
        "\treturn yhat[0]"
      ],
      "execution_count": null,
      "outputs": []
    },
    {
      "cell_type": "code",
      "metadata": {
        "id": "GMJe40f9Nd0m",
        "colab": {
          "base_uri": "https://localhost:8080/",
          "height": 419
        },
        "outputId": "9080b3bf-1c21-4e99-8474-12093ab268f9"
      },
      "source": [
        "dataframe"
      ],
      "execution_count": null,
      "outputs": [
        {
          "output_type": "execute_result",
          "data": {
            "text/html": [
              "<div>\n",
              "<style scoped>\n",
              "    .dataframe tbody tr th:only-of-type {\n",
              "        vertical-align: middle;\n",
              "    }\n",
              "\n",
              "    .dataframe tbody tr th {\n",
              "        vertical-align: top;\n",
              "    }\n",
              "\n",
              "    .dataframe thead th {\n",
              "        text-align: right;\n",
              "    }\n",
              "</style>\n",
              "<table border=\"1\" class=\"dataframe\">\n",
              "  <thead>\n",
              "    <tr style=\"text-align: right;\">\n",
              "      <th></th>\n",
              "      <th>t-12</th>\n",
              "      <th>t-11</th>\n",
              "      <th>t-10</th>\n",
              "      <th>t-9</th>\n",
              "      <th>t-8</th>\n",
              "      <th>t-7</th>\n",
              "      <th>t-6</th>\n",
              "      <th>t-5</th>\n",
              "      <th>t-4</th>\n",
              "      <th>t-3</th>\n",
              "      <th>t-2</th>\n",
              "      <th>t-1</th>\n",
              "      <th>t</th>\n",
              "    </tr>\n",
              "  </thead>\n",
              "  <tbody>\n",
              "    <tr>\n",
              "      <th>13</th>\n",
              "      <td>12.000000</td>\n",
              "      <td>19.000000</td>\n",
              "      <td>10.0</td>\n",
              "      <td>15.0</td>\n",
              "      <td>26.0</td>\n",
              "      <td>20.0</td>\n",
              "      <td>15.0</td>\n",
              "      <td>30.0</td>\n",
              "      <td>21.0</td>\n",
              "      <td>34.0</td>\n",
              "      <td>31.0</td>\n",
              "      <td>37.0</td>\n",
              "      <td>20.0</td>\n",
              "    </tr>\n",
              "    <tr>\n",
              "      <th>14</th>\n",
              "      <td>19.000000</td>\n",
              "      <td>10.000000</td>\n",
              "      <td>15.0</td>\n",
              "      <td>26.0</td>\n",
              "      <td>20.0</td>\n",
              "      <td>15.0</td>\n",
              "      <td>30.0</td>\n",
              "      <td>21.0</td>\n",
              "      <td>34.0</td>\n",
              "      <td>31.0</td>\n",
              "      <td>37.0</td>\n",
              "      <td>20.0</td>\n",
              "      <td>34.0</td>\n",
              "    </tr>\n",
              "    <tr>\n",
              "      <th>15</th>\n",
              "      <td>10.000000</td>\n",
              "      <td>15.000000</td>\n",
              "      <td>26.0</td>\n",
              "      <td>20.0</td>\n",
              "      <td>15.0</td>\n",
              "      <td>30.0</td>\n",
              "      <td>21.0</td>\n",
              "      <td>34.0</td>\n",
              "      <td>31.0</td>\n",
              "      <td>37.0</td>\n",
              "      <td>20.0</td>\n",
              "      <td>34.0</td>\n",
              "      <td>58.0</td>\n",
              "    </tr>\n",
              "    <tr>\n",
              "      <th>16</th>\n",
              "      <td>15.000000</td>\n",
              "      <td>26.000000</td>\n",
              "      <td>20.0</td>\n",
              "      <td>15.0</td>\n",
              "      <td>30.0</td>\n",
              "      <td>21.0</td>\n",
              "      <td>34.0</td>\n",
              "      <td>31.0</td>\n",
              "      <td>37.0</td>\n",
              "      <td>20.0</td>\n",
              "      <td>34.0</td>\n",
              "      <td>58.0</td>\n",
              "      <td>23.0</td>\n",
              "    </tr>\n",
              "    <tr>\n",
              "      <th>17</th>\n",
              "      <td>26.000000</td>\n",
              "      <td>20.000000</td>\n",
              "      <td>15.0</td>\n",
              "      <td>30.0</td>\n",
              "      <td>21.0</td>\n",
              "      <td>34.0</td>\n",
              "      <td>31.0</td>\n",
              "      <td>37.0</td>\n",
              "      <td>20.0</td>\n",
              "      <td>34.0</td>\n",
              "      <td>58.0</td>\n",
              "      <td>23.0</td>\n",
              "      <td>28.0</td>\n",
              "    </tr>\n",
              "    <tr>\n",
              "      <th>...</th>\n",
              "      <td>...</td>\n",
              "      <td>...</td>\n",
              "      <td>...</td>\n",
              "      <td>...</td>\n",
              "      <td>...</td>\n",
              "      <td>...</td>\n",
              "      <td>...</td>\n",
              "      <td>...</td>\n",
              "      <td>...</td>\n",
              "      <td>...</td>\n",
              "      <td>...</td>\n",
              "      <td>...</td>\n",
              "      <td>...</td>\n",
              "    </tr>\n",
              "    <tr>\n",
              "      <th>922</th>\n",
              "      <td>-53.857143</td>\n",
              "      <td>-54.428571</td>\n",
              "      <td>-53.0</td>\n",
              "      <td>-38.0</td>\n",
              "      <td>-39.0</td>\n",
              "      <td>-24.0</td>\n",
              "      <td>-27.0</td>\n",
              "      <td>-21.0</td>\n",
              "      <td>-12.0</td>\n",
              "      <td>-11.0</td>\n",
              "      <td>-11.0</td>\n",
              "      <td>-14.0</td>\n",
              "      <td>-11.0</td>\n",
              "    </tr>\n",
              "    <tr>\n",
              "      <th>923</th>\n",
              "      <td>-54.428571</td>\n",
              "      <td>-53.000000</td>\n",
              "      <td>-38.0</td>\n",
              "      <td>-39.0</td>\n",
              "      <td>-24.0</td>\n",
              "      <td>-27.0</td>\n",
              "      <td>-21.0</td>\n",
              "      <td>-12.0</td>\n",
              "      <td>-11.0</td>\n",
              "      <td>-11.0</td>\n",
              "      <td>-14.0</td>\n",
              "      <td>-11.0</td>\n",
              "      <td>-11.0</td>\n",
              "    </tr>\n",
              "    <tr>\n",
              "      <th>924</th>\n",
              "      <td>-53.000000</td>\n",
              "      <td>-38.000000</td>\n",
              "      <td>-39.0</td>\n",
              "      <td>-24.0</td>\n",
              "      <td>-27.0</td>\n",
              "      <td>-21.0</td>\n",
              "      <td>-12.0</td>\n",
              "      <td>-11.0</td>\n",
              "      <td>-11.0</td>\n",
              "      <td>-14.0</td>\n",
              "      <td>-11.0</td>\n",
              "      <td>-11.0</td>\n",
              "      <td>-14.0</td>\n",
              "    </tr>\n",
              "    <tr>\n",
              "      <th>925</th>\n",
              "      <td>-38.000000</td>\n",
              "      <td>-39.000000</td>\n",
              "      <td>-24.0</td>\n",
              "      <td>-27.0</td>\n",
              "      <td>-21.0</td>\n",
              "      <td>-12.0</td>\n",
              "      <td>-11.0</td>\n",
              "      <td>-11.0</td>\n",
              "      <td>-14.0</td>\n",
              "      <td>-11.0</td>\n",
              "      <td>-11.0</td>\n",
              "      <td>-14.0</td>\n",
              "      <td>-7.0</td>\n",
              "    </tr>\n",
              "    <tr>\n",
              "      <th>926</th>\n",
              "      <td>-39.000000</td>\n",
              "      <td>-24.000000</td>\n",
              "      <td>-27.0</td>\n",
              "      <td>-21.0</td>\n",
              "      <td>-12.0</td>\n",
              "      <td>-11.0</td>\n",
              "      <td>-11.0</td>\n",
              "      <td>-14.0</td>\n",
              "      <td>-11.0</td>\n",
              "      <td>-11.0</td>\n",
              "      <td>-14.0</td>\n",
              "      <td>-7.0</td>\n",
              "      <td>-4.0</td>\n",
              "    </tr>\n",
              "  </tbody>\n",
              "</table>\n",
              "<p>914 rows × 13 columns</p>\n",
              "</div>"
            ],
            "text/plain": [
              "          t-12       t-11  t-10   t-9   t-8  ...   t-4   t-3   t-2   t-1     t\n",
              "13   12.000000  19.000000  10.0  15.0  26.0  ...  21.0  34.0  31.0  37.0  20.0\n",
              "14   19.000000  10.000000  15.0  26.0  20.0  ...  34.0  31.0  37.0  20.0  34.0\n",
              "15   10.000000  15.000000  26.0  20.0  15.0  ...  31.0  37.0  20.0  34.0  58.0\n",
              "16   15.000000  26.000000  20.0  15.0  30.0  ...  37.0  20.0  34.0  58.0  23.0\n",
              "17   26.000000  20.000000  15.0  30.0  21.0  ...  20.0  34.0  58.0  23.0  28.0\n",
              "..         ...        ...   ...   ...   ...  ...   ...   ...   ...   ...   ...\n",
              "922 -53.857143 -54.428571 -53.0 -38.0 -39.0  ... -12.0 -11.0 -11.0 -14.0 -11.0\n",
              "923 -54.428571 -53.000000 -38.0 -39.0 -24.0  ... -11.0 -11.0 -14.0 -11.0 -11.0\n",
              "924 -53.000000 -38.000000 -39.0 -24.0 -27.0  ... -11.0 -14.0 -11.0 -11.0 -14.0\n",
              "925 -38.000000 -39.000000 -24.0 -27.0 -21.0  ... -14.0 -11.0 -11.0 -14.0  -7.0\n",
              "926 -39.000000 -24.000000 -27.0 -21.0 -12.0  ... -11.0 -11.0 -14.0  -7.0  -4.0\n",
              "\n",
              "[914 rows x 13 columns]"
            ]
          },
          "metadata": {
            "tags": []
          },
          "execution_count": 50
        }
      ]
    },
    {
      "cell_type": "code",
      "metadata": {
        "colab": {
          "base_uri": "https://localhost:8080/"
        },
        "id": "k2QA8vjtWD0C",
        "outputId": "6388a986-c4e2-41ee-c9a9-681912362b12"
      },
      "source": [
        "mae, y, yhat = walk_forward_validation(data,156)"
      ],
      "execution_count": null,
      "outputs": [
        {
          "output_type": "stream",
          "text": [
            ">expected=2.0, predicted=6.3\n",
            ">expected=6.0, predicted=4.2\n",
            ">expected=3.0, predicted=6.6\n",
            ">expected=4.0, predicted=4.7\n",
            ">expected=10.0, predicted=6.2\n",
            ">expected=12.0, predicted=12.4\n",
            ">expected=21.0, predicted=13.7\n",
            ">expected=26.0, predicted=22.8\n",
            ">expected=21.0, predicted=28.6\n",
            ">expected=30.0, predicted=23.0\n",
            ">expected=45.0, predicted=31.2\n",
            ">expected=56.0, predicted=54.6\n",
            ">expected=75.0, predicted=63.3\n",
            ">expected=74.8, predicted=60.4\n",
            ">expected=74.6, predicted=64.0\n",
            ">expected=74.3, predicted=75.0\n",
            ">expected=74.1, predicted=75.0\n",
            ">expected=73.9, predicted=70.1\n",
            ">expected=73.7, predicted=70.1\n",
            ">expected=73.4, predicted=74.3\n",
            ">expected=73.2, predicted=73.4\n",
            ">expected=73.0, predicted=73.2\n",
            ">expected=43.0, predicted=70.8\n",
            ">expected=55.0, predicted=39.0\n",
            ">expected=55.0, predicted=53.4\n",
            ">expected=53.0, predicted=53.7\n",
            ">expected=46.0, predicted=57.2\n",
            ">expected=43.0, predicted=44.3\n",
            ">expected=29.0, predicted=42.9\n",
            ">expected=22.0, predicted=28.1\n",
            ">expected=26.0, predicted=18.7\n",
            ">expected=13.0, predicted=28.1\n",
            ">expected=17.0, predicted=15.8\n",
            ">expected=8.0, predicted=16.8\n",
            ">expected=10.5, predicted=8.9\n",
            ">expected=13.0, predicted=11.6\n",
            ">expected=10.0, predicted=15.8\n",
            ">expected=17.0, predicted=12.4\n",
            ">expected=19.0, predicted=16.5\n",
            ">expected=9.0, predicted=20.7\n",
            ">expected=9.0, predicted=9.4\n",
            ">expected=9.0, predicted=9.4\n",
            ">expected=3.0, predicted=9.4\n",
            ">expected=7.0, predicted=4.7\n",
            ">expected=7.0, predicted=9.2\n",
            ">expected=0.0, predicted=9.1\n",
            ">expected=2.0, predicted=2.7\n",
            ">expected=3.0, predicted=4.3\n",
            ">expected=3.0, predicted=4.8\n",
            ">expected=1.0, predicted=4.7\n",
            ">expected=3.0, predicted=3.0\n",
            ">expected=3.0, predicted=4.6\n",
            ">expected=3.0, predicted=4.5\n",
            ">expected=7.0, predicted=4.5\n",
            ">expected=3.0, predicted=8.8\n",
            ">expected=5.0, predicted=4.6\n",
            ">expected=11.0, predicted=6.1\n",
            ">expected=5.0, predicted=11.6\n",
            ">expected=5.0, predicted=6.3\n",
            ">expected=6.0, predicted=6.3\n",
            ">expected=6.0, predicted=6.5\n",
            ">expected=4.0, predicted=6.5\n",
            ">expected=4.0, predicted=6.3\n",
            ">expected=8.0, predicted=6.2\n",
            ">expected=14.0, predicted=8.9\n",
            ">expected=12.0, predicted=12.8\n",
            ">expected=16.0, predicted=14.1\n",
            ">expected=10.0, predicted=15.9\n",
            ">expected=16.0, predicted=12.6\n",
            ">expected=18.0, predicted=15.6\n",
            ">expected=15.0, predicted=16.6\n",
            ">expected=23.0, predicted=17.0\n",
            ">expected=17.0, predicted=18.2\n",
            ">expected=33.0, predicted=16.5\n",
            ">expected=15.0, predicted=33.6\n",
            ">expected=13.0, predicted=17.5\n",
            ">expected=11.0, predicted=15.6\n",
            ">expected=14.0, predicted=11.3\n",
            ">expected=17.0, predicted=12.8\n",
            ">expected=19.0, predicted=17.1\n",
            ">expected=20.0, predicted=19.8\n",
            ">expected=12.0, predicted=18.0\n",
            ">expected=21.0, predicted=14.2\n",
            ">expected=7.0, predicted=23.5\n",
            ">expected=19.0, predicted=8.6\n",
            ">expected=10.0, predicted=19.8\n",
            ">expected=13.0, predicted=12.8\n",
            ">expected=10.0, predicted=15.4\n",
            ">expected=8.0, predicted=12.8\n",
            ">expected=21.0, predicted=9.2\n",
            ">expected=11.0, predicted=22.5\n",
            ">expected=9.0, predicted=11.4\n",
            ">expected=14.0, predicted=9.1\n",
            ">expected=14.0, predicted=12.9\n",
            ">expected=15.0, predicted=13.0\n",
            ">expected=18.0, predicted=17.2\n",
            ">expected=16.0, predicted=16.5\n",
            ">expected=12.0, predicted=15.8\n",
            ">expected=20.0, predicted=14.6\n",
            ">expected=8.0, predicted=17.7\n",
            ">expected=3.0, predicted=9.7\n",
            ">expected=13.0, predicted=4.6\n",
            ">expected=4.0, predicted=15.1\n",
            ">expected=1.0, predicted=6.3\n",
            ">expected=10.0, predicted=3.0\n",
            ">expected=8.0, predicted=12.6\n",
            ">expected=13.0, predicted=9.4\n",
            ">expected=10.0, predicted=14.7\n",
            ">expected=21.0, predicted=12.4\n",
            ">expected=18.0, predicted=21.8\n",
            ">expected=21.0, predicted=16.5\n",
            ">expected=34.0, predicted=21.6\n",
            ">expected=25.0, predicted=32.8\n",
            ">expected=34.0, predicted=28.2\n",
            ">expected=33.0, predicted=32.1\n",
            ">expected=40.0, predicted=32.1\n",
            ">expected=42.0, predicted=32.2\n",
            ">expected=36.0, predicted=35.7\n",
            ">expected=72.0, predicted=35.7\n",
            ">expected=75.0, predicted=70.4\n",
            ">expected=76.0, predicted=64.0\n",
            ">expected=73.5, predicted=63.6\n",
            ">expected=71.0, predicted=73.2\n",
            ">expected=70.6, predicted=65.2\n",
            ">expected=70.1, predicted=68.1\n",
            ">expected=69.7, predicted=70.7\n",
            ">expected=69.3, predicted=68.4\n",
            ">expected=68.9, predicted=69.9\n",
            ">expected=68.4, predicted=69.2\n",
            ">expected=68.0, predicted=67.5\n",
            ">expected=48.0, predicted=60.2\n",
            ">expected=48.0, predicted=47.3\n",
            ">expected=26.0, predicted=47.4\n",
            ">expected=33.0, predicted=27.1\n",
            ">expected=29.0, predicted=32.6\n",
            ">expected=17.0, predicted=27.6\n",
            ">expected=12.0, predicted=17.1\n",
            ">expected=13.0, predicted=14.9\n",
            ">expected=17.0, predicted=14.5\n",
            ">expected=15.0, predicted=17.0\n",
            ">expected=14.0, predicted=17.2\n",
            ">expected=15.0, predicted=13.1\n",
            ">expected=10.0, predicted=17.0\n",
            ">expected=9.0, predicted=12.7\n",
            ">expected=2.0, predicted=9.3\n",
            ">expected=6.0, predicted=4.2\n",
            ">expected=8.0, predicted=6.4\n",
            ">expected=5.0, predicted=9.6\n",
            ">expected=1.0, predicted=6.3\n",
            ">expected=2.0, predicted=3.7\n",
            ">expected=3.0, predicted=4.3\n",
            ">expected=4.0, predicted=4.8\n",
            ">expected=3.0, predicted=6.1\n",
            ">expected=1.0, predicted=4.8\n",
            ">expected=3.0, predicted=3.5\n",
            ">expected=5.0, predicted=4.7\n"
          ],
          "name": "stdout"
        }
      ]
    },
    {
      "cell_type": "code",
      "metadata": {
        "id": "EnduEz-2bY3V",
        "colab": {
          "base_uri": "https://localhost:8080/"
        },
        "outputId": "306a76f9-e6e3-472e-a680-08f93e7830dd"
      },
      "source": [
        "len(yhat)"
      ],
      "execution_count": null,
      "outputs": [
        {
          "output_type": "execute_result",
          "data": {
            "text/plain": [
              "156"
            ]
          },
          "metadata": {
            "tags": []
          },
          "execution_count": 300
        }
      ]
    },
    {
      "cell_type": "code",
      "metadata": {
        "id": "CSc9GaFd5Vic"
      },
      "source": [
        ""
      ],
      "execution_count": null,
      "outputs": []
    },
    {
      "cell_type": "code",
      "metadata": {
        "id": "1yGR2zl24wbD"
      },
      "source": [
        "data"
      ],
      "execution_count": null,
      "outputs": []
    },
    {
      "cell_type": "code",
      "metadata": {
        "colab": {
          "base_uri": "https://localhost:8080/",
          "height": 297
        },
        "id": "9bQAxAh34but",
        "outputId": "4c8d5cb6-a5e4-4322-9317-887965732bcb"
      },
      "source": [
        "df_undiff[-20:-12]"
      ],
      "execution_count": null,
      "outputs": [
        {
          "output_type": "execute_result",
          "data": {
            "text/html": [
              "<div>\n",
              "<style scoped>\n",
              "    .dataframe tbody tr th:only-of-type {\n",
              "        vertical-align: middle;\n",
              "    }\n",
              "\n",
              "    .dataframe tbody tr th {\n",
              "        vertical-align: top;\n",
              "    }\n",
              "\n",
              "    .dataframe thead th {\n",
              "        text-align: right;\n",
              "    }\n",
              "</style>\n",
              "<table border=\"1\" class=\"dataframe\">\n",
              "  <thead>\n",
              "    <tr style=\"text-align: right;\">\n",
              "      <th></th>\n",
              "      <th>week_start_date</th>\n",
              "      <th>diff</th>\n",
              "      <th>total_cases</th>\n",
              "    </tr>\n",
              "  </thead>\n",
              "  <tbody>\n",
              "    <tr>\n",
              "      <th>907</th>\n",
              "      <td>2007-12-15</td>\n",
              "      <td>-58.142857</td>\n",
              "      <td>70.142857</td>\n",
              "    </tr>\n",
              "    <tr>\n",
              "      <th>908</th>\n",
              "      <td>2007-12-22</td>\n",
              "      <td>-56.714286</td>\n",
              "      <td>69.714286</td>\n",
              "    </tr>\n",
              "    <tr>\n",
              "      <th>909</th>\n",
              "      <td>2007-12-29</td>\n",
              "      <td>-52.285714</td>\n",
              "      <td>69.285714</td>\n",
              "    </tr>\n",
              "    <tr>\n",
              "      <th>910</th>\n",
              "      <td>2008-01-05</td>\n",
              "      <td>-53.857143</td>\n",
              "      <td>68.857143</td>\n",
              "    </tr>\n",
              "    <tr>\n",
              "      <th>911</th>\n",
              "      <td>2008-01-12</td>\n",
              "      <td>-54.428571</td>\n",
              "      <td>68.428571</td>\n",
              "    </tr>\n",
              "    <tr>\n",
              "      <th>912</th>\n",
              "      <td>2008-01-19</td>\n",
              "      <td>-53.000000</td>\n",
              "      <td>68.000000</td>\n",
              "    </tr>\n",
              "    <tr>\n",
              "      <th>913</th>\n",
              "      <td>2008-01-26</td>\n",
              "      <td>-38.000000</td>\n",
              "      <td>48.000000</td>\n",
              "    </tr>\n",
              "    <tr>\n",
              "      <th>914</th>\n",
              "      <td>2008-02-02</td>\n",
              "      <td>-39.000000</td>\n",
              "      <td>48.000000</td>\n",
              "    </tr>\n",
              "  </tbody>\n",
              "</table>\n",
              "</div>"
            ],
            "text/plain": [
              "    week_start_date       diff  total_cases\n",
              "907      2007-12-15 -58.142857    70.142857\n",
              "908      2007-12-22 -56.714286    69.714286\n",
              "909      2007-12-29 -52.285714    69.285714\n",
              "910      2008-01-05 -53.857143    68.857143\n",
              "911      2008-01-12 -54.428571    68.428571\n",
              "912      2008-01-19 -53.000000    68.000000\n",
              "913      2008-01-26 -38.000000    48.000000\n",
              "914      2008-02-02 -39.000000    48.000000"
            ]
          },
          "metadata": {
            "tags": []
          },
          "execution_count": 304
        }
      ]
    },
    {
      "cell_type": "code",
      "metadata": {
        "id": "pv5KQD-c4br0"
      },
      "source": [
        ""
      ],
      "execution_count": null,
      "outputs": []
    },
    {
      "cell_type": "code",
      "metadata": {
        "id": "WWqx0sXJ4bo5"
      },
      "source": [
        ""
      ],
      "execution_count": null,
      "outputs": []
    },
    {
      "cell_type": "code",
      "metadata": {
        "colab": {
          "base_uri": "https://localhost:8080/",
          "height": 419
        },
        "id": "E8br0hv9oOfr",
        "outputId": "ee02e313-37e1-4bf6-fe40-331df8d949cc"
      },
      "source": [
        "dataframe.iloc[156:]"
      ],
      "execution_count": null,
      "outputs": [
        {
          "output_type": "execute_result",
          "data": {
            "text/html": [
              "<div>\n",
              "<style scoped>\n",
              "    .dataframe tbody tr th:only-of-type {\n",
              "        vertical-align: middle;\n",
              "    }\n",
              "\n",
              "    .dataframe tbody tr th {\n",
              "        vertical-align: top;\n",
              "    }\n",
              "\n",
              "    .dataframe thead th {\n",
              "        text-align: right;\n",
              "    }\n",
              "</style>\n",
              "<table border=\"1\" class=\"dataframe\">\n",
              "  <thead>\n",
              "    <tr style=\"text-align: right;\">\n",
              "      <th></th>\n",
              "      <th>t-12</th>\n",
              "      <th>t-11</th>\n",
              "      <th>t-10</th>\n",
              "      <th>t-9</th>\n",
              "      <th>t-8</th>\n",
              "      <th>t-7</th>\n",
              "      <th>t-6</th>\n",
              "      <th>t-5</th>\n",
              "      <th>t-4</th>\n",
              "      <th>t-3</th>\n",
              "      <th>t-2</th>\n",
              "      <th>t-1</th>\n",
              "      <th>t</th>\n",
              "    </tr>\n",
              "  </thead>\n",
              "  <tbody>\n",
              "    <tr>\n",
              "      <th>169</th>\n",
              "      <td>5.000000</td>\n",
              "      <td>7.000000</td>\n",
              "      <td>15.0</td>\n",
              "      <td>5.0</td>\n",
              "      <td>-7.0</td>\n",
              "      <td>13.0</td>\n",
              "      <td>6.0</td>\n",
              "      <td>15.0</td>\n",
              "      <td>-3.0</td>\n",
              "      <td>5.0</td>\n",
              "      <td>7.0</td>\n",
              "      <td>13.0</td>\n",
              "      <td>16.0</td>\n",
              "    </tr>\n",
              "    <tr>\n",
              "      <th>170</th>\n",
              "      <td>7.000000</td>\n",
              "      <td>15.000000</td>\n",
              "      <td>5.0</td>\n",
              "      <td>-7.0</td>\n",
              "      <td>13.0</td>\n",
              "      <td>6.0</td>\n",
              "      <td>15.0</td>\n",
              "      <td>-3.0</td>\n",
              "      <td>5.0</td>\n",
              "      <td>7.0</td>\n",
              "      <td>13.0</td>\n",
              "      <td>16.0</td>\n",
              "      <td>19.0</td>\n",
              "    </tr>\n",
              "    <tr>\n",
              "      <th>171</th>\n",
              "      <td>15.000000</td>\n",
              "      <td>5.000000</td>\n",
              "      <td>-7.0</td>\n",
              "      <td>13.0</td>\n",
              "      <td>6.0</td>\n",
              "      <td>15.0</td>\n",
              "      <td>-3.0</td>\n",
              "      <td>5.0</td>\n",
              "      <td>7.0</td>\n",
              "      <td>13.0</td>\n",
              "      <td>16.0</td>\n",
              "      <td>19.0</td>\n",
              "      <td>18.0</td>\n",
              "    </tr>\n",
              "    <tr>\n",
              "      <th>172</th>\n",
              "      <td>5.000000</td>\n",
              "      <td>-7.000000</td>\n",
              "      <td>13.0</td>\n",
              "      <td>6.0</td>\n",
              "      <td>15.0</td>\n",
              "      <td>-3.0</td>\n",
              "      <td>5.0</td>\n",
              "      <td>7.0</td>\n",
              "      <td>13.0</td>\n",
              "      <td>16.0</td>\n",
              "      <td>19.0</td>\n",
              "      <td>18.0</td>\n",
              "      <td>23.0</td>\n",
              "    </tr>\n",
              "    <tr>\n",
              "      <th>173</th>\n",
              "      <td>-7.000000</td>\n",
              "      <td>13.000000</td>\n",
              "      <td>6.0</td>\n",
              "      <td>15.0</td>\n",
              "      <td>-3.0</td>\n",
              "      <td>5.0</td>\n",
              "      <td>7.0</td>\n",
              "      <td>13.0</td>\n",
              "      <td>16.0</td>\n",
              "      <td>19.0</td>\n",
              "      <td>18.0</td>\n",
              "      <td>23.0</td>\n",
              "      <td>19.0</td>\n",
              "    </tr>\n",
              "    <tr>\n",
              "      <th>...</th>\n",
              "      <td>...</td>\n",
              "      <td>...</td>\n",
              "      <td>...</td>\n",
              "      <td>...</td>\n",
              "      <td>...</td>\n",
              "      <td>...</td>\n",
              "      <td>...</td>\n",
              "      <td>...</td>\n",
              "      <td>...</td>\n",
              "      <td>...</td>\n",
              "      <td>...</td>\n",
              "      <td>...</td>\n",
              "      <td>...</td>\n",
              "    </tr>\n",
              "    <tr>\n",
              "      <th>922</th>\n",
              "      <td>-53.857143</td>\n",
              "      <td>-54.428571</td>\n",
              "      <td>-53.0</td>\n",
              "      <td>-38.0</td>\n",
              "      <td>-39.0</td>\n",
              "      <td>-24.0</td>\n",
              "      <td>-27.0</td>\n",
              "      <td>-21.0</td>\n",
              "      <td>-12.0</td>\n",
              "      <td>-11.0</td>\n",
              "      <td>-11.0</td>\n",
              "      <td>-14.0</td>\n",
              "      <td>-11.0</td>\n",
              "    </tr>\n",
              "    <tr>\n",
              "      <th>923</th>\n",
              "      <td>-54.428571</td>\n",
              "      <td>-53.000000</td>\n",
              "      <td>-38.0</td>\n",
              "      <td>-39.0</td>\n",
              "      <td>-24.0</td>\n",
              "      <td>-27.0</td>\n",
              "      <td>-21.0</td>\n",
              "      <td>-12.0</td>\n",
              "      <td>-11.0</td>\n",
              "      <td>-11.0</td>\n",
              "      <td>-14.0</td>\n",
              "      <td>-11.0</td>\n",
              "      <td>-11.0</td>\n",
              "    </tr>\n",
              "    <tr>\n",
              "      <th>924</th>\n",
              "      <td>-53.000000</td>\n",
              "      <td>-38.000000</td>\n",
              "      <td>-39.0</td>\n",
              "      <td>-24.0</td>\n",
              "      <td>-27.0</td>\n",
              "      <td>-21.0</td>\n",
              "      <td>-12.0</td>\n",
              "      <td>-11.0</td>\n",
              "      <td>-11.0</td>\n",
              "      <td>-14.0</td>\n",
              "      <td>-11.0</td>\n",
              "      <td>-11.0</td>\n",
              "      <td>-14.0</td>\n",
              "    </tr>\n",
              "    <tr>\n",
              "      <th>925</th>\n",
              "      <td>-38.000000</td>\n",
              "      <td>-39.000000</td>\n",
              "      <td>-24.0</td>\n",
              "      <td>-27.0</td>\n",
              "      <td>-21.0</td>\n",
              "      <td>-12.0</td>\n",
              "      <td>-11.0</td>\n",
              "      <td>-11.0</td>\n",
              "      <td>-14.0</td>\n",
              "      <td>-11.0</td>\n",
              "      <td>-11.0</td>\n",
              "      <td>-14.0</td>\n",
              "      <td>-7.0</td>\n",
              "    </tr>\n",
              "    <tr>\n",
              "      <th>926</th>\n",
              "      <td>-39.000000</td>\n",
              "      <td>-24.000000</td>\n",
              "      <td>-27.0</td>\n",
              "      <td>-21.0</td>\n",
              "      <td>-12.0</td>\n",
              "      <td>-11.0</td>\n",
              "      <td>-11.0</td>\n",
              "      <td>-14.0</td>\n",
              "      <td>-11.0</td>\n",
              "      <td>-11.0</td>\n",
              "      <td>-14.0</td>\n",
              "      <td>-7.0</td>\n",
              "      <td>-4.0</td>\n",
              "    </tr>\n",
              "  </tbody>\n",
              "</table>\n",
              "<p>758 rows × 13 columns</p>\n",
              "</div>"
            ],
            "text/plain": [
              "          t-12       t-11  t-10   t-9   t-8  ...   t-4   t-3   t-2   t-1     t\n",
              "169   5.000000   7.000000  15.0   5.0  -7.0  ...  -3.0   5.0   7.0  13.0  16.0\n",
              "170   7.000000  15.000000   5.0  -7.0  13.0  ...   5.0   7.0  13.0  16.0  19.0\n",
              "171  15.000000   5.000000  -7.0  13.0   6.0  ...   7.0  13.0  16.0  19.0  18.0\n",
              "172   5.000000  -7.000000  13.0   6.0  15.0  ...  13.0  16.0  19.0  18.0  23.0\n",
              "173  -7.000000  13.000000   6.0  15.0  -3.0  ...  16.0  19.0  18.0  23.0  19.0\n",
              "..         ...        ...   ...   ...   ...  ...   ...   ...   ...   ...   ...\n",
              "922 -53.857143 -54.428571 -53.0 -38.0 -39.0  ... -12.0 -11.0 -11.0 -14.0 -11.0\n",
              "923 -54.428571 -53.000000 -38.0 -39.0 -24.0  ... -11.0 -11.0 -14.0 -11.0 -11.0\n",
              "924 -53.000000 -38.000000 -39.0 -24.0 -27.0  ... -11.0 -14.0 -11.0 -11.0 -14.0\n",
              "925 -38.000000 -39.000000 -24.0 -27.0 -21.0  ... -14.0 -11.0 -11.0 -14.0  -7.0\n",
              "926 -39.000000 -24.000000 -27.0 -21.0 -12.0  ... -11.0 -11.0 -14.0  -7.0  -4.0\n",
              "\n",
              "[758 rows x 13 columns]"
            ]
          },
          "metadata": {
            "tags": []
          },
          "execution_count": 175
        }
      ]
    },
    {
      "cell_type": "code",
      "metadata": {
        "id": "qoKQmDjBsRZS"
      },
      "source": [
        ""
      ],
      "execution_count": null,
      "outputs": []
    },
    {
      "cell_type": "code",
      "metadata": {
        "colab": {
          "base_uri": "https://localhost:8080/",
          "height": 298
        },
        "id": "J_diJYlWjHMS",
        "outputId": "fc4c4118-791f-4f33-990a-c52a65298644"
      },
      "source": [
        "print('MAE: %.3f' % mae)\r\n",
        "# plot expected vs preducted\r\n",
        "pyplot.plot(y, label='Expected')\r\n",
        "pyplot.plot(yhat, label='Predicted')\r\n",
        "pyplot.legend()\r\n",
        "pyplot.show()"
      ],
      "execution_count": null,
      "outputs": [
        {
          "output_type": "stream",
          "text": [
            "MAE: 5.881\n"
          ],
          "name": "stdout"
        },
        {
          "output_type": "display_data",
          "data": {
            "image/png": "[encoded data removed]",
            "text/plain": [
              "<Figure size 432x288 with 1 Axes>"
            ]
          },
          "metadata": {
            "tags": []
          }
        }
      ]
    },
    {
      "cell_type": "code",
      "metadata": {
        "id": "Q4tYhltk4J_J"
      },
      "source": [
        ""
      ],
      "execution_count": null,
      "outputs": []
    },
    {
      "cell_type": "code",
      "metadata": {
        "colab": {
          "base_uri": "https://localhost:8080/"
        },
        "id": "F66N5QCJ4JuR",
        "outputId": "0b777476-5a95-4e1f-ff3f-42f275f83eb7"
      },
      "source": [
        "len(y)"
      ],
      "execution_count": null,
      "outputs": [
        {
          "output_type": "execute_result",
          "data": {
            "text/plain": [
              "156"
            ]
          },
          "metadata": {
            "tags": []
          },
          "execution_count": 310
        }
      ]
    },
    {
      "cell_type": "code",
      "metadata": {
        "colab": {
          "base_uri": "https://localhost:8080/",
          "height": 298
        },
        "id": "FtoXdq4jbvhm",
        "outputId": "50e34f3d-d413-426f-f7ba-a7ef787b00f9"
      },
      "source": [
        "print('MAE: %.3f' % mae)\r\n",
        "# plot expected vs preducted\r\n",
        "pyplot.plot(y, label='Expected')\r\n",
        "pyplot.plot(yhat, label='Predicted')\r\n",
        "pyplot.legend()\r\n",
        "pyplot.show()"
      ],
      "execution_count": null,
      "outputs": [
        {
          "output_type": "stream",
          "text": [
            "MAE: 7.613\n"
          ],
          "name": "stdout"
        },
        {
          "output_type": "display_data",
          "data": {
            "image/png": "[encoded data removed]",
            "text/plain": [
              "<Figure size 432x288 with 1 Axes>"
            ]
          },
          "metadata": {
            "tags": []
          }
        }
      ]
    },
    {
      "cell_type": "code",
      "metadata": {
        "id": "VYj4YtNG54r9"
      },
      "source": [
        ""
      ],
      "execution_count": null,
      "outputs": []
    },
    {
      "cell_type": "code",
      "metadata": {
        "id": "U-PhcU7u55gC"
      },
      "source": [
        ""
      ],
      "execution_count": null,
      "outputs": []
    },
    {
      "cell_type": "code",
      "metadata": {
        "colab": {
          "base_uri": "https://localhost:8080/",
          "height": 298
        },
        "id": "2jOPTYicVBFM",
        "outputId": "c69420fa-f408-47d2-8ee9-0056c5b60413"
      },
      "source": [
        "print('MAE: %.3f' % mae)\r\n",
        "# plot expected vs preducted\r\n",
        "pyplot.plot(y, label='Expected')\r\n",
        "pyplot.plot(yhat, label='Predicted')\r\n",
        "pyplot.legend()\r\n",
        "pyplot.show()"
      ],
      "execution_count": null,
      "outputs": [
        {
          "output_type": "stream",
          "text": [
            "MAE: 6.055\n"
          ],
          "name": "stdout"
        },
        {
          "output_type": "display_data",
          "data": {
            "image/png": "[encoded data removed]",
            "text/plain": [
              "<Figure size 432x288 with 1 Axes>"
            ]
          },
          "metadata": {
            "tags": []
          }
        }
      ]
    },
    {
      "cell_type": "code",
      "metadata": {
        "colab": {
          "base_uri": "https://localhost:8080/",
          "height": 299
        },
        "id": "eJ3Z6hbG9y-u",
        "outputId": "a954fb3e-9bc2-42c0-f37d-5c4125f5cd39"
      },
      "source": [
        "print('MAE: %.3f' % mae)\r\n",
        "# plot expected vs preducted\r\n",
        "pyplot.plot(y, label='Expected')\r\n",
        "pyplot.plot(yhat, label='Predicted')\r\n",
        "pyplot.legend()\r\n",
        "pyplot.show()"
      ],
      "execution_count": null,
      "outputs": [
        {
          "output_type": "stream",
          "text": [
            "MAE: 5.575\n"
          ],
          "name": "stdout"
        },
        {
          "output_type": "display_data",
          "data": {
            "image/png": "[encoded data removed]",
            "text/plain": [
              "<Figure size 432x288 with 1 Axes>"
            ]
          },
          "metadata": {
            "tags": []
          }
        }
      ]
    },
    {
      "cell_type": "code",
      "metadata": {
        "colab": {
          "base_uri": "https://localhost:8080/",
          "height": 298
        },
        "id": "EBz7zq7i-ZFe",
        "outputId": "546eac2f-1bcc-470e-8165-b615e8324500"
      },
      "source": [
        "print('MAE: %.3f' % mae)\r\n",
        "# plot expected vs preducted\r\n",
        "pyplot.plot(y, label='Expected')\r\n",
        "pyplot.plot(yhat, label='Predicted')\r\n",
        "pyplot.legend()\r\n",
        "pyplot.show()"
      ],
      "execution_count": null,
      "outputs": [
        {
          "output_type": "stream",
          "text": [
            "MAE: 5.126\n"
          ],
          "name": "stdout"
        },
        {
          "output_type": "display_data",
          "data": {
            "image/png": "[encoded data removed]",
            "text/plain": [
              "<Figure size 432x288 with 1 Axes>"
            ]
          },
          "metadata": {
            "tags": []
          }
        }
      ]
    },
    {
      "cell_type": "code",
      "metadata": {
        "id": "8ViyDOeEYW1E"
      },
      "source": [
        "def invert_difference(orig_data, diff_data, interval):\r\n",
        "\treturn [diff_data[i-interval] + orig_data[i-interval] for i in range(interval, len(orig_data))]"
      ],
      "execution_count": null,
      "outputs": []
    },
    {
      "cell_type": "code",
      "metadata": {
        "id": "m-f_ImAMYWxU"
      },
      "source": [
        "yhat"
      ],
      "execution_count": null,
      "outputs": []
    },
    {
      "cell_type": "code",
      "metadata": {
        "id": "0_4xuukTipSc"
      },
      "source": [
        ""
      ],
      "execution_count": null,
      "outputs": []
    },
    {
      "cell_type": "markdown",
      "metadata": {
        "id": "mu9qmR-LkI1f"
      },
      "source": [
        "##feature selection"
      ]
    },
    {
      "cell_type": "code",
      "metadata": {
        "id": "pXCiGXYhJ4Y1"
      },
      "source": [
        "'''\r\n",
        "Less_Feature=['ndvi_se',\r\n",
        " 'precipitation_amt_mm',\r\n",
        " 'reanalysis_min_air_temp_k',\r\n",
        " 'reanalysis_precip_amt_kg_per_m2',\r\n",
        " 'reanalysis_relative_humidity_percent',\r\n",
        " 'reanalysis_sat_precip_amt_mm',\r\n",
        " 'reanalysis_specific_humidity_g_per_kg',\r\n",
        " 'reanalysis_tdtr_k',\r\n",
        " 'station_min_temp_c',\r\n",
        " 'station_precip_mm','total_cases']\r\n",
        " '''"
      ],
      "execution_count": null,
      "outputs": []
    },
    {
      "cell_type": "code",
      "metadata": {
        "id": "zSOJPDr0sNP3"
      },
      "source": [
        "Less_Feature= ['ndvi_ne',\r\n",
        " 'ndvi_se',\r\n",
        " 'ndvi_sw',\r\n",
        " 'precipitation_amt_mm',\r\n",
        " 'reanalysis_air_temp_k',\r\n",
        " 'reanalysis_precip_amt_kg_per_m2',\r\n",
        " 'reanalysis_relative_humidity_percent',\r\n",
        " 'reanalysis_tdtr_k',\r\n",
        " 'station_diur_temp_rng_c',\r\n",
        " 'station_precip_mm','total_cases']"
      ],
      "execution_count": null,
      "outputs": []
    },
    {
      "cell_type": "code",
      "metadata": {
        "id": "IHBt5p9AJ6hu"
      },
      "source": [
        "df_fselect_less = df_fselect[Less_Feature]"
      ],
      "execution_count": null,
      "outputs": []
    },
    {
      "cell_type": "code",
      "metadata": {
        "colab": {
          "base_uri": "https://localhost:8080/",
          "height": 470
        },
        "id": "i0hsQClsKG8h",
        "outputId": "b2347206-880a-4abc-c1cd-57aa44500547"
      },
      "source": [
        "df_fselect_less"
      ],
      "execution_count": null,
      "outputs": [
        {
          "output_type": "execute_result",
          "data": {
            "text/html": [
              "<div>\n",
              "<style scoped>\n",
              "    .dataframe tbody tr th:only-of-type {\n",
              "        vertical-align: middle;\n",
              "    }\n",
              "\n",
              "    .dataframe tbody tr th {\n",
              "        vertical-align: top;\n",
              "    }\n",
              "\n",
              "    .dataframe thead th {\n",
              "        text-align: right;\n",
              "    }\n",
              "</style>\n",
              "<table border=\"1\" class=\"dataframe\">\n",
              "  <thead>\n",
              "    <tr style=\"text-align: right;\">\n",
              "      <th></th>\n",
              "      <th>ndvi_ne</th>\n",
              "      <th>ndvi_se</th>\n",
              "      <th>ndvi_sw</th>\n",
              "      <th>precipitation_amt_mm</th>\n",
              "      <th>reanalysis_air_temp_k</th>\n",
              "      <th>reanalysis_precip_amt_kg_per_m2</th>\n",
              "      <th>reanalysis_relative_humidity_percent</th>\n",
              "      <th>reanalysis_tdtr_k</th>\n",
              "      <th>station_diur_temp_rng_c</th>\n",
              "      <th>station_precip_mm</th>\n",
              "      <th>total_cases</th>\n",
              "    </tr>\n",
              "    <tr>\n",
              "      <th>week_start_date</th>\n",
              "      <th></th>\n",
              "      <th></th>\n",
              "      <th></th>\n",
              "      <th></th>\n",
              "      <th></th>\n",
              "      <th></th>\n",
              "      <th></th>\n",
              "      <th></th>\n",
              "      <th></th>\n",
              "      <th></th>\n",
              "      <th></th>\n",
              "    </tr>\n",
              "  </thead>\n",
              "  <tbody>\n",
              "    <tr>\n",
              "      <th>1990-05-05</th>\n",
              "      <td>0.122600</td>\n",
              "      <td>0.198483</td>\n",
              "      <td>0.177617</td>\n",
              "      <td>12.42</td>\n",
              "      <td>297.572857</td>\n",
              "      <td>32.00</td>\n",
              "      <td>73.365714</td>\n",
              "      <td>2.628571</td>\n",
              "      <td>6.900000</td>\n",
              "      <td>16.0</td>\n",
              "      <td>4.0</td>\n",
              "    </tr>\n",
              "    <tr>\n",
              "      <th>1990-05-12</th>\n",
              "      <td>0.169900</td>\n",
              "      <td>0.162357</td>\n",
              "      <td>0.155486</td>\n",
              "      <td>22.82</td>\n",
              "      <td>298.211429</td>\n",
              "      <td>17.94</td>\n",
              "      <td>77.368571</td>\n",
              "      <td>2.371429</td>\n",
              "      <td>6.371429</td>\n",
              "      <td>8.6</td>\n",
              "      <td>5.0</td>\n",
              "    </tr>\n",
              "    <tr>\n",
              "      <th>1990-05-19</th>\n",
              "      <td>0.032250</td>\n",
              "      <td>0.157200</td>\n",
              "      <td>0.170843</td>\n",
              "      <td>34.54</td>\n",
              "      <td>298.781429</td>\n",
              "      <td>26.10</td>\n",
              "      <td>82.052857</td>\n",
              "      <td>2.300000</td>\n",
              "      <td>6.485714</td>\n",
              "      <td>41.4</td>\n",
              "      <td>4.0</td>\n",
              "    </tr>\n",
              "    <tr>\n",
              "      <th>1990-05-26</th>\n",
              "      <td>0.128633</td>\n",
              "      <td>0.227557</td>\n",
              "      <td>0.235886</td>\n",
              "      <td>15.36</td>\n",
              "      <td>298.987143</td>\n",
              "      <td>13.90</td>\n",
              "      <td>80.337143</td>\n",
              "      <td>2.428571</td>\n",
              "      <td>6.771429</td>\n",
              "      <td>4.0</td>\n",
              "      <td>3.0</td>\n",
              "    </tr>\n",
              "    <tr>\n",
              "      <th>1990-06-02</th>\n",
              "      <td>0.196200</td>\n",
              "      <td>0.251200</td>\n",
              "      <td>0.247340</td>\n",
              "      <td>7.52</td>\n",
              "      <td>299.518571</td>\n",
              "      <td>12.20</td>\n",
              "      <td>80.460000</td>\n",
              "      <td>3.014286</td>\n",
              "      <td>9.371429</td>\n",
              "      <td>5.8</td>\n",
              "      <td>6.0</td>\n",
              "    </tr>\n",
              "    <tr>\n",
              "      <th>...</th>\n",
              "      <td>...</td>\n",
              "      <td>...</td>\n",
              "      <td>...</td>\n",
              "      <td>...</td>\n",
              "      <td>...</td>\n",
              "      <td>...</td>\n",
              "      <td>...</td>\n",
              "      <td>...</td>\n",
              "      <td>...</td>\n",
              "      <td>...</td>\n",
              "      <td>...</td>\n",
              "    </tr>\n",
              "    <tr>\n",
              "      <th>2008-03-29</th>\n",
              "      <td>0.077850</td>\n",
              "      <td>0.310471</td>\n",
              "      <td>0.296243</td>\n",
              "      <td>27.19</td>\n",
              "      <td>296.958571</td>\n",
              "      <td>7.55</td>\n",
              "      <td>74.247143</td>\n",
              "      <td>2.885714</td>\n",
              "      <td>5.785714</td>\n",
              "      <td>1.8</td>\n",
              "      <td>4.0</td>\n",
              "    </tr>\n",
              "    <tr>\n",
              "      <th>2008-04-05</th>\n",
              "      <td>-0.038000</td>\n",
              "      <td>0.119371</td>\n",
              "      <td>0.066386</td>\n",
              "      <td>3.82</td>\n",
              "      <td>298.081429</td>\n",
              "      <td>3.67</td>\n",
              "      <td>74.600000</td>\n",
              "      <td>2.714286</td>\n",
              "      <td>6.814286</td>\n",
              "      <td>0.5</td>\n",
              "      <td>3.0</td>\n",
              "    </tr>\n",
              "    <tr>\n",
              "      <th>2008-04-12</th>\n",
              "      <td>-0.155200</td>\n",
              "      <td>0.137757</td>\n",
              "      <td>0.141214</td>\n",
              "      <td>16.96</td>\n",
              "      <td>297.460000</td>\n",
              "      <td>35.00</td>\n",
              "      <td>75.027143</td>\n",
              "      <td>2.185714</td>\n",
              "      <td>5.714286</td>\n",
              "      <td>30.7</td>\n",
              "      <td>1.0</td>\n",
              "    </tr>\n",
              "    <tr>\n",
              "      <th>2008-04-19</th>\n",
              "      <td>0.001800</td>\n",
              "      <td>0.203900</td>\n",
              "      <td>0.209843</td>\n",
              "      <td>0.00</td>\n",
              "      <td>297.630000</td>\n",
              "      <td>4.82</td>\n",
              "      <td>72.285714</td>\n",
              "      <td>2.785714</td>\n",
              "      <td>6.242857</td>\n",
              "      <td>11.2</td>\n",
              "      <td>3.0</td>\n",
              "    </tr>\n",
              "    <tr>\n",
              "      <th>2008-04-26</th>\n",
              "      <td>-0.037000</td>\n",
              "      <td>0.077314</td>\n",
              "      <td>0.090586</td>\n",
              "      <td>0.00</td>\n",
              "      <td>298.672857</td>\n",
              "      <td>2.17</td>\n",
              "      <td>76.960000</td>\n",
              "      <td>3.957143</td>\n",
              "      <td>7.514286</td>\n",
              "      <td>0.3</td>\n",
              "      <td>5.0</td>\n",
              "    </tr>\n",
              "  </tbody>\n",
              "</table>\n",
              "<p>939 rows × 11 columns</p>\n",
              "</div>"
            ],
            "text/plain": [
              "                  ndvi_ne   ndvi_se  ...  station_precip_mm  total_cases\n",
              "week_start_date                      ...                                \n",
              "1990-05-05       0.122600  0.198483  ...               16.0          4.0\n",
              "1990-05-12       0.169900  0.162357  ...                8.6          5.0\n",
              "1990-05-19       0.032250  0.157200  ...               41.4          4.0\n",
              "1990-05-26       0.128633  0.227557  ...                4.0          3.0\n",
              "1990-06-02       0.196200  0.251200  ...                5.8          6.0\n",
              "...                   ...       ...  ...                ...          ...\n",
              "2008-03-29       0.077850  0.310471  ...                1.8          4.0\n",
              "2008-04-05      -0.038000  0.119371  ...                0.5          3.0\n",
              "2008-04-12      -0.155200  0.137757  ...               30.7          1.0\n",
              "2008-04-19       0.001800  0.203900  ...               11.2          3.0\n",
              "2008-04-26      -0.037000  0.077314  ...                0.3          5.0\n",
              "\n",
              "[939 rows x 11 columns]"
            ]
          },
          "metadata": {
            "tags": []
          },
          "execution_count": 52
        }
      ]
    },
    {
      "cell_type": "code",
      "metadata": {
        "id": "nkCsyi8DYWvk"
      },
      "source": [
        "Y"
      ],
      "execution_count": null,
      "outputs": []
    },
    {
      "cell_type": "code",
      "metadata": {
        "id": "0l2kILMwMqvK"
      },
      "source": [
        "#zz = Y.diff(12)\r\n",
        "#zz = df_fselect_less.diff(12)\r\n",
        "zz = df_fselect_less"
      ],
      "execution_count": null,
      "outputs": []
    },
    {
      "cell_type": "code",
      "metadata": {
        "id": "e8jQpcycMyzZ"
      },
      "source": [
        "zz"
      ],
      "execution_count": null,
      "outputs": []
    },
    {
      "cell_type": "code",
      "metadata": {
        "id": "Zx2IKR8qSzFZ"
      },
      "source": [
        "zz.iloc[12:]"
      ],
      "execution_count": null,
      "outputs": []
    },
    {
      "cell_type": "code",
      "metadata": {
        "id": "zV0zANbjO8hU"
      },
      "source": [
        "yyy = zz.iloc[13:-12]"
      ],
      "execution_count": null,
      "outputs": []
    },
    {
      "cell_type": "code",
      "metadata": {
        "id": "BWN2cH92QuSD"
      },
      "source": [
        "yyy"
      ],
      "execution_count": null,
      "outputs": []
    },
    {
      "cell_type": "code",
      "metadata": {
        "id": "Yc5I-hhgLEuX"
      },
      "source": [
        ""
      ],
      "execution_count": null,
      "outputs": []
    },
    {
      "cell_type": "code",
      "metadata": {
        "id": "YE45Tj6_Mduy"
      },
      "source": [
        "dataframe"
      ],
      "execution_count": null,
      "outputs": []
    },
    {
      "cell_type": "code",
      "metadata": {
        "id": "SAPZTFsgMhHp"
      },
      "source": [
        "yyy"
      ],
      "execution_count": null,
      "outputs": []
    },
    {
      "cell_type": "code",
      "metadata": {
        "id": "px_JbQOcMdg-"
      },
      "source": [
        "#df_two = pd.concat([yyy.reset_index(), dataframe.reset_index()],axis=1)\r\n",
        "df_two = pd.concat([yyy.reset_index(), dataframe.reset_index()],axis=1)"
      ],
      "execution_count": null,
      "outputs": []
    },
    {
      "cell_type": "code",
      "metadata": {
        "id": "kaZyfeslOGpm"
      },
      "source": [
        "df_two.drop(['index','total_cases'],inplace=True,axis=1)"
      ],
      "execution_count": null,
      "outputs": []
    },
    {
      "cell_type": "code",
      "metadata": {
        "id": "ysZXboZIRGck"
      },
      "source": [
        "df_two.set_index('week_start_date',inplace=True)"
      ],
      "execution_count": null,
      "outputs": []
    },
    {
      "cell_type": "code",
      "metadata": {
        "colab": {
          "base_uri": "https://localhost:8080/",
          "height": 470
        },
        "id": "3j7-srhrRZp5",
        "outputId": "6fda16e9-7c5a-4019-d671-6f94d374c6d3"
      },
      "source": [
        "df_two"
      ],
      "execution_count": null,
      "outputs": [
        {
          "output_type": "execute_result",
          "data": {
            "text/html": [
              "<div>\n",
              "<style scoped>\n",
              "    .dataframe tbody tr th:only-of-type {\n",
              "        vertical-align: middle;\n",
              "    }\n",
              "\n",
              "    .dataframe tbody tr th {\n",
              "        vertical-align: top;\n",
              "    }\n",
              "\n",
              "    .dataframe thead th {\n",
              "        text-align: right;\n",
              "    }\n",
              "</style>\n",
              "<table border=\"1\" class=\"dataframe\">\n",
              "  <thead>\n",
              "    <tr style=\"text-align: right;\">\n",
              "      <th></th>\n",
              "      <th>ndvi_ne</th>\n",
              "      <th>ndvi_se</th>\n",
              "      <th>ndvi_sw</th>\n",
              "      <th>precipitation_amt_mm</th>\n",
              "      <th>reanalysis_air_temp_k</th>\n",
              "      <th>reanalysis_precip_amt_kg_per_m2</th>\n",
              "      <th>reanalysis_relative_humidity_percent</th>\n",
              "      <th>reanalysis_tdtr_k</th>\n",
              "      <th>station_diur_temp_rng_c</th>\n",
              "      <th>station_precip_mm</th>\n",
              "      <th>t-12</th>\n",
              "      <th>t-11</th>\n",
              "      <th>t-10</th>\n",
              "      <th>t-9</th>\n",
              "      <th>t-8</th>\n",
              "      <th>t-7</th>\n",
              "      <th>t-6</th>\n",
              "      <th>t-5</th>\n",
              "      <th>t-4</th>\n",
              "      <th>t-3</th>\n",
              "      <th>t-2</th>\n",
              "      <th>t-1</th>\n",
              "      <th>t</th>\n",
              "    </tr>\n",
              "    <tr>\n",
              "      <th>week_start_date</th>\n",
              "      <th></th>\n",
              "      <th></th>\n",
              "      <th></th>\n",
              "      <th></th>\n",
              "      <th></th>\n",
              "      <th></th>\n",
              "      <th></th>\n",
              "      <th></th>\n",
              "      <th></th>\n",
              "      <th></th>\n",
              "      <th></th>\n",
              "      <th></th>\n",
              "      <th></th>\n",
              "      <th></th>\n",
              "      <th></th>\n",
              "      <th></th>\n",
              "      <th></th>\n",
              "      <th></th>\n",
              "      <th></th>\n",
              "      <th></th>\n",
              "      <th></th>\n",
              "      <th></th>\n",
              "      <th></th>\n",
              "    </tr>\n",
              "  </thead>\n",
              "  <tbody>\n",
              "    <tr>\n",
              "      <th>1990-08-04</th>\n",
              "      <td>0.160483</td>\n",
              "      <td>0.379700</td>\n",
              "      <td>0.381357</td>\n",
              "      <td>32.66</td>\n",
              "      <td>299.862857</td>\n",
              "      <td>34.60</td>\n",
              "      <td>80.584286</td>\n",
              "      <td>2.585714</td>\n",
              "      <td>8.085714</td>\n",
              "      <td>37.6</td>\n",
              "      <td>12.000000</td>\n",
              "      <td>19.000000</td>\n",
              "      <td>10.0</td>\n",
              "      <td>15.0</td>\n",
              "      <td>26.0</td>\n",
              "      <td>20.0</td>\n",
              "      <td>15.0</td>\n",
              "      <td>30.0</td>\n",
              "      <td>21.0</td>\n",
              "      <td>34.0</td>\n",
              "      <td>31.0</td>\n",
              "      <td>37.0</td>\n",
              "      <td>20.0</td>\n",
              "    </tr>\n",
              "    <tr>\n",
              "      <th>1990-08-11</th>\n",
              "      <td>0.170400</td>\n",
              "      <td>0.164443</td>\n",
              "      <td>0.138857</td>\n",
              "      <td>28.80</td>\n",
              "      <td>300.391429</td>\n",
              "      <td>20.00</td>\n",
              "      <td>79.650000</td>\n",
              "      <td>2.328571</td>\n",
              "      <td>7.557143</td>\n",
              "      <td>11.4</td>\n",
              "      <td>19.000000</td>\n",
              "      <td>10.000000</td>\n",
              "      <td>15.0</td>\n",
              "      <td>26.0</td>\n",
              "      <td>20.0</td>\n",
              "      <td>15.0</td>\n",
              "      <td>30.0</td>\n",
              "      <td>21.0</td>\n",
              "      <td>34.0</td>\n",
              "      <td>31.0</td>\n",
              "      <td>37.0</td>\n",
              "      <td>20.0</td>\n",
              "      <td>34.0</td>\n",
              "    </tr>\n",
              "    <tr>\n",
              "      <th>1990-08-18</th>\n",
              "      <td>0.180317</td>\n",
              "      <td>0.206957</td>\n",
              "      <td>0.168243</td>\n",
              "      <td>90.75</td>\n",
              "      <td>299.958571</td>\n",
              "      <td>101.90</td>\n",
              "      <td>84.178571</td>\n",
              "      <td>1.857143</td>\n",
              "      <td>6.685714</td>\n",
              "      <td>44.7</td>\n",
              "      <td>10.000000</td>\n",
              "      <td>15.000000</td>\n",
              "      <td>26.0</td>\n",
              "      <td>20.0</td>\n",
              "      <td>15.0</td>\n",
              "      <td>30.0</td>\n",
              "      <td>21.0</td>\n",
              "      <td>34.0</td>\n",
              "      <td>31.0</td>\n",
              "      <td>37.0</td>\n",
              "      <td>20.0</td>\n",
              "      <td>34.0</td>\n",
              "      <td>58.0</td>\n",
              "    </tr>\n",
              "    <tr>\n",
              "      <th>1990-08-25</th>\n",
              "      <td>0.190233</td>\n",
              "      <td>0.167657</td>\n",
              "      <td>0.172286</td>\n",
              "      <td>32.40</td>\n",
              "      <td>300.332857</td>\n",
              "      <td>25.90</td>\n",
              "      <td>80.947143</td>\n",
              "      <td>2.485714</td>\n",
              "      <td>7.014286</td>\n",
              "      <td>5.4</td>\n",
              "      <td>15.000000</td>\n",
              "      <td>26.000000</td>\n",
              "      <td>20.0</td>\n",
              "      <td>15.0</td>\n",
              "      <td>30.0</td>\n",
              "      <td>21.0</td>\n",
              "      <td>34.0</td>\n",
              "      <td>31.0</td>\n",
              "      <td>37.0</td>\n",
              "      <td>20.0</td>\n",
              "      <td>34.0</td>\n",
              "      <td>58.0</td>\n",
              "      <td>23.0</td>\n",
              "    </tr>\n",
              "    <tr>\n",
              "      <th>1990-09-01</th>\n",
              "      <td>0.252900</td>\n",
              "      <td>0.264171</td>\n",
              "      <td>0.284314</td>\n",
              "      <td>40.94</td>\n",
              "      <td>300.118571</td>\n",
              "      <td>39.80</td>\n",
              "      <td>83.348571</td>\n",
              "      <td>1.900000</td>\n",
              "      <td>6.528571</td>\n",
              "      <td>13.7</td>\n",
              "      <td>26.000000</td>\n",
              "      <td>20.000000</td>\n",
              "      <td>15.0</td>\n",
              "      <td>30.0</td>\n",
              "      <td>21.0</td>\n",
              "      <td>34.0</td>\n",
              "      <td>31.0</td>\n",
              "      <td>37.0</td>\n",
              "      <td>20.0</td>\n",
              "      <td>34.0</td>\n",
              "      <td>58.0</td>\n",
              "      <td>23.0</td>\n",
              "      <td>28.0</td>\n",
              "    </tr>\n",
              "    <tr>\n",
              "      <th>...</th>\n",
              "      <td>...</td>\n",
              "      <td>...</td>\n",
              "      <td>...</td>\n",
              "      <td>...</td>\n",
              "      <td>...</td>\n",
              "      <td>...</td>\n",
              "      <td>...</td>\n",
              "      <td>...</td>\n",
              "      <td>...</td>\n",
              "      <td>...</td>\n",
              "      <td>...</td>\n",
              "      <td>...</td>\n",
              "      <td>...</td>\n",
              "      <td>...</td>\n",
              "      <td>...</td>\n",
              "      <td>...</td>\n",
              "      <td>...</td>\n",
              "      <td>...</td>\n",
              "      <td>...</td>\n",
              "      <td>...</td>\n",
              "      <td>...</td>\n",
              "      <td>...</td>\n",
              "      <td>...</td>\n",
              "    </tr>\n",
              "    <tr>\n",
              "      <th>2008-01-05</th>\n",
              "      <td>0.000600</td>\n",
              "      <td>0.239814</td>\n",
              "      <td>0.195557</td>\n",
              "      <td>0.00</td>\n",
              "      <td>298.038571</td>\n",
              "      <td>27.99</td>\n",
              "      <td>76.148571</td>\n",
              "      <td>1.842857</td>\n",
              "      <td>5.300000</td>\n",
              "      <td>55.5</td>\n",
              "      <td>-53.857143</td>\n",
              "      <td>-54.428571</td>\n",
              "      <td>-53.0</td>\n",
              "      <td>-38.0</td>\n",
              "      <td>-39.0</td>\n",
              "      <td>-24.0</td>\n",
              "      <td>-27.0</td>\n",
              "      <td>-21.0</td>\n",
              "      <td>-12.0</td>\n",
              "      <td>-11.0</td>\n",
              "      <td>-11.0</td>\n",
              "      <td>-14.0</td>\n",
              "      <td>-11.0</td>\n",
              "    </tr>\n",
              "    <tr>\n",
              "      <th>2008-01-12</th>\n",
              "      <td>-0.008533</td>\n",
              "      <td>0.330486</td>\n",
              "      <td>0.244286</td>\n",
              "      <td>37.24</td>\n",
              "      <td>298.142857</td>\n",
              "      <td>37.66</td>\n",
              "      <td>76.131429</td>\n",
              "      <td>2.057143</td>\n",
              "      <td>5.014286</td>\n",
              "      <td>64.8</td>\n",
              "      <td>-54.428571</td>\n",
              "      <td>-53.000000</td>\n",
              "      <td>-38.0</td>\n",
              "      <td>-39.0</td>\n",
              "      <td>-24.0</td>\n",
              "      <td>-27.0</td>\n",
              "      <td>-21.0</td>\n",
              "      <td>-12.0</td>\n",
              "      <td>-11.0</td>\n",
              "      <td>-11.0</td>\n",
              "      <td>-14.0</td>\n",
              "      <td>-11.0</td>\n",
              "      <td>-11.0</td>\n",
              "    </tr>\n",
              "    <tr>\n",
              "      <th>2008-01-19</th>\n",
              "      <td>-0.017667</td>\n",
              "      <td>0.125000</td>\n",
              "      <td>0.108843</td>\n",
              "      <td>0.00</td>\n",
              "      <td>297.627143</td>\n",
              "      <td>4.10</td>\n",
              "      <td>75.642857</td>\n",
              "      <td>3.000000</td>\n",
              "      <td>5.628571</td>\n",
              "      <td>2.5</td>\n",
              "      <td>-53.000000</td>\n",
              "      <td>-38.000000</td>\n",
              "      <td>-39.0</td>\n",
              "      <td>-24.0</td>\n",
              "      <td>-27.0</td>\n",
              "      <td>-21.0</td>\n",
              "      <td>-12.0</td>\n",
              "      <td>-11.0</td>\n",
              "      <td>-11.0</td>\n",
              "      <td>-14.0</td>\n",
              "      <td>-11.0</td>\n",
              "      <td>-11.0</td>\n",
              "      <td>-14.0</td>\n",
              "    </tr>\n",
              "    <tr>\n",
              "      <th>2008-01-26</th>\n",
              "      <td>-0.026800</td>\n",
              "      <td>0.112614</td>\n",
              "      <td>0.160214</td>\n",
              "      <td>81.22</td>\n",
              "      <td>297.968571</td>\n",
              "      <td>27.16</td>\n",
              "      <td>77.167143</td>\n",
              "      <td>2.000000</td>\n",
              "      <td>4.585714</td>\n",
              "      <td>83.1</td>\n",
              "      <td>-38.000000</td>\n",
              "      <td>-39.000000</td>\n",
              "      <td>-24.0</td>\n",
              "      <td>-27.0</td>\n",
              "      <td>-21.0</td>\n",
              "      <td>-12.0</td>\n",
              "      <td>-11.0</td>\n",
              "      <td>-11.0</td>\n",
              "      <td>-14.0</td>\n",
              "      <td>-11.0</td>\n",
              "      <td>-11.0</td>\n",
              "      <td>-14.0</td>\n",
              "      <td>-7.0</td>\n",
              "    </tr>\n",
              "    <tr>\n",
              "      <th>2008-02-02</th>\n",
              "      <td>-0.069250</td>\n",
              "      <td>0.223300</td>\n",
              "      <td>0.170943</td>\n",
              "      <td>0.00</td>\n",
              "      <td>298.021429</td>\n",
              "      <td>2.70</td>\n",
              "      <td>73.565714</td>\n",
              "      <td>3.300000</td>\n",
              "      <td>6.442857</td>\n",
              "      <td>3.1</td>\n",
              "      <td>-39.000000</td>\n",
              "      <td>-24.000000</td>\n",
              "      <td>-27.0</td>\n",
              "      <td>-21.0</td>\n",
              "      <td>-12.0</td>\n",
              "      <td>-11.0</td>\n",
              "      <td>-11.0</td>\n",
              "      <td>-14.0</td>\n",
              "      <td>-11.0</td>\n",
              "      <td>-11.0</td>\n",
              "      <td>-14.0</td>\n",
              "      <td>-7.0</td>\n",
              "      <td>-4.0</td>\n",
              "    </tr>\n",
              "  </tbody>\n",
              "</table>\n",
              "<p>914 rows × 23 columns</p>\n",
              "</div>"
            ],
            "text/plain": [
              "                  ndvi_ne   ndvi_se   ndvi_sw  ...   t-2   t-1     t\n",
              "week_start_date                                ...                  \n",
              "1990-08-04       0.160483  0.379700  0.381357  ...  31.0  37.0  20.0\n",
              "1990-08-11       0.170400  0.164443  0.138857  ...  37.0  20.0  34.0\n",
              "1990-08-18       0.180317  0.206957  0.168243  ...  20.0  34.0  58.0\n",
              "1990-08-25       0.190233  0.167657  0.172286  ...  34.0  58.0  23.0\n",
              "1990-09-01       0.252900  0.264171  0.284314  ...  58.0  23.0  28.0\n",
              "...                   ...       ...       ...  ...   ...   ...   ...\n",
              "2008-01-05       0.000600  0.239814  0.195557  ... -11.0 -14.0 -11.0\n",
              "2008-01-12      -0.008533  0.330486  0.244286  ... -14.0 -11.0 -11.0\n",
              "2008-01-19      -0.017667  0.125000  0.108843  ... -11.0 -11.0 -14.0\n",
              "2008-01-26      -0.026800  0.112614  0.160214  ... -11.0 -14.0  -7.0\n",
              "2008-02-02      -0.069250  0.223300  0.170943  ... -14.0  -7.0  -4.0\n",
              "\n",
              "[914 rows x 23 columns]"
            ]
          },
          "metadata": {
            "tags": []
          },
          "execution_count": 58
        }
      ]
    },
    {
      "cell_type": "code",
      "metadata": {
        "id": "Rt5Iw7dbScyM"
      },
      "source": [
        "df_feature_selection = df_two.reset_index()"
      ],
      "execution_count": null,
      "outputs": []
    },
    {
      "cell_type": "code",
      "metadata": {
        "id": "72mDDxRylex-"
      },
      "source": [
        "df_feature_selection['weeknum'] = df_feature_selection['week_start_date'].dt.week"
      ],
      "execution_count": null,
      "outputs": []
    },
    {
      "cell_type": "code",
      "metadata": {
        "id": "xj1bp1BlmgQQ"
      },
      "source": [
        "df_feature_selection['year'] = df_feature_selection['week_start_date'].dt.year"
      ],
      "execution_count": null,
      "outputs": []
    },
    {
      "cell_type": "code",
      "metadata": {
        "colab": {
          "base_uri": "https://localhost:8080/",
          "height": 241
        },
        "id": "j49QLuwPlva3",
        "outputId": "f100c3b3-76a4-4fdb-cc40-0de5f7598c53"
      },
      "source": [
        "df_feature_selection.head()"
      ],
      "execution_count": null,
      "outputs": [
        {
          "output_type": "execute_result",
          "data": {
            "text/html": [
              "<div>\n",
              "<style scoped>\n",
              "    .dataframe tbody tr th:only-of-type {\n",
              "        vertical-align: middle;\n",
              "    }\n",
              "\n",
              "    .dataframe tbody tr th {\n",
              "        vertical-align: top;\n",
              "    }\n",
              "\n",
              "    .dataframe thead th {\n",
              "        text-align: right;\n",
              "    }\n",
              "</style>\n",
              "<table border=\"1\" class=\"dataframe\">\n",
              "  <thead>\n",
              "    <tr style=\"text-align: right;\">\n",
              "      <th></th>\n",
              "      <th>week_start_date</th>\n",
              "      <th>ndvi_ne</th>\n",
              "      <th>ndvi_se</th>\n",
              "      <th>ndvi_sw</th>\n",
              "      <th>precipitation_amt_mm</th>\n",
              "      <th>reanalysis_air_temp_k</th>\n",
              "      <th>reanalysis_precip_amt_kg_per_m2</th>\n",
              "      <th>reanalysis_relative_humidity_percent</th>\n",
              "      <th>reanalysis_tdtr_k</th>\n",
              "      <th>station_diur_temp_rng_c</th>\n",
              "      <th>station_precip_mm</th>\n",
              "      <th>t-12</th>\n",
              "      <th>t-11</th>\n",
              "      <th>t-10</th>\n",
              "      <th>t-9</th>\n",
              "      <th>t-8</th>\n",
              "      <th>t-7</th>\n",
              "      <th>t-6</th>\n",
              "      <th>t-5</th>\n",
              "      <th>t-4</th>\n",
              "      <th>t-3</th>\n",
              "      <th>t-2</th>\n",
              "      <th>t-1</th>\n",
              "      <th>t</th>\n",
              "    </tr>\n",
              "  </thead>\n",
              "  <tbody>\n",
              "    <tr>\n",
              "      <th>0</th>\n",
              "      <td>1990-08-04</td>\n",
              "      <td>-0.009417</td>\n",
              "      <td>0.217343</td>\n",
              "      <td>0.225871</td>\n",
              "      <td>9.84</td>\n",
              "      <td>1.651429</td>\n",
              "      <td>16.66</td>\n",
              "      <td>3.215714</td>\n",
              "      <td>0.214286</td>\n",
              "      <td>1.714286</td>\n",
              "      <td>29.0</td>\n",
              "      <td>12.0</td>\n",
              "      <td>19.0</td>\n",
              "      <td>10.0</td>\n",
              "      <td>15.0</td>\n",
              "      <td>26.0</td>\n",
              "      <td>20.0</td>\n",
              "      <td>15.0</td>\n",
              "      <td>30.0</td>\n",
              "      <td>21.0</td>\n",
              "      <td>34.0</td>\n",
              "      <td>31.0</td>\n",
              "      <td>37.0</td>\n",
              "      <td>20.0</td>\n",
              "    </tr>\n",
              "    <tr>\n",
              "      <th>1</th>\n",
              "      <td>1990-08-11</td>\n",
              "      <td>0.138150</td>\n",
              "      <td>0.007243</td>\n",
              "      <td>-0.031986</td>\n",
              "      <td>-5.74</td>\n",
              "      <td>1.610000</td>\n",
              "      <td>-6.10</td>\n",
              "      <td>-2.402857</td>\n",
              "      <td>0.028571</td>\n",
              "      <td>1.071429</td>\n",
              "      <td>-30.0</td>\n",
              "      <td>19.0</td>\n",
              "      <td>10.0</td>\n",
              "      <td>15.0</td>\n",
              "      <td>26.0</td>\n",
              "      <td>20.0</td>\n",
              "      <td>15.0</td>\n",
              "      <td>30.0</td>\n",
              "      <td>21.0</td>\n",
              "      <td>34.0</td>\n",
              "      <td>31.0</td>\n",
              "      <td>37.0</td>\n",
              "      <td>20.0</td>\n",
              "      <td>34.0</td>\n",
              "    </tr>\n",
              "    <tr>\n",
              "      <th>2</th>\n",
              "      <td>1990-08-18</td>\n",
              "      <td>0.051683</td>\n",
              "      <td>-0.020600</td>\n",
              "      <td>-0.067643</td>\n",
              "      <td>75.39</td>\n",
              "      <td>0.971429</td>\n",
              "      <td>88.00</td>\n",
              "      <td>3.841429</td>\n",
              "      <td>-0.571429</td>\n",
              "      <td>-0.085714</td>\n",
              "      <td>40.7</td>\n",
              "      <td>10.0</td>\n",
              "      <td>15.0</td>\n",
              "      <td>26.0</td>\n",
              "      <td>20.0</td>\n",
              "      <td>15.0</td>\n",
              "      <td>30.0</td>\n",
              "      <td>21.0</td>\n",
              "      <td>34.0</td>\n",
              "      <td>31.0</td>\n",
              "      <td>37.0</td>\n",
              "      <td>20.0</td>\n",
              "      <td>34.0</td>\n",
              "      <td>58.0</td>\n",
              "    </tr>\n",
              "    <tr>\n",
              "      <th>3</th>\n",
              "      <td>1990-08-25</td>\n",
              "      <td>-0.005967</td>\n",
              "      <td>-0.083543</td>\n",
              "      <td>-0.075054</td>\n",
              "      <td>24.88</td>\n",
              "      <td>0.814286</td>\n",
              "      <td>13.70</td>\n",
              "      <td>0.487143</td>\n",
              "      <td>-0.528571</td>\n",
              "      <td>-2.357143</td>\n",
              "      <td>-0.4</td>\n",
              "      <td>15.0</td>\n",
              "      <td>26.0</td>\n",
              "      <td>20.0</td>\n",
              "      <td>15.0</td>\n",
              "      <td>30.0</td>\n",
              "      <td>21.0</td>\n",
              "      <td>34.0</td>\n",
              "      <td>31.0</td>\n",
              "      <td>37.0</td>\n",
              "      <td>20.0</td>\n",
              "      <td>34.0</td>\n",
              "      <td>58.0</td>\n",
              "      <td>23.0</td>\n",
              "    </tr>\n",
              "    <tr>\n",
              "      <th>4</th>\n",
              "      <td>1990-09-01</td>\n",
              "      <td>0.098350</td>\n",
              "      <td>0.009857</td>\n",
              "      <td>0.102571</td>\n",
              "      <td>31.36</td>\n",
              "      <td>0.488571</td>\n",
              "      <td>13.31</td>\n",
              "      <td>3.457143</td>\n",
              "      <td>-0.200000</td>\n",
              "      <td>-0.414286</td>\n",
              "      <td>-25.4</td>\n",
              "      <td>26.0</td>\n",
              "      <td>20.0</td>\n",
              "      <td>15.0</td>\n",
              "      <td>30.0</td>\n",
              "      <td>21.0</td>\n",
              "      <td>34.0</td>\n",
              "      <td>31.0</td>\n",
              "      <td>37.0</td>\n",
              "      <td>20.0</td>\n",
              "      <td>34.0</td>\n",
              "      <td>58.0</td>\n",
              "      <td>23.0</td>\n",
              "      <td>28.0</td>\n",
              "    </tr>\n",
              "  </tbody>\n",
              "</table>\n",
              "</div>"
            ],
            "text/plain": [
              "  week_start_date   ndvi_ne   ndvi_se   ndvi_sw  ...   t-3   t-2   t-1     t\n",
              "0      1990-08-04 -0.009417  0.217343  0.225871  ...  34.0  31.0  37.0  20.0\n",
              "1      1990-08-11  0.138150  0.007243 -0.031986  ...  31.0  37.0  20.0  34.0\n",
              "2      1990-08-18  0.051683 -0.020600 -0.067643  ...  37.0  20.0  34.0  58.0\n",
              "3      1990-08-25 -0.005967 -0.083543 -0.075054  ...  20.0  34.0  58.0  23.0\n",
              "4      1990-09-01  0.098350  0.009857  0.102571  ...  34.0  58.0  23.0  28.0\n",
              "\n",
              "[5 rows x 24 columns]"
            ]
          },
          "metadata": {
            "tags": []
          },
          "execution_count": 88
        }
      ]
    },
    {
      "cell_type": "code",
      "metadata": {
        "id": "uNAogxPSlvWA"
      },
      "source": [
        "df_feature_selection"
      ],
      "execution_count": null,
      "outputs": []
    },
    {
      "cell_type": "code",
      "metadata": {
        "id": "hwGT3icYnicY"
      },
      "source": [
        ""
      ],
      "execution_count": null,
      "outputs": []
    },
    {
      "cell_type": "code",
      "metadata": {
        "id": "xNW70wYJlvTP"
      },
      "source": [
        ""
      ],
      "execution_count": null,
      "outputs": []
    },
    {
      "cell_type": "code",
      "metadata": {
        "id": "rHD_cBHen3KZ"
      },
      "source": [
        "df_feature_selection.columns"
      ],
      "execution_count": null,
      "outputs": []
    },
    {
      "cell_type": "code",
      "metadata": {
        "id": "nrJ8UdZdoKHS"
      },
      "source": [
        ""
      ],
      "execution_count": null,
      "outputs": []
    },
    {
      "cell_type": "code",
      "metadata": {
        "id": "hx6P3a1hlvRO"
      },
      "source": [
        "df_feature_selection = df_feature_selection.astype({'weeknum': 'str','year':'str'}) \r\n",
        "df_feature_selection = df_feature_selection.astype({'weeknum': 'str','year':'str'}) "
      ],
      "execution_count": null,
      "outputs": []
    },
    {
      "cell_type": "code",
      "metadata": {
        "id": "Ap2z6cDUMKDV"
      },
      "source": [
        ""
      ],
      "execution_count": null,
      "outputs": []
    },
    {
      "cell_type": "code",
      "metadata": {
        "id": "zdyDaBk2oLc1"
      },
      "source": [
        "df_feature_selection.set_index('week_start_date',inplace=True)"
      ],
      "execution_count": null,
      "outputs": []
    },
    {
      "cell_type": "code",
      "metadata": {
        "id": "cohQfEDi1J1q"
      },
      "source": [
        "df_feature_selection.dtypes"
      ],
      "execution_count": null,
      "outputs": []
    },
    {
      "cell_type": "code",
      "metadata": {
        "id": "zeI9Kelu1TLY"
      },
      "source": [
        "df_feature_selection"
      ],
      "execution_count": null,
      "outputs": []
    },
    {
      "cell_type": "code",
      "metadata": {
        "id": "d3pRx6_v7tb7"
      },
      "source": [
        "X = df_feature_selection.drop('t',axis=1)\r\n",
        "Y = df_feature_selection[['t']]\r\n",
        "train_Xsj, train_Ysj = X[:-131], Y[:-131]\r\n",
        "valid_Xsj, valid_Ysj = X[-131:], Y[-131:]"
      ],
      "execution_count": null,
      "outputs": []
    },
    {
      "cell_type": "code",
      "metadata": {
        "id": "A4gE7hTf1Xvv"
      },
      "source": [
        "train_Ysj"
      ],
      "execution_count": null,
      "outputs": []
    },
    {
      "cell_type": "code",
      "metadata": {
        "id": "YI9hvntr2qpy"
      },
      "source": [
        ""
      ],
      "execution_count": null,
      "outputs": []
    },
    {
      "cell_type": "code",
      "metadata": {
        "id": "l5YS2OztletE"
      },
      "source": [
        "# Feature-Engine's one hot encoder also selects\r\n",
        "# all categorical variables automatically\r\n",
        "\r\n",
        "ohe_enc = fe_OneHotEncoder(\r\n",
        "    top_categories=None,\r\n",
        "    drop_last=True)  # to return k-1, false to return k\r\n",
        "\r\n",
        "\r\n",
        "train_Xsj_encoded = ohe_enc.fit_transform(train_Xsj.fillna('Missing'))\r\n",
        "valid_Xsj_encoded = ohe_enc.fit_transform(valid_Xsj.fillna('Missing'))\r\n",
        "\r\n",
        "#train_Ysj_encoded = ohe_enc.fit_transform(train_Ysj.fillna('Missing'))\r\n",
        "#valid_Ysj_encoded = ohe_enc.fit_transform(valid_Ysj.fillna('Missing'))"
      ],
      "execution_count": null,
      "outputs": []
    },
    {
      "cell_type": "code",
      "metadata": {
        "id": "tw2f65A6PpKR"
      },
      "source": [
        "df_feature_selection.set_index('week_start_date',inplace=True)"
      ],
      "execution_count": null,
      "outputs": []
    },
    {
      "cell_type": "code",
      "metadata": {
        "id": "YdWe-OKonEVy"
      },
      "source": [
        "#train_Xsj_encoded"
      ],
      "execution_count": null,
      "outputs": []
    },
    {
      "cell_type": "code",
      "metadata": {
        "id": "dZj4ex9iOwoh"
      },
      "source": [
        "colss = X.columns"
      ],
      "execution_count": null,
      "outputs": []
    },
    {
      "cell_type": "code",
      "metadata": {
        "id": "lHQMKmIlPhdQ"
      },
      "source": [
        "colss = ['ndvi_ne',\r\n",
        " 'ndvi_se',\r\n",
        " 'ndvi_sw',\r\n",
        " 'precipitation_amt_mm',\r\n",
        " 'reanalysis_air_temp_k',\r\n",
        " 'reanalysis_precip_amt_kg_per_m2',\r\n",
        " 'reanalysis_relative_humidity_percent',\r\n",
        " 'reanalysis_tdtr_k',\r\n",
        " 'station_diur_temp_rng_c',\r\n",
        " 'station_precip_mm']"
      ],
      "execution_count": null,
      "outputs": []
    },
    {
      "cell_type": "code",
      "metadata": {
        "id": "8ebrVrZ5Qf6Y"
      },
      "source": [
        "cc = train_Xsj.columns"
      ],
      "execution_count": null,
      "outputs": []
    },
    {
      "cell_type": "code",
      "metadata": {
        "colab": {
          "base_uri": "https://localhost:8080/"
        },
        "id": "rg2mqo7M025O",
        "outputId": "cb263371-8f4b-47e2-eadb-6104d38d18e7"
      },
      "source": [
        "cc"
      ],
      "execution_count": null,
      "outputs": [
        {
          "output_type": "execute_result",
          "data": {
            "text/plain": [
              "Index(['ndvi_ne', 'ndvi_se', 'ndvi_sw', 'precipitation_amt_mm',\n",
              "       'reanalysis_air_temp_k', 'reanalysis_precip_amt_kg_per_m2',\n",
              "       'reanalysis_relative_humidity_percent', 'reanalysis_tdtr_k',\n",
              "       'station_diur_temp_rng_c', 'station_precip_mm', 't-12', 't-11', 't-10',\n",
              "       't-9', 't-8', 't-7', 't-6', 't-5', 't-4', 't-3', 't-2', 't-1'],\n",
              "      dtype='object')"
            ]
          },
          "metadata": {
            "tags": []
          },
          "execution_count": 99
        }
      ]
    },
    {
      "cell_type": "code",
      "metadata": {
        "id": "8t77BWtlI-Md"
      },
      "source": [
        "'''\r\n",
        "X = df_feature_selection.drop('t',axis=1)\r\n",
        "Y = df_feature_selection[['t']]\r\n",
        "train_Xsj, train_Ysj = X[:-131], Y[:-131]\r\n",
        "valid_Xsj, valid_Ysj = X[-131:], Y[-131:]\r\n",
        "'''"
      ],
      "execution_count": null,
      "outputs": []
    },
    {
      "cell_type": "code",
      "metadata": {
        "id": "uRh83cBbTuJj"
      },
      "source": [
        "colss = X.columns"
      ],
      "execution_count": null,
      "outputs": []
    },
    {
      "cell_type": "code",
      "metadata": {
        "colab": {
          "base_uri": "https://localhost:8080/"
        },
        "id": "p4PunHBVwyjC",
        "outputId": "8b6a5177-2cc9-47e8-dca6-af06a9940d0b"
      },
      "source": [
        "train_Ysj['t']"
      ],
      "execution_count": null,
      "outputs": [
        {
          "output_type": "execute_result",
          "data": {
            "text/plain": [
              "week_start_date\n",
              "1990-08-04    0.850089\n",
              "1990-08-11    1.464250\n",
              "1990-08-18    2.517099\n",
              "1990-08-25    0.981695\n",
              "1990-09-01    1.201038\n",
              "                ...   \n",
              "2005-07-02    2.263635\n",
              "2005-07-09    1.859069\n",
              "2005-07-16   -0.115022\n",
              "2005-07-23   -0.071154\n",
              "2005-07-30   -0.904659\n",
              "Name: t, Length: 783, dtype: float64"
            ]
          },
          "metadata": {
            "tags": []
          },
          "execution_count": 71
        }
      ]
    },
    {
      "cell_type": "code",
      "metadata": {
        "id": "xlJaIeXKI-KI"
      },
      "source": [
        "# set up the scaler\r\n",
        "scaler = StandardScaler()\r\n",
        "\r\n",
        "# fit the scaler to the train set, it will learn the parameters\r\n",
        "scaler.fit(train_Xsj.loc[:][colss])\r\n",
        "\r\n",
        "# transform train and test sets\r\n",
        "train_Xsj.loc[:][colss] = scaler.transform(train_Xsj.loc[:][colss])\r\n",
        "valid_Xsj.loc[:][colss]= scaler.transform(valid_Xsj.loc[:][colss])\r\n",
        "#test_iq_clean_less_encoded.loc[:][columns_to_scale]= scaler.transform(test_iq_clean_less_encoded.loc[:][columns_to_scale])\r\n",
        "# set up the scaler\r\n",
        "scaler = StandardScaler()\r\n",
        "\r\n",
        "# fit the scaler to the train set, it will learn the parameters\r\n",
        "scaler.fit(train_Ysj)\r\n",
        "\r\n",
        "# transform train and test sets\r\n",
        "train_Ysj.loc[:]['t'] = scaler.transform(train_Ysj)\r\n",
        "valid_Ysj.loc[:]['t']= scaler.transform(valid_Ysj)"
      ],
      "execution_count": null,
      "outputs": []
    },
    {
      "cell_type": "code",
      "metadata": {
        "id": "NORs3QxMI-IU",
        "colab": {
          "base_uri": "https://localhost:8080/"
        },
        "outputId": "195bc0b0-8d3d-4d8a-8103-58d184d1f03c"
      },
      "source": [
        "train_Xsj.columns"
      ],
      "execution_count": null,
      "outputs": [
        {
          "output_type": "execute_result",
          "data": {
            "text/plain": [
              "Index(['ndvi_ne', 'ndvi_se', 'ndvi_sw', 'precipitation_amt_mm',\n",
              "       'reanalysis_air_temp_k', 'reanalysis_precip_amt_kg_per_m2',\n",
              "       'reanalysis_relative_humidity_percent', 'reanalysis_tdtr_k',\n",
              "       'station_diur_temp_rng_c', 'station_precip_mm', 't-12', 't-11', 't-10',\n",
              "       't-9', 't-8', 't-7', 't-6', 't-5', 't-4', 't-3', 't-2', 't-1'],\n",
              "      dtype='object')"
            ]
          },
          "metadata": {
            "tags": []
          },
          "execution_count": 38
        }
      ]
    },
    {
      "cell_type": "code",
      "metadata": {
        "id": "U4lmG3HiwI7P"
      },
      "source": [
        "train_Xsj"
      ],
      "execution_count": null,
      "outputs": []
    },
    {
      "cell_type": "code",
      "metadata": {
        "id": "XOzGODdDv5eF"
      },
      "source": [
        "cols3 = ['ndvi_ne', 'ndvi_se', 'ndvi_sw', 'precipitation_amt_mm',\r\n",
        "       'reanalysis_air_temp_k', 'reanalysis_precip_amt_kg_per_m2',\r\n",
        "       'reanalysis_relative_humidity_percent', 'reanalysis_tdtr_k',\r\n",
        "       'station_diur_temp_rng_c', 'station_precip_mm']"
      ],
      "execution_count": null,
      "outputs": []
    },
    {
      "cell_type": "code",
      "metadata": {
        "id": "ahlUTHzvI-Ck"
      },
      "source": [
        "'''\r\n",
        "df_fselect = pd.read_csv('train_sj_NOoutlier.csv',parse_dates=['week_start_date'],index_col=0)\r\n",
        "df_fselect = df_fselect.drop(['year','weekofyear'],axis=1)\r\n",
        "X = df_fselect.drop('total_cases',axis=1)\r\n",
        "Y = df_fselect[['total_cases']]\r\n",
        "train_Xsj, train_Ysj = X[:-156], Y[:-156]\r\n",
        "valid_Xsj, valid_Ysj = X[-156:], Y[-156:]\r\n",
        "'''"
      ],
      "execution_count": null,
      "outputs": []
    },
    {
      "cell_type": "code",
      "metadata": {
        "id": "lCjNzjqoI-AS"
      },
      "source": [
        ""
      ],
      "execution_count": null,
      "outputs": []
    },
    {
      "cell_type": "code",
      "metadata": {
        "id": "HE2mrqDinESh"
      },
      "source": [
        "from sklearn.ensemble import RandomForestClassifier, RandomForestRegressor\r\n",
        "from sklearn.feature_selection import SelectFromModel"
      ],
      "execution_count": null,
      "outputs": []
    },
    {
      "cell_type": "code",
      "metadata": {
        "colab": {
          "base_uri": "https://localhost:8080/",
          "height": 487
        },
        "id": "69PX-Yg9Q3t8",
        "outputId": "c7c579b3-372f-4c77-f67a-0a4de603a325"
      },
      "source": [
        "train_Xsj"
      ],
      "execution_count": null,
      "outputs": [
        {
          "output_type": "execute_result",
          "data": {
            "text/html": [
              "<div>\n",
              "<style scoped>\n",
              "    .dataframe tbody tr th:only-of-type {\n",
              "        vertical-align: middle;\n",
              "    }\n",
              "\n",
              "    .dataframe tbody tr th {\n",
              "        vertical-align: top;\n",
              "    }\n",
              "\n",
              "    .dataframe thead th {\n",
              "        text-align: right;\n",
              "    }\n",
              "</style>\n",
              "<table border=\"1\" class=\"dataframe\">\n",
              "  <thead>\n",
              "    <tr style=\"text-align: right;\">\n",
              "      <th></th>\n",
              "      <th>ndvi_ne</th>\n",
              "      <th>ndvi_se</th>\n",
              "      <th>ndvi_sw</th>\n",
              "      <th>precipitation_amt_mm</th>\n",
              "      <th>reanalysis_air_temp_k</th>\n",
              "      <th>reanalysis_precip_amt_kg_per_m2</th>\n",
              "      <th>reanalysis_relative_humidity_percent</th>\n",
              "      <th>reanalysis_tdtr_k</th>\n",
              "      <th>station_diur_temp_rng_c</th>\n",
              "      <th>station_precip_mm</th>\n",
              "      <th>t-12</th>\n",
              "      <th>t-11</th>\n",
              "      <th>t-10</th>\n",
              "      <th>t-9</th>\n",
              "      <th>t-8</th>\n",
              "      <th>t-7</th>\n",
              "      <th>t-6</th>\n",
              "      <th>t-5</th>\n",
              "      <th>t-4</th>\n",
              "      <th>t-3</th>\n",
              "      <th>t-2</th>\n",
              "      <th>t-1</th>\n",
              "    </tr>\n",
              "    <tr>\n",
              "      <th>week_start_date</th>\n",
              "      <th></th>\n",
              "      <th></th>\n",
              "      <th></th>\n",
              "      <th></th>\n",
              "      <th></th>\n",
              "      <th></th>\n",
              "      <th></th>\n",
              "      <th></th>\n",
              "      <th></th>\n",
              "      <th></th>\n",
              "      <th></th>\n",
              "      <th></th>\n",
              "      <th></th>\n",
              "      <th></th>\n",
              "      <th></th>\n",
              "      <th></th>\n",
              "      <th></th>\n",
              "      <th></th>\n",
              "      <th></th>\n",
              "      <th></th>\n",
              "      <th></th>\n",
              "      <th></th>\n",
              "    </tr>\n",
              "  </thead>\n",
              "  <tbody>\n",
              "    <tr>\n",
              "      <th>1990-08-04</th>\n",
              "      <td>-0.062074</td>\n",
              "      <td>2.789689</td>\n",
              "      <td>2.858133</td>\n",
              "      <td>0.141030</td>\n",
              "      <td>1.038949</td>\n",
              "      <td>0.322460</td>\n",
              "      <td>0.688446</td>\n",
              "      <td>0.306014</td>\n",
              "      <td>1.528513</td>\n",
              "      <td>0.692104</td>\n",
              "      <td>12.0</td>\n",
              "      <td>19.000000</td>\n",
              "      <td>10.000000</td>\n",
              "      <td>15.000000</td>\n",
              "      <td>26.000000</td>\n",
              "      <td>20.000000</td>\n",
              "      <td>15.000000</td>\n",
              "      <td>30.000000</td>\n",
              "      <td>21.000000</td>\n",
              "      <td>34.000000</td>\n",
              "      <td>31.000000</td>\n",
              "      <td>37.000000</td>\n",
              "    </tr>\n",
              "    <tr>\n",
              "      <th>1990-08-11</th>\n",
              "      <td>1.134042</td>\n",
              "      <td>0.101720</td>\n",
              "      <td>-0.395492</td>\n",
              "      <td>-0.094701</td>\n",
              "      <td>1.012591</td>\n",
              "      <td>-0.121649</td>\n",
              "      <td>-0.510876</td>\n",
              "      <td>0.028738</td>\n",
              "      <td>0.958476</td>\n",
              "      <td>-0.731639</td>\n",
              "      <td>19.0</td>\n",
              "      <td>10.000000</td>\n",
              "      <td>15.000000</td>\n",
              "      <td>26.000000</td>\n",
              "      <td>20.000000</td>\n",
              "      <td>15.000000</td>\n",
              "      <td>30.000000</td>\n",
              "      <td>21.000000</td>\n",
              "      <td>34.000000</td>\n",
              "      <td>31.000000</td>\n",
              "      <td>37.000000</td>\n",
              "      <td>20.000000</td>\n",
              "    </tr>\n",
              "    <tr>\n",
              "      <th>1990-08-18</th>\n",
              "      <td>0.433178</td>\n",
              "      <td>-0.254495</td>\n",
              "      <td>-0.845409</td>\n",
              "      <td>1.132827</td>\n",
              "      <td>0.606309</td>\n",
              "      <td>1.714496</td>\n",
              "      <td>0.822009</td>\n",
              "      <td>-0.867075</td>\n",
              "      <td>-0.067592</td>\n",
              "      <td>0.974439</td>\n",
              "      <td>10.0</td>\n",
              "      <td>15.000000</td>\n",
              "      <td>26.000000</td>\n",
              "      <td>20.000000</td>\n",
              "      <td>15.000000</td>\n",
              "      <td>30.000000</td>\n",
              "      <td>21.000000</td>\n",
              "      <td>34.000000</td>\n",
              "      <td>31.000000</td>\n",
              "      <td>37.000000</td>\n",
              "      <td>20.000000</td>\n",
              "      <td>34.000000</td>\n",
              "    </tr>\n",
              "    <tr>\n",
              "      <th>1990-08-25</th>\n",
              "      <td>-0.034110</td>\n",
              "      <td>-1.059772</td>\n",
              "      <td>-0.938927</td>\n",
              "      <td>0.368591</td>\n",
              "      <td>0.506329</td>\n",
              "      <td>0.264703</td>\n",
              "      <td>0.106014</td>\n",
              "      <td>-0.803089</td>\n",
              "      <td>-2.081726</td>\n",
              "      <td>-0.017354</td>\n",
              "      <td>15.0</td>\n",
              "      <td>26.000000</td>\n",
              "      <td>20.000000</td>\n",
              "      <td>15.000000</td>\n",
              "      <td>30.000000</td>\n",
              "      <td>21.000000</td>\n",
              "      <td>34.000000</td>\n",
              "      <td>31.000000</td>\n",
              "      <td>37.000000</td>\n",
              "      <td>20.000000</td>\n",
              "      <td>34.000000</td>\n",
              "      <td>58.000000</td>\n",
              "    </tr>\n",
              "    <tr>\n",
              "      <th>1990-09-01</th>\n",
              "      <td>0.811439</td>\n",
              "      <td>0.135165</td>\n",
              "      <td>1.302342</td>\n",
              "      <td>0.466636</td>\n",
              "      <td>0.299098</td>\n",
              "      <td>0.257093</td>\n",
              "      <td>0.739980</td>\n",
              "      <td>-0.312524</td>\n",
              "      <td>-0.358945</td>\n",
              "      <td>-0.620635</td>\n",
              "      <td>26.0</td>\n",
              "      <td>20.000000</td>\n",
              "      <td>15.000000</td>\n",
              "      <td>30.000000</td>\n",
              "      <td>21.000000</td>\n",
              "      <td>34.000000</td>\n",
              "      <td>31.000000</td>\n",
              "      <td>37.000000</td>\n",
              "      <td>20.000000</td>\n",
              "      <td>34.000000</td>\n",
              "      <td>58.000000</td>\n",
              "      <td>23.000000</td>\n",
              "    </tr>\n",
              "    <tr>\n",
              "      <th>...</th>\n",
              "      <td>...</td>\n",
              "      <td>...</td>\n",
              "      <td>...</td>\n",
              "      <td>...</td>\n",
              "      <td>...</td>\n",
              "      <td>...</td>\n",
              "      <td>...</td>\n",
              "      <td>...</td>\n",
              "      <td>...</td>\n",
              "      <td>...</td>\n",
              "      <td>...</td>\n",
              "      <td>...</td>\n",
              "      <td>...</td>\n",
              "      <td>...</td>\n",
              "      <td>...</td>\n",
              "      <td>...</td>\n",
              "      <td>...</td>\n",
              "      <td>...</td>\n",
              "      <td>...</td>\n",
              "      <td>...</td>\n",
              "      <td>...</td>\n",
              "      <td>...</td>\n",
              "    </tr>\n",
              "    <tr>\n",
              "      <th>2005-07-02</th>\n",
              "      <td>0.700798</td>\n",
              "      <td>-0.415545</td>\n",
              "      <td>-0.768230</td>\n",
              "      <td>0.142241</td>\n",
              "      <td>1.248907</td>\n",
              "      <td>0.399145</td>\n",
              "      <td>0.431078</td>\n",
              "      <td>-0.653786</td>\n",
              "      <td>-0.586960</td>\n",
              "      <td>1.075791</td>\n",
              "      <td>14.0</td>\n",
              "      <td>29.000000</td>\n",
              "      <td>44.000000</td>\n",
              "      <td>52.000000</td>\n",
              "      <td>73.000000</td>\n",
              "      <td>68.777778</td>\n",
              "      <td>71.555556</td>\n",
              "      <td>70.333333</td>\n",
              "      <td>64.111111</td>\n",
              "      <td>61.888889</td>\n",
              "      <td>52.666667</td>\n",
              "      <td>47.444444</td>\n",
              "    </tr>\n",
              "    <tr>\n",
              "      <th>2005-07-09</th>\n",
              "      <td>1.707512</td>\n",
              "      <td>0.254727</td>\n",
              "      <td>1.484582</td>\n",
              "      <td>0.118788</td>\n",
              "      <td>1.318893</td>\n",
              "      <td>0.167139</td>\n",
              "      <td>0.370700</td>\n",
              "      <td>-0.675115</td>\n",
              "      <td>-1.676365</td>\n",
              "      <td>0.322896</td>\n",
              "      <td>29.0</td>\n",
              "      <td>44.000000</td>\n",
              "      <td>52.000000</td>\n",
              "      <td>73.000000</td>\n",
              "      <td>68.777778</td>\n",
              "      <td>71.555556</td>\n",
              "      <td>70.333333</td>\n",
              "      <td>64.111111</td>\n",
              "      <td>61.888889</td>\n",
              "      <td>52.666667</td>\n",
              "      <td>47.444444</td>\n",
              "      <td>52.222222</td>\n",
              "    </tr>\n",
              "    <tr>\n",
              "      <th>2005-07-16</th>\n",
              "      <td>0.294437</td>\n",
              "      <td>0.251802</td>\n",
              "      <td>0.358851</td>\n",
              "      <td>0.743220</td>\n",
              "      <td>0.404531</td>\n",
              "      <td>0.810668</td>\n",
              "      <td>0.710401</td>\n",
              "      <td>-1.677573</td>\n",
              "      <td>-1.828376</td>\n",
              "      <td>-1.081541</td>\n",
              "      <td>44.0</td>\n",
              "      <td>52.000000</td>\n",
              "      <td>73.000000</td>\n",
              "      <td>68.777778</td>\n",
              "      <td>71.555556</td>\n",
              "      <td>70.333333</td>\n",
              "      <td>64.111111</td>\n",
              "      <td>61.888889</td>\n",
              "      <td>52.666667</td>\n",
              "      <td>47.444444</td>\n",
              "      <td>52.222222</td>\n",
              "      <td>43.000000</td>\n",
              "    </tr>\n",
              "    <tr>\n",
              "      <th>2005-07-23</th>\n",
              "      <td>0.228647</td>\n",
              "      <td>1.731036</td>\n",
              "      <td>1.614907</td>\n",
              "      <td>-2.952832</td>\n",
              "      <td>1.231637</td>\n",
              "      <td>-1.302167</td>\n",
              "      <td>-0.482517</td>\n",
              "      <td>-1.720231</td>\n",
              "      <td>0.198425</td>\n",
              "      <td>-3.801131</td>\n",
              "      <td>52.0</td>\n",
              "      <td>73.000000</td>\n",
              "      <td>68.777778</td>\n",
              "      <td>71.555556</td>\n",
              "      <td>70.333333</td>\n",
              "      <td>64.111111</td>\n",
              "      <td>61.888889</td>\n",
              "      <td>52.666667</td>\n",
              "      <td>47.444444</td>\n",
              "      <td>52.222222</td>\n",
              "      <td>43.000000</td>\n",
              "      <td>-2.000000</td>\n",
              "    </tr>\n",
              "    <tr>\n",
              "      <th>2005-07-30</th>\n",
              "      <td>0.237158</td>\n",
              "      <td>0.452269</td>\n",
              "      <td>0.058575</td>\n",
              "      <td>0.964275</td>\n",
              "      <td>0.823538</td>\n",
              "      <td>0.452025</td>\n",
              "      <td>0.749434</td>\n",
              "      <td>-0.056577</td>\n",
              "      <td>0.426440</td>\n",
              "      <td>0.610058</td>\n",
              "      <td>73.0</td>\n",
              "      <td>68.777778</td>\n",
              "      <td>71.555556</td>\n",
              "      <td>70.333333</td>\n",
              "      <td>64.111111</td>\n",
              "      <td>61.888889</td>\n",
              "      <td>52.666667</td>\n",
              "      <td>47.444444</td>\n",
              "      <td>52.222222</td>\n",
              "      <td>43.000000</td>\n",
              "      <td>-2.000000</td>\n",
              "      <td>-1.000000</td>\n",
              "    </tr>\n",
              "  </tbody>\n",
              "</table>\n",
              "<p>783 rows × 22 columns</p>\n",
              "</div>"
            ],
            "text/plain": [
              "                  ndvi_ne   ndvi_se   ndvi_sw  ...        t-3        t-2        t-1\n",
              "week_start_date                                ...                                 \n",
              "1990-08-04      -0.062074  2.789689  2.858133  ...  34.000000  31.000000  37.000000\n",
              "1990-08-11       1.134042  0.101720 -0.395492  ...  31.000000  37.000000  20.000000\n",
              "1990-08-18       0.433178 -0.254495 -0.845409  ...  37.000000  20.000000  34.000000\n",
              "1990-08-25      -0.034110 -1.059772 -0.938927  ...  20.000000  34.000000  58.000000\n",
              "1990-09-01       0.811439  0.135165  1.302342  ...  34.000000  58.000000  23.000000\n",
              "...                   ...       ...       ...  ...        ...        ...        ...\n",
              "2005-07-02       0.700798 -0.415545 -0.768230  ...  61.888889  52.666667  47.444444\n",
              "2005-07-09       1.707512  0.254727  1.484582  ...  52.666667  47.444444  52.222222\n",
              "2005-07-16       0.294437  0.251802  0.358851  ...  47.444444  52.222222  43.000000\n",
              "2005-07-23       0.228647  1.731036  1.614907  ...  52.222222  43.000000  -2.000000\n",
              "2005-07-30       0.237158  0.452269  0.058575  ...  43.000000  -2.000000  -1.000000\n",
              "\n",
              "[783 rows x 22 columns]"
            ]
          },
          "metadata": {
            "tags": []
          },
          "execution_count": 58
        }
      ]
    },
    {
      "cell_type": "code",
      "metadata": {
        "colab": {
          "base_uri": "https://localhost:8080/",
          "height": 470
        },
        "id": "AvAbva6_8H6y",
        "outputId": "3b55ff4f-ea8e-4ef8-d577-d3e641503673"
      },
      "source": [
        "train_Xsj"
      ],
      "execution_count": null,
      "outputs": [
        {
          "output_type": "execute_result",
          "data": {
            "text/html": [
              "<div>\n",
              "<style scoped>\n",
              "    .dataframe tbody tr th:only-of-type {\n",
              "        vertical-align: middle;\n",
              "    }\n",
              "\n",
              "    .dataframe tbody tr th {\n",
              "        vertical-align: top;\n",
              "    }\n",
              "\n",
              "    .dataframe thead th {\n",
              "        text-align: right;\n",
              "    }\n",
              "</style>\n",
              "<table border=\"1\" class=\"dataframe\">\n",
              "  <thead>\n",
              "    <tr style=\"text-align: right;\">\n",
              "      <th></th>\n",
              "      <th>ndvi_ne</th>\n",
              "      <th>ndvi_se</th>\n",
              "      <th>ndvi_sw</th>\n",
              "      <th>precipitation_amt_mm</th>\n",
              "      <th>reanalysis_air_temp_k</th>\n",
              "      <th>reanalysis_precip_amt_kg_per_m2</th>\n",
              "      <th>reanalysis_relative_humidity_percent</th>\n",
              "      <th>reanalysis_tdtr_k</th>\n",
              "      <th>station_diur_temp_rng_c</th>\n",
              "      <th>station_precip_mm</th>\n",
              "      <th>t-12</th>\n",
              "      <th>t-11</th>\n",
              "      <th>t-10</th>\n",
              "      <th>t-9</th>\n",
              "      <th>t-8</th>\n",
              "      <th>t-7</th>\n",
              "      <th>t-6</th>\n",
              "      <th>t-5</th>\n",
              "      <th>t-4</th>\n",
              "      <th>t-3</th>\n",
              "      <th>t-2</th>\n",
              "      <th>t-1</th>\n",
              "    </tr>\n",
              "    <tr>\n",
              "      <th>week_start_date</th>\n",
              "      <th></th>\n",
              "      <th></th>\n",
              "      <th></th>\n",
              "      <th></th>\n",
              "      <th></th>\n",
              "      <th></th>\n",
              "      <th></th>\n",
              "      <th></th>\n",
              "      <th></th>\n",
              "      <th></th>\n",
              "      <th></th>\n",
              "      <th></th>\n",
              "      <th></th>\n",
              "      <th></th>\n",
              "      <th></th>\n",
              "      <th></th>\n",
              "      <th></th>\n",
              "      <th></th>\n",
              "      <th></th>\n",
              "      <th></th>\n",
              "      <th></th>\n",
              "      <th></th>\n",
              "    </tr>\n",
              "  </thead>\n",
              "  <tbody>\n",
              "    <tr>\n",
              "      <th>1990-08-04</th>\n",
              "      <td>-0.062074</td>\n",
              "      <td>2.789689</td>\n",
              "      <td>2.858133</td>\n",
              "      <td>0.141030</td>\n",
              "      <td>1.038949</td>\n",
              "      <td>0.322460</td>\n",
              "      <td>0.688446</td>\n",
              "      <td>0.306014</td>\n",
              "      <td>1.528513</td>\n",
              "      <td>0.692104</td>\n",
              "      <td>0.529430</td>\n",
              "      <td>0.838368</td>\n",
              "      <td>0.427314</td>\n",
              "      <td>0.643804</td>\n",
              "      <td>1.125108</td>\n",
              "      <td>0.854025</td>\n",
              "      <td>0.629776</td>\n",
              "      <td>1.284665</td>\n",
              "      <td>0.886520</td>\n",
              "      <td>1.452072</td>\n",
              "      <td>1.324718</td>\n",
              "      <td>1.590916</td>\n",
              "    </tr>\n",
              "    <tr>\n",
              "      <th>1990-08-11</th>\n",
              "      <td>1.134042</td>\n",
              "      <td>0.101720</td>\n",
              "      <td>-0.395492</td>\n",
              "      <td>-0.094701</td>\n",
              "      <td>1.012591</td>\n",
              "      <td>-0.121649</td>\n",
              "      <td>-0.510876</td>\n",
              "      <td>0.028738</td>\n",
              "      <td>0.958476</td>\n",
              "      <td>-0.731639</td>\n",
              "      <td>0.846637</td>\n",
              "      <td>0.432940</td>\n",
              "      <td>0.651188</td>\n",
              "      <td>1.133336</td>\n",
              "      <td>0.859375</td>\n",
              "      <td>0.633438</td>\n",
              "      <td>1.289628</td>\n",
              "      <td>0.889719</td>\n",
              "      <td>1.455743</td>\n",
              "      <td>1.320933</td>\n",
              "      <td>1.587347</td>\n",
              "      <td>0.845966</td>\n",
              "    </tr>\n",
              "    <tr>\n",
              "      <th>1990-08-18</th>\n",
              "      <td>0.433178</td>\n",
              "      <td>-0.254495</td>\n",
              "      <td>-0.845409</td>\n",
              "      <td>1.132827</td>\n",
              "      <td>0.606309</td>\n",
              "      <td>1.714496</td>\n",
              "      <td>0.822009</td>\n",
              "      <td>-0.867075</td>\n",
              "      <td>-0.067592</td>\n",
              "      <td>0.974439</td>\n",
              "      <td>0.438800</td>\n",
              "      <td>0.658178</td>\n",
              "      <td>1.143710</td>\n",
              "      <td>0.866319</td>\n",
              "      <td>0.637931</td>\n",
              "      <td>1.295198</td>\n",
              "      <td>0.893717</td>\n",
              "      <td>1.460197</td>\n",
              "      <td>1.324384</td>\n",
              "      <td>1.583210</td>\n",
              "      <td>0.843231</td>\n",
              "      <td>1.459454</td>\n",
              "    </tr>\n",
              "    <tr>\n",
              "      <th>1990-08-25</th>\n",
              "      <td>-0.034110</td>\n",
              "      <td>-1.059772</td>\n",
              "      <td>-0.938927</td>\n",
              "      <td>0.368591</td>\n",
              "      <td>0.506329</td>\n",
              "      <td>0.264703</td>\n",
              "      <td>0.106014</td>\n",
              "      <td>-0.803089</td>\n",
              "      <td>-2.081726</td>\n",
              "      <td>-0.017354</td>\n",
              "      <td>0.665376</td>\n",
              "      <td>1.153700</td>\n",
              "      <td>0.875062</td>\n",
              "      <td>0.643804</td>\n",
              "      <td>1.302264</td>\n",
              "      <td>0.898142</td>\n",
              "      <td>1.465588</td>\n",
              "      <td>1.328548</td>\n",
              "      <td>1.587102</td>\n",
              "      <td>0.840091</td>\n",
              "      <td>1.456032</td>\n",
              "      <td>2.511148</td>\n",
              "    </tr>\n",
              "    <tr>\n",
              "      <th>1990-09-01</th>\n",
              "      <td>0.811439</td>\n",
              "      <td>0.135165</td>\n",
              "      <td>1.302342</td>\n",
              "      <td>0.466636</td>\n",
              "      <td>0.299098</td>\n",
              "      <td>0.257093</td>\n",
              "      <td>0.739980</td>\n",
              "      <td>-0.312524</td>\n",
              "      <td>-0.358945</td>\n",
              "      <td>-0.620635</td>\n",
              "      <td>1.163843</td>\n",
              "      <td>0.883415</td>\n",
              "      <td>0.651188</td>\n",
              "      <td>1.311347</td>\n",
              "      <td>0.903664</td>\n",
              "      <td>1.471668</td>\n",
              "      <td>1.333618</td>\n",
              "      <td>1.591845</td>\n",
              "      <td>0.842734</td>\n",
              "      <td>1.452072</td>\n",
              "      <td>2.506549</td>\n",
              "      <td>0.977428</td>\n",
              "    </tr>\n",
              "    <tr>\n",
              "      <th>...</th>\n",
              "      <td>...</td>\n",
              "      <td>...</td>\n",
              "      <td>...</td>\n",
              "      <td>...</td>\n",
              "      <td>...</td>\n",
              "      <td>...</td>\n",
              "      <td>...</td>\n",
              "      <td>...</td>\n",
              "      <td>...</td>\n",
              "      <td>...</td>\n",
              "      <td>...</td>\n",
              "      <td>...</td>\n",
              "      <td>...</td>\n",
              "      <td>...</td>\n",
              "      <td>...</td>\n",
              "      <td>...</td>\n",
              "      <td>...</td>\n",
              "      <td>...</td>\n",
              "      <td>...</td>\n",
              "      <td>...</td>\n",
              "      <td>...</td>\n",
              "      <td>...</td>\n",
              "    </tr>\n",
              "    <tr>\n",
              "      <th>2005-07-02</th>\n",
              "      <td>0.700798</td>\n",
              "      <td>-0.415545</td>\n",
              "      <td>-0.768230</td>\n",
              "      <td>0.142241</td>\n",
              "      <td>1.248907</td>\n",
              "      <td>0.399145</td>\n",
              "      <td>0.431078</td>\n",
              "      <td>-0.653786</td>\n",
              "      <td>-0.586960</td>\n",
              "      <td>1.075791</td>\n",
              "      <td>0.620061</td>\n",
              "      <td>1.288843</td>\n",
              "      <td>1.949656</td>\n",
              "      <td>2.290410</td>\n",
              "      <td>3.206685</td>\n",
              "      <td>3.005971</td>\n",
              "      <td>3.117662</td>\n",
              "      <td>3.054608</td>\n",
              "      <td>2.774199</td>\n",
              "      <td>2.671175</td>\n",
              "      <td>2.273101</td>\n",
              "      <td>2.048598</td>\n",
              "    </tr>\n",
              "    <tr>\n",
              "      <th>2005-07-09</th>\n",
              "      <td>1.707512</td>\n",
              "      <td>0.254727</td>\n",
              "      <td>1.484582</td>\n",
              "      <td>0.118788</td>\n",
              "      <td>1.318893</td>\n",
              "      <td>0.167139</td>\n",
              "      <td>0.370700</td>\n",
              "      <td>-0.675115</td>\n",
              "      <td>-1.676365</td>\n",
              "      <td>0.322896</td>\n",
              "      <td>1.299789</td>\n",
              "      <td>1.964555</td>\n",
              "      <td>2.307854</td>\n",
              "      <td>3.224970</td>\n",
              "      <td>3.019687</td>\n",
              "      <td>3.128520</td>\n",
              "      <td>3.063896</td>\n",
              "      <td>2.781559</td>\n",
              "      <td>2.676896</td>\n",
              "      <td>2.268045</td>\n",
              "      <td>2.044516</td>\n",
              "      <td>2.257963</td>\n",
              "    </tr>\n",
              "    <tr>\n",
              "      <th>2005-07-16</th>\n",
              "      <td>0.294437</td>\n",
              "      <td>0.251802</td>\n",
              "      <td>0.358851</td>\n",
              "      <td>0.743220</td>\n",
              "      <td>0.404531</td>\n",
              "      <td>0.810668</td>\n",
              "      <td>0.710401</td>\n",
              "      <td>-1.677573</td>\n",
              "      <td>-1.828376</td>\n",
              "      <td>-1.081541</td>\n",
              "      <td>1.979518</td>\n",
              "      <td>2.324935</td>\n",
              "      <td>3.248124</td>\n",
              "      <td>3.037069</td>\n",
              "      <td>3.142712</td>\n",
              "      <td>3.074598</td>\n",
              "      <td>2.790180</td>\n",
              "      <td>2.684041</td>\n",
              "      <td>2.273088</td>\n",
              "      <td>2.039767</td>\n",
              "      <td>2.253647</td>\n",
              "      <td>1.853840</td>\n",
              "    </tr>\n",
              "    <tr>\n",
              "      <th>2005-07-23</th>\n",
              "      <td>0.228647</td>\n",
              "      <td>1.731036</td>\n",
              "      <td>1.614907</td>\n",
              "      <td>-2.952832</td>\n",
              "      <td>1.231637</td>\n",
              "      <td>-1.302167</td>\n",
              "      <td>-0.482517</td>\n",
              "      <td>-1.720231</td>\n",
              "      <td>0.198425</td>\n",
              "      <td>-3.801131</td>\n",
              "      <td>2.342040</td>\n",
              "      <td>3.270932</td>\n",
              "      <td>3.059075</td>\n",
              "      <td>3.160688</td>\n",
              "      <td>3.088581</td>\n",
              "      <td>2.800090</td>\n",
              "      <td>2.692424</td>\n",
              "      <td>2.279344</td>\n",
              "      <td>2.044426</td>\n",
              "      <td>2.248617</td>\n",
              "      <td>1.849976</td>\n",
              "      <td>-0.118086</td>\n",
              "    </tr>\n",
              "    <tr>\n",
              "      <th>2005-07-30</th>\n",
              "      <td>0.237158</td>\n",
              "      <td>0.452269</td>\n",
              "      <td>0.058575</td>\n",
              "      <td>0.964275</td>\n",
              "      <td>0.823538</td>\n",
              "      <td>0.452025</td>\n",
              "      <td>0.749434</td>\n",
              "      <td>-0.056577</td>\n",
              "      <td>0.426440</td>\n",
              "      <td>0.610058</td>\n",
              "      <td>3.293660</td>\n",
              "      <td>3.080731</td>\n",
              "      <td>3.183449</td>\n",
              "      <td>3.106296</td>\n",
              "      <td>2.813006</td>\n",
              "      <td>2.702052</td>\n",
              "      <td>2.286737</td>\n",
              "      <td>2.050178</td>\n",
              "      <td>2.253628</td>\n",
              "      <td>1.845487</td>\n",
              "      <td>-0.119743</td>\n",
              "      <td>-0.074266</td>\n",
              "    </tr>\n",
              "  </tbody>\n",
              "</table>\n",
              "<p>783 rows × 22 columns</p>\n",
              "</div>"
            ],
            "text/plain": [
              "                  ndvi_ne   ndvi_se   ndvi_sw  ...       t-3       t-2       t-1\n",
              "week_start_date                                ...                              \n",
              "1990-08-04      -0.062074  2.789689  2.858133  ...  1.452072  1.324718  1.590916\n",
              "1990-08-11       1.134042  0.101720 -0.395492  ...  1.320933  1.587347  0.845966\n",
              "1990-08-18       0.433178 -0.254495 -0.845409  ...  1.583210  0.843231  1.459454\n",
              "1990-08-25      -0.034110 -1.059772 -0.938927  ...  0.840091  1.456032  2.511148\n",
              "1990-09-01       0.811439  0.135165  1.302342  ...  1.452072  2.506549  0.977428\n",
              "...                   ...       ...       ...  ...       ...       ...       ...\n",
              "2005-07-02       0.700798 -0.415545 -0.768230  ...  2.671175  2.273101  2.048598\n",
              "2005-07-09       1.707512  0.254727  1.484582  ...  2.268045  2.044516  2.257963\n",
              "2005-07-16       0.294437  0.251802  0.358851  ...  2.039767  2.253647  1.853840\n",
              "2005-07-23       0.228647  1.731036  1.614907  ...  2.248617  1.849976 -0.118086\n",
              "2005-07-30       0.237158  0.452269  0.058575  ...  1.845487 -0.119743 -0.074266\n",
              "\n",
              "[783 rows x 22 columns]"
            ]
          },
          "metadata": {
            "tags": []
          },
          "execution_count": 114
        }
      ]
    },
    {
      "cell_type": "code",
      "metadata": {
        "colab": {
          "base_uri": "https://localhost:8080/",
          "height": 450
        },
        "id": "IcH7BRv-RYHk",
        "outputId": "7f78be23-6e15-4e6b-ef7a-9039c4152365"
      },
      "source": [
        "train_Xsj[colss]"
      ],
      "execution_count": null,
      "outputs": [
        {
          "output_type": "execute_result",
          "data": {
            "text/html": [
              "<div>\n",
              "<style scoped>\n",
              "    .dataframe tbody tr th:only-of-type {\n",
              "        vertical-align: middle;\n",
              "    }\n",
              "\n",
              "    .dataframe tbody tr th {\n",
              "        vertical-align: top;\n",
              "    }\n",
              "\n",
              "    .dataframe thead th {\n",
              "        text-align: right;\n",
              "    }\n",
              "</style>\n",
              "<table border=\"1\" class=\"dataframe\">\n",
              "  <thead>\n",
              "    <tr style=\"text-align: right;\">\n",
              "      <th></th>\n",
              "      <th>ndvi_ne</th>\n",
              "      <th>ndvi_se</th>\n",
              "      <th>ndvi_sw</th>\n",
              "      <th>precipitation_amt_mm</th>\n",
              "      <th>reanalysis_air_temp_k</th>\n",
              "      <th>reanalysis_precip_amt_kg_per_m2</th>\n",
              "      <th>reanalysis_relative_humidity_percent</th>\n",
              "      <th>reanalysis_tdtr_k</th>\n",
              "      <th>station_diur_temp_rng_c</th>\n",
              "      <th>station_precip_mm</th>\n",
              "    </tr>\n",
              "    <tr>\n",
              "      <th>week_start_date</th>\n",
              "      <th></th>\n",
              "      <th></th>\n",
              "      <th></th>\n",
              "      <th></th>\n",
              "      <th></th>\n",
              "      <th></th>\n",
              "      <th></th>\n",
              "      <th></th>\n",
              "      <th></th>\n",
              "      <th></th>\n",
              "    </tr>\n",
              "  </thead>\n",
              "  <tbody>\n",
              "    <tr>\n",
              "      <th>1990-08-04</th>\n",
              "      <td>-0.062074</td>\n",
              "      <td>2.789689</td>\n",
              "      <td>2.858133</td>\n",
              "      <td>0.141030</td>\n",
              "      <td>1.038949</td>\n",
              "      <td>0.322460</td>\n",
              "      <td>0.688446</td>\n",
              "      <td>0.306014</td>\n",
              "      <td>1.528513</td>\n",
              "      <td>0.692104</td>\n",
              "    </tr>\n",
              "    <tr>\n",
              "      <th>1990-08-11</th>\n",
              "      <td>1.134042</td>\n",
              "      <td>0.101720</td>\n",
              "      <td>-0.395492</td>\n",
              "      <td>-0.094701</td>\n",
              "      <td>1.012591</td>\n",
              "      <td>-0.121649</td>\n",
              "      <td>-0.510876</td>\n",
              "      <td>0.028738</td>\n",
              "      <td>0.958476</td>\n",
              "      <td>-0.731639</td>\n",
              "    </tr>\n",
              "    <tr>\n",
              "      <th>1990-08-18</th>\n",
              "      <td>0.433178</td>\n",
              "      <td>-0.254495</td>\n",
              "      <td>-0.845409</td>\n",
              "      <td>1.132827</td>\n",
              "      <td>0.606309</td>\n",
              "      <td>1.714496</td>\n",
              "      <td>0.822009</td>\n",
              "      <td>-0.867075</td>\n",
              "      <td>-0.067592</td>\n",
              "      <td>0.974439</td>\n",
              "    </tr>\n",
              "    <tr>\n",
              "      <th>1990-08-25</th>\n",
              "      <td>-0.034110</td>\n",
              "      <td>-1.059772</td>\n",
              "      <td>-0.938927</td>\n",
              "      <td>0.368591</td>\n",
              "      <td>0.506329</td>\n",
              "      <td>0.264703</td>\n",
              "      <td>0.106014</td>\n",
              "      <td>-0.803089</td>\n",
              "      <td>-2.081726</td>\n",
              "      <td>-0.017354</td>\n",
              "    </tr>\n",
              "    <tr>\n",
              "      <th>1990-09-01</th>\n",
              "      <td>0.811439</td>\n",
              "      <td>0.135165</td>\n",
              "      <td>1.302342</td>\n",
              "      <td>0.466636</td>\n",
              "      <td>0.299098</td>\n",
              "      <td>0.257093</td>\n",
              "      <td>0.739980</td>\n",
              "      <td>-0.312524</td>\n",
              "      <td>-0.358945</td>\n",
              "      <td>-0.620635</td>\n",
              "    </tr>\n",
              "    <tr>\n",
              "      <th>...</th>\n",
              "      <td>...</td>\n",
              "      <td>...</td>\n",
              "      <td>...</td>\n",
              "      <td>...</td>\n",
              "      <td>...</td>\n",
              "      <td>...</td>\n",
              "      <td>...</td>\n",
              "      <td>...</td>\n",
              "      <td>...</td>\n",
              "      <td>...</td>\n",
              "    </tr>\n",
              "    <tr>\n",
              "      <th>2005-07-02</th>\n",
              "      <td>0.700798</td>\n",
              "      <td>-0.415545</td>\n",
              "      <td>-0.768230</td>\n",
              "      <td>0.142241</td>\n",
              "      <td>1.248907</td>\n",
              "      <td>0.399145</td>\n",
              "      <td>0.431078</td>\n",
              "      <td>-0.653786</td>\n",
              "      <td>-0.586960</td>\n",
              "      <td>1.075791</td>\n",
              "    </tr>\n",
              "    <tr>\n",
              "      <th>2005-07-09</th>\n",
              "      <td>1.707512</td>\n",
              "      <td>0.254727</td>\n",
              "      <td>1.484582</td>\n",
              "      <td>0.118788</td>\n",
              "      <td>1.318893</td>\n",
              "      <td>0.167139</td>\n",
              "      <td>0.370700</td>\n",
              "      <td>-0.675115</td>\n",
              "      <td>-1.676365</td>\n",
              "      <td>0.322896</td>\n",
              "    </tr>\n",
              "    <tr>\n",
              "      <th>2005-07-16</th>\n",
              "      <td>0.294437</td>\n",
              "      <td>0.251802</td>\n",
              "      <td>0.358851</td>\n",
              "      <td>0.743220</td>\n",
              "      <td>0.404531</td>\n",
              "      <td>0.810668</td>\n",
              "      <td>0.710401</td>\n",
              "      <td>-1.677573</td>\n",
              "      <td>-1.828376</td>\n",
              "      <td>-1.081541</td>\n",
              "    </tr>\n",
              "    <tr>\n",
              "      <th>2005-07-23</th>\n",
              "      <td>0.228647</td>\n",
              "      <td>1.731036</td>\n",
              "      <td>1.614907</td>\n",
              "      <td>-2.952832</td>\n",
              "      <td>1.231637</td>\n",
              "      <td>-1.302167</td>\n",
              "      <td>-0.482517</td>\n",
              "      <td>-1.720231</td>\n",
              "      <td>0.198425</td>\n",
              "      <td>-3.801131</td>\n",
              "    </tr>\n",
              "    <tr>\n",
              "      <th>2005-07-30</th>\n",
              "      <td>0.237158</td>\n",
              "      <td>0.452269</td>\n",
              "      <td>0.058575</td>\n",
              "      <td>0.964275</td>\n",
              "      <td>0.823538</td>\n",
              "      <td>0.452025</td>\n",
              "      <td>0.749434</td>\n",
              "      <td>-0.056577</td>\n",
              "      <td>0.426440</td>\n",
              "      <td>0.610058</td>\n",
              "    </tr>\n",
              "  </tbody>\n",
              "</table>\n",
              "<p>783 rows × 10 columns</p>\n",
              "</div>"
            ],
            "text/plain": [
              "                  ndvi_ne   ndvi_se  ...  station_diur_temp_rng_c  station_precip_mm\n",
              "week_start_date                      ...                                            \n",
              "1990-08-04      -0.062074  2.789689  ...                 1.528513           0.692104\n",
              "1990-08-11       1.134042  0.101720  ...                 0.958476          -0.731639\n",
              "1990-08-18       0.433178 -0.254495  ...                -0.067592           0.974439\n",
              "1990-08-25      -0.034110 -1.059772  ...                -2.081726          -0.017354\n",
              "1990-09-01       0.811439  0.135165  ...                -0.358945          -0.620635\n",
              "...                   ...       ...  ...                      ...                ...\n",
              "2005-07-02       0.700798 -0.415545  ...                -0.586960           1.075791\n",
              "2005-07-09       1.707512  0.254727  ...                -1.676365           0.322896\n",
              "2005-07-16       0.294437  0.251802  ...                -1.828376          -1.081541\n",
              "2005-07-23       0.228647  1.731036  ...                 0.198425          -3.801131\n",
              "2005-07-30       0.237158  0.452269  ...                 0.426440           0.610058\n",
              "\n",
              "[783 rows x 10 columns]"
            ]
          },
          "metadata": {
            "tags": []
          },
          "execution_count": 118
        }
      ]
    },
    {
      "cell_type": "code",
      "metadata": {
        "colab": {
          "base_uri": "https://localhost:8080/"
        },
        "id": "87WHyVTJRSFM",
        "outputId": "584781a3-7fb8-474d-844c-23c259b17cf8"
      },
      "source": [
        "colss"
      ],
      "execution_count": null,
      "outputs": [
        {
          "output_type": "execute_result",
          "data": {
            "text/plain": [
              "['ndvi_ne',\n",
              " 'ndvi_se',\n",
              " 'ndvi_sw',\n",
              " 'precipitation_amt_mm',\n",
              " 'reanalysis_air_temp_k',\n",
              " 'reanalysis_precip_amt_kg_per_m2',\n",
              " 'reanalysis_relative_humidity_percent',\n",
              " 'reanalysis_tdtr_k',\n",
              " 'station_diur_temp_rng_c',\n",
              " 'station_precip_mm']"
            ]
          },
          "metadata": {
            "tags": []
          },
          "execution_count": 135
        }
      ]
    },
    {
      "cell_type": "code",
      "metadata": {
        "id": "VxXcNQm0sYzz"
      },
      "source": [
        ""
      ],
      "execution_count": null,
      "outputs": []
    },
    {
      "cell_type": "code",
      "metadata": {
        "colab": {
          "base_uri": "https://localhost:8080/"
        },
        "id": "bkMBo_0-CyMb",
        "outputId": "2b63b917-5257-4f91-ff91-6f8d98ea3605"
      },
      "source": [
        "rf = RandomForestRegressor(n_estimators=100)\r\n",
        "rf.fit(train_Xsj[colss], train_Ysj)"
      ],
      "execution_count": null,
      "outputs": [
        {
          "output_type": "execute_result",
          "data": {
            "text/plain": [
              "RandomForestRegressor(bootstrap=True, ccp_alpha=0.0, criterion='mse',\n",
              "                      max_depth=None, max_features='auto', max_leaf_nodes=None,\n",
              "                      max_samples=None, min_impurity_decrease=0.0,\n",
              "                      min_impurity_split=None, min_samples_leaf=1,\n",
              "                      min_samples_split=2, min_weight_fraction_leaf=0.0,\n",
              "                      n_estimators=100, n_jobs=None, oob_score=False,\n",
              "                      random_state=None, verbose=0, warm_start=False)"
            ]
          },
          "metadata": {
            "tags": []
          },
          "execution_count": 144
        }
      ]
    },
    {
      "cell_type": "code",
      "metadata": {
        "colab": {
          "base_uri": "https://localhost:8080/"
        },
        "id": "fOScaHNXDBGg",
        "outputId": "a51eec87-8ad9-47e1-de29-c780147cb4cd"
      },
      "source": [
        "rf.feature_importances_"
      ],
      "execution_count": null,
      "outputs": [
        {
          "output_type": "execute_result",
          "data": {
            "text/plain": [
              "array([0.06605312, 0.05817094, 0.05759477, 0.05188402, 0.43037021,\n",
              "       0.05783406, 0.1066182 , 0.04844983, 0.07005829, 0.05296655])"
            ]
          },
          "metadata": {
            "tags": []
          },
          "execution_count": 145
        }
      ]
    },
    {
      "cell_type": "code",
      "metadata": {
        "colab": {
          "base_uri": "https://localhost:8080/",
          "height": 281
        },
        "id": "BhNJo6NGDA8w",
        "outputId": "aeff26f7-5ee1-4af8-8a96-9a7e948d48f8"
      },
      "source": [
        "plt.barh(colss, rf.feature_importances_);"
      ],
      "execution_count": null,
      "outputs": [
        {
          "output_type": "display_data",
          "data": {
            "image/png": "[encoded data removed]",
            "text/plain": [
              "<Figure size 432x288 with 1 Axes>"
            ]
          },
          "metadata": {
            "tags": []
          }
        }
      ]
    },
    {
      "cell_type": "code",
      "metadata": {
        "id": "khHP6WXtP83c"
      },
      "source": [
        "plt.barh()"
      ],
      "execution_count": null,
      "outputs": []
    },
    {
      "cell_type": "code",
      "metadata": {
        "colab": {
          "base_uri": "https://localhost:8080/"
        },
        "id": "DHhndMF_3fdS",
        "outputId": "e9f755da-da62-428b-fb43-6b441463294d"
      },
      "source": [
        "from sklearn.ensemble import ExtraTreesClassifier\r\n",
        "# feature extraction\r\n",
        "#model = ExtraTreesClassifier(n_estimators=10)\r\n",
        "#model.fit(train_Xiq, train_Yiq)\r\n",
        "#print(model.feature_importances_)\r\n",
        "sel_ = SelectFromModel(RandomForestRegressor(n_estimators=500, random_state=10))\r\n",
        "sel_.fit(train_Xsj[colss], train_Ysj)\r\n",
        "#sel_.fit(train_Xsj_encoded, train_Ysj)"
      ],
      "execution_count": null,
      "outputs": [
        {
          "output_type": "execute_result",
          "data": {
            "text/plain": [
              "SelectFromModel(estimator=RandomForestRegressor(bootstrap=True, ccp_alpha=0.0,\n",
              "                                                criterion='mse', max_depth=None,\n",
              "                                                max_features='auto',\n",
              "                                                max_leaf_nodes=None,\n",
              "                                                max_samples=None,\n",
              "                                                min_impurity_decrease=0.0,\n",
              "                                                min_impurity_split=None,\n",
              "                                                min_samples_leaf=1,\n",
              "                                                min_samples_split=2,\n",
              "                                                min_weight_fraction_leaf=0.0,\n",
              "                                                n_estimators=500, n_jobs=None,\n",
              "                                                oob_score=False,\n",
              "                                                random_state=10, verbose=0,\n",
              "                                                warm_start=False),\n",
              "                max_features=None, norm_order=1, prefit=False, threshold=None)"
            ]
          },
          "metadata": {
            "tags": []
          },
          "execution_count": 201
        }
      ]
    },
    {
      "cell_type": "code",
      "metadata": {
        "id": "X9PtpMvEzqRY"
      },
      "source": [
        "train_XsjN = train_Xsj[cols3]"
      ],
      "execution_count": null,
      "outputs": []
    },
    {
      "cell_type": "code",
      "metadata": {
        "id": "rFt96xKUHR6w"
      },
      "source": [
        "train_XsjN"
      ],
      "execution_count": null,
      "outputs": []
    },
    {
      "cell_type": "code",
      "metadata": {
        "colab": {
          "base_uri": "https://localhost:8080/"
        },
        "id": "w2VZOytW6kn-",
        "outputId": "ec965954-0e18-4051-b10e-be77044322e6"
      },
      "source": [
        "# let's make a list and count the selected features\r\n",
        "#selected_feat = train_Xsj_encoded.columns[(sel_.get_support())]\r\n",
        "selected_feat = train_XsjN.columns[(sel_.get_support())]\r\n",
        "len(selected_feat)"
      ],
      "execution_count": null,
      "outputs": [
        {
          "output_type": "execute_result",
          "data": {
            "text/plain": [
              "1"
            ]
          },
          "metadata": {
            "tags": []
          },
          "execution_count": 138
        }
      ]
    },
    {
      "cell_type": "code",
      "metadata": {
        "colab": {
          "base_uri": "https://localhost:8080/"
        },
        "id": "fipsvtmG6kk8",
        "outputId": "19d4f2f6-d2ea-469e-c9e1-4dcee15e7b80"
      },
      "source": [
        "selected_feat"
      ],
      "execution_count": null,
      "outputs": [
        {
          "output_type": "execute_result",
          "data": {
            "text/plain": [
              "Index(['reanalysis_air_temp_k'], dtype='object')"
            ]
          },
          "metadata": {
            "tags": []
          },
          "execution_count": 113
        }
      ]
    },
    {
      "cell_type": "code",
      "metadata": {
        "id": "X52mor38Fx7O",
        "colab": {
          "base_uri": "https://localhost:8080/"
        },
        "outputId": "abad78c1-5bb5-4ff8-99a3-d25c91847cca"
      },
      "source": [
        "cols3"
      ],
      "execution_count": null,
      "outputs": [
        {
          "output_type": "execute_result",
          "data": {
            "text/plain": [
              "['ndvi_ne',\n",
              " 'ndvi_se',\n",
              " 'ndvi_sw',\n",
              " 'precipitation_amt_mm',\n",
              " 'reanalysis_air_temp_k',\n",
              " 'reanalysis_precip_amt_kg_per_m2',\n",
              " 'reanalysis_relative_humidity_percent',\n",
              " 'reanalysis_tdtr_k',\n",
              " 'station_diur_temp_rng_c',\n",
              " 'station_precip_mm']"
            ]
          },
          "metadata": {
            "tags": []
          },
          "execution_count": 85
        }
      ]
    },
    {
      "cell_type": "code",
      "metadata": {
        "id": "ttCmlnWYGLA0"
      },
      "source": [
        "train_Xsj1 = train_Xsj[colss]"
      ],
      "execution_count": null,
      "outputs": []
    },
    {
      "cell_type": "code",
      "metadata": {
        "colab": {
          "base_uri": "https://localhost:8080/",
          "height": 265
        },
        "id": "-XY9Gm4hFpsg",
        "outputId": "a293ac6a-e320-46f8-e5b6-ee18fe42a6a9"
      },
      "source": [
        "(pd.Series(sel_.estimator_.feature_importances_ , index=train_Xsj1.columns)\r\n",
        "   .nlargest(6)\r\n",
        "   .plot(kind='barh'))  ;"
      ],
      "execution_count": null,
      "outputs": [
        {
          "output_type": "display_data",
          "data": {
            "image/png": "[encoded data removed]",
            "text/plain": [
              "<Figure size 432x288 with 1 Axes>"
            ]
          },
          "metadata": {
            "tags": [],
            "needs_background": "light"
          }
        }
      ]
    },
    {
      "cell_type": "code",
      "metadata": {
        "id": "0_LG4R_c6oj1"
      },
      "source": [
        "# and now, let's compare the  amount of selected features\r\n",
        "# with the amount of features which importance is above the\r\n",
        "# mean importance, to make sure we understand the output of\r\n",
        "# sklearn\r\n",
        "\r\n",
        "print('total features: {}'.format((train_Xiq.shape[1])))\r\n",
        "\r\n",
        "print('selected features: {}'.format(len(selected_feat)))\r\n",
        "\r\n",
        "print(\r\n",
        "    'features with coefficients greater than the mean coefficient: {}'.format(\r\n",
        "        np.sum(sel_.estimator_.feature_importances_ >\r\n",
        "               sel_.estimator_.feature_importances_.mean())))"
      ],
      "execution_count": null,
      "outputs": []
    },
    {
      "cell_type": "code",
      "metadata": {
        "id": "i_hZ4H4D6ogv"
      },
      "source": [
        ""
      ],
      "execution_count": null,
      "outputs": []
    },
    {
      "cell_type": "code",
      "metadata": {
        "id": "jYoqiYkc6wNO",
        "colab": {
          "base_uri": "https://localhost:8080/",
          "height": 320
        },
        "outputId": "6c756cd7-fb21-405e-ffa0-455cc5e06d6e"
      },
      "source": [
        "# plot feature importance using built-in function\r\n",
        "from numpy import loadtxt\r\n",
        "#from xgboost import XGBClassifier\r\n",
        "from xgboost import XGBRegressor\r\n",
        "from xgboost import plot_importance\r\n",
        "from matplotlib import pyplot\r\n",
        "\r\n",
        "# fit model no training data\r\n",
        "model = XGBRegressor(objective='reg:squarederror', n_estimators=1000)\r\n",
        "model.fit(trainX, trainy)\r\n",
        "\t# make a one-step prediction\r\n",
        "yhat = model.predict([testX])\r\n",
        "\r\n",
        "#model = XGBRegressor()\r\n",
        "#model.fit(train_Xsj[colss], train_Ysj)\r\n",
        "# plot feature importance\r\n",
        "plot_importance(model)\r\n",
        "pyplot.show()"
      ],
      "execution_count": null,
      "outputs": [
        {
          "output_type": "display_data",
          "data": {
            "image/png": "[encoded data removed]",
            "text/plain": [
              "<Figure size 432x288 with 1 Axes>"
            ]
          },
          "metadata": {
            "tags": []
          }
        }
      ]
    },
    {
      "cell_type": "code",
      "metadata": {
        "id": "YXHOi1IV6wKB"
      },
      "source": [
        "trainy"
      ],
      "execution_count": null,
      "outputs": []
    },
    {
      "cell_type": "code",
      "metadata": {
        "id": "C9QDddFp6wH5"
      },
      "source": [
        ""
      ],
      "execution_count": null,
      "outputs": []
    },
    {
      "cell_type": "code",
      "metadata": {
        "colab": {
          "base_uri": "https://localhost:8080/"
        },
        "id": "fdgIGjsG3fRX",
        "outputId": "0e2863fa-116b-479b-ecc1-98e2bb91dbe5"
      },
      "source": [
        "train_df_feature_selection_encoded.columns"
      ],
      "execution_count": null,
      "outputs": [
        {
          "output_type": "execute_result",
          "data": {
            "text/plain": [
              "Index(['t-12', 't-11', 't-10', 't-9', 't-8', 't-7', 't-6', 't-5', 't-4', 't-3',\n",
              "       't-2', 't-1', 't', 'weeknum_31', 'weeknum_32', 'weeknum_33',\n",
              "       'weeknum_34', 'weeknum_35', 'weeknum_36', 'weeknum_37', 'weeknum_38',\n",
              "       'weeknum_39', 'weeknum_40', 'weeknum_41', 'weeknum_42', 'weeknum_43',\n",
              "       'weeknum_44', 'weeknum_45', 'weeknum_46', 'weeknum_47', 'weeknum_48',\n",
              "       'weeknum_49', 'weeknum_50', 'weeknum_51', 'weeknum_52', 'weeknum_1',\n",
              "       'weeknum_2', 'weeknum_3', 'weeknum_4', 'weeknum_5', 'weeknum_6',\n",
              "       'weeknum_7', 'weeknum_8', 'weeknum_9', 'weeknum_10', 'weeknum_11',\n",
              "       'weeknum_12', 'weeknum_13', 'weeknum_14', 'weeknum_15', 'weeknum_16',\n",
              "       'weeknum_17', 'weeknum_18', 'weeknum_19', 'weeknum_20', 'weeknum_21',\n",
              "       'weeknum_22', 'weeknum_23', 'weeknum_24', 'weeknum_25', 'weeknum_26',\n",
              "       'weeknum_27', 'weeknum_28', 'weeknum_29', 'weeknum_30', 'year_1990',\n",
              "       'year_1991', 'year_1992', 'year_1993', 'year_1994', 'year_1995',\n",
              "       'year_1996', 'year_1997', 'year_1998', 'year_1999', 'year_2000',\n",
              "       'year_2001', 'year_2002', 'year_2003', 'year_2004'],\n",
              "      dtype='object')"
            ]
          },
          "metadata": {
            "tags": []
          },
          "execution_count": 242
        }
      ]
    },
    {
      "cell_type": "code",
      "metadata": {
        "colab": {
          "base_uri": "https://localhost:8080/",
          "height": 468
        },
        "id": "OV3INlLO5dk6",
        "outputId": "95e4f8bf-8be0-4b0b-b657-7c36519f3c52"
      },
      "source": [
        "train_df_feature_selection_encoded[['t-12','t-4']]"
      ],
      "execution_count": null,
      "outputs": [
        {
          "output_type": "execute_result",
          "data": {
            "text/html": [
              "<div>\n",
              "<style scoped>\n",
              "    .dataframe tbody tr th:only-of-type {\n",
              "        vertical-align: middle;\n",
              "    }\n",
              "\n",
              "    .dataframe tbody tr th {\n",
              "        vertical-align: top;\n",
              "    }\n",
              "\n",
              "    .dataframe thead th {\n",
              "        text-align: right;\n",
              "    }\n",
              "</style>\n",
              "<table border=\"1\" class=\"dataframe\">\n",
              "  <thead>\n",
              "    <tr style=\"text-align: right;\">\n",
              "      <th></th>\n",
              "      <th>t-12</th>\n",
              "      <th>t-11</th>\n",
              "      <th>t-10</th>\n",
              "      <th>t-9</th>\n",
              "      <th>t-8</th>\n",
              "      <th>t-7</th>\n",
              "      <th>t-6</th>\n",
              "      <th>t-5</th>\n",
              "      <th>t-4</th>\n",
              "      <th>t-3</th>\n",
              "      <th>t-2</th>\n",
              "      <th>t-1</th>\n",
              "      <th>t</th>\n",
              "      <th>weeknum_31</th>\n",
              "      <th>weeknum_32</th>\n",
              "      <th>weeknum_33</th>\n",
              "      <th>weeknum_34</th>\n",
              "      <th>weeknum_35</th>\n",
              "      <th>weeknum_36</th>\n",
              "      <th>weeknum_37</th>\n",
              "      <th>weeknum_38</th>\n",
              "      <th>weeknum_39</th>\n",
              "      <th>weeknum_40</th>\n",
              "      <th>weeknum_41</th>\n",
              "      <th>weeknum_42</th>\n",
              "      <th>weeknum_43</th>\n",
              "      <th>weeknum_44</th>\n",
              "      <th>weeknum_45</th>\n",
              "      <th>weeknum_46</th>\n",
              "      <th>weeknum_47</th>\n",
              "      <th>weeknum_48</th>\n",
              "      <th>weeknum_49</th>\n",
              "      <th>weeknum_50</th>\n",
              "      <th>weeknum_51</th>\n",
              "      <th>weeknum_52</th>\n",
              "      <th>weeknum_1</th>\n",
              "      <th>weeknum_2</th>\n",
              "      <th>weeknum_3</th>\n",
              "      <th>weeknum_4</th>\n",
              "      <th>weeknum_5</th>\n",
              "      <th>weeknum_6</th>\n",
              "      <th>weeknum_7</th>\n",
              "      <th>weeknum_8</th>\n",
              "      <th>weeknum_9</th>\n",
              "      <th>weeknum_10</th>\n",
              "      <th>weeknum_11</th>\n",
              "      <th>weeknum_12</th>\n",
              "      <th>weeknum_13</th>\n",
              "      <th>weeknum_14</th>\n",
              "      <th>weeknum_15</th>\n",
              "      <th>weeknum_16</th>\n",
              "      <th>weeknum_17</th>\n",
              "      <th>weeknum_18</th>\n",
              "      <th>weeknum_19</th>\n",
              "      <th>weeknum_20</th>\n",
              "      <th>weeknum_21</th>\n",
              "      <th>weeknum_22</th>\n",
              "      <th>weeknum_23</th>\n",
              "      <th>weeknum_24</th>\n",
              "      <th>weeknum_25</th>\n",
              "      <th>weeknum_26</th>\n",
              "      <th>weeknum_27</th>\n",
              "      <th>weeknum_28</th>\n",
              "      <th>weeknum_29</th>\n",
              "      <th>weeknum_30</th>\n",
              "      <th>year_1990</th>\n",
              "      <th>year_1991</th>\n",
              "      <th>year_1992</th>\n",
              "      <th>year_1993</th>\n",
              "      <th>year_1994</th>\n",
              "      <th>year_1995</th>\n",
              "      <th>year_1996</th>\n",
              "      <th>year_1997</th>\n",
              "      <th>year_1998</th>\n",
              "      <th>year_1999</th>\n",
              "      <th>year_2000</th>\n",
              "      <th>year_2001</th>\n",
              "      <th>year_2002</th>\n",
              "      <th>year_2003</th>\n",
              "      <th>year_2004</th>\n",
              "    </tr>\n",
              "    <tr>\n",
              "      <th>week_start_date</th>\n",
              "      <th></th>\n",
              "      <th></th>\n",
              "      <th></th>\n",
              "      <th></th>\n",
              "      <th></th>\n",
              "      <th></th>\n",
              "      <th></th>\n",
              "      <th></th>\n",
              "      <th></th>\n",
              "      <th></th>\n",
              "      <th></th>\n",
              "      <th></th>\n",
              "      <th></th>\n",
              "      <th></th>\n",
              "      <th></th>\n",
              "      <th></th>\n",
              "      <th></th>\n",
              "      <th></th>\n",
              "      <th></th>\n",
              "      <th></th>\n",
              "      <th></th>\n",
              "      <th></th>\n",
              "      <th></th>\n",
              "      <th></th>\n",
              "      <th></th>\n",
              "      <th></th>\n",
              "      <th></th>\n",
              "      <th></th>\n",
              "      <th></th>\n",
              "      <th></th>\n",
              "      <th></th>\n",
              "      <th></th>\n",
              "      <th></th>\n",
              "      <th></th>\n",
              "      <th></th>\n",
              "      <th></th>\n",
              "      <th></th>\n",
              "      <th></th>\n",
              "      <th></th>\n",
              "      <th></th>\n",
              "      <th></th>\n",
              "      <th></th>\n",
              "      <th></th>\n",
              "      <th></th>\n",
              "      <th></th>\n",
              "      <th></th>\n",
              "      <th></th>\n",
              "      <th></th>\n",
              "      <th></th>\n",
              "      <th></th>\n",
              "      <th></th>\n",
              "      <th></th>\n",
              "      <th></th>\n",
              "      <th></th>\n",
              "      <th></th>\n",
              "      <th></th>\n",
              "      <th></th>\n",
              "      <th></th>\n",
              "      <th></th>\n",
              "      <th></th>\n",
              "      <th></th>\n",
              "      <th></th>\n",
              "      <th></th>\n",
              "      <th></th>\n",
              "      <th></th>\n",
              "      <th></th>\n",
              "      <th></th>\n",
              "      <th></th>\n",
              "      <th></th>\n",
              "      <th></th>\n",
              "      <th></th>\n",
              "      <th></th>\n",
              "      <th></th>\n",
              "      <th></th>\n",
              "      <th></th>\n",
              "      <th></th>\n",
              "      <th></th>\n",
              "      <th></th>\n",
              "      <th></th>\n",
              "      <th></th>\n",
              "    </tr>\n",
              "  </thead>\n",
              "  <tbody>\n",
              "    <tr>\n",
              "      <th>1990-08-04</th>\n",
              "      <td>12.0</td>\n",
              "      <td>19.000000</td>\n",
              "      <td>10.000000</td>\n",
              "      <td>15.000000</td>\n",
              "      <td>26.000000</td>\n",
              "      <td>20.000000</td>\n",
              "      <td>15.000000</td>\n",
              "      <td>30.000000</td>\n",
              "      <td>21.000000</td>\n",
              "      <td>34.000000</td>\n",
              "      <td>31.000000</td>\n",
              "      <td>37.000000</td>\n",
              "      <td>20.000000</td>\n",
              "      <td>1</td>\n",
              "      <td>0</td>\n",
              "      <td>0</td>\n",
              "      <td>0</td>\n",
              "      <td>0</td>\n",
              "      <td>0</td>\n",
              "      <td>0</td>\n",
              "      <td>0</td>\n",
              "      <td>0</td>\n",
              "      <td>0</td>\n",
              "      <td>0</td>\n",
              "      <td>0</td>\n",
              "      <td>0</td>\n",
              "      <td>0</td>\n",
              "      <td>0</td>\n",
              "      <td>0</td>\n",
              "      <td>0</td>\n",
              "      <td>0</td>\n",
              "      <td>0</td>\n",
              "      <td>0</td>\n",
              "      <td>0</td>\n",
              "      <td>0</td>\n",
              "      <td>0</td>\n",
              "      <td>0</td>\n",
              "      <td>0</td>\n",
              "      <td>0</td>\n",
              "      <td>0</td>\n",
              "      <td>0</td>\n",
              "      <td>0</td>\n",
              "      <td>0</td>\n",
              "      <td>0</td>\n",
              "      <td>0</td>\n",
              "      <td>0</td>\n",
              "      <td>0</td>\n",
              "      <td>0</td>\n",
              "      <td>0</td>\n",
              "      <td>0</td>\n",
              "      <td>0</td>\n",
              "      <td>0</td>\n",
              "      <td>0</td>\n",
              "      <td>0</td>\n",
              "      <td>0</td>\n",
              "      <td>0</td>\n",
              "      <td>0</td>\n",
              "      <td>0</td>\n",
              "      <td>0</td>\n",
              "      <td>0</td>\n",
              "      <td>0</td>\n",
              "      <td>0</td>\n",
              "      <td>0</td>\n",
              "      <td>0</td>\n",
              "      <td>0</td>\n",
              "      <td>1</td>\n",
              "      <td>0</td>\n",
              "      <td>0</td>\n",
              "      <td>0</td>\n",
              "      <td>0</td>\n",
              "      <td>0</td>\n",
              "      <td>0</td>\n",
              "      <td>0</td>\n",
              "      <td>0</td>\n",
              "      <td>0</td>\n",
              "      <td>0</td>\n",
              "      <td>0</td>\n",
              "      <td>0</td>\n",
              "      <td>0</td>\n",
              "      <td>0</td>\n",
              "    </tr>\n",
              "    <tr>\n",
              "      <th>1990-08-11</th>\n",
              "      <td>19.0</td>\n",
              "      <td>10.000000</td>\n",
              "      <td>15.000000</td>\n",
              "      <td>26.000000</td>\n",
              "      <td>20.000000</td>\n",
              "      <td>15.000000</td>\n",
              "      <td>30.000000</td>\n",
              "      <td>21.000000</td>\n",
              "      <td>34.000000</td>\n",
              "      <td>31.000000</td>\n",
              "      <td>37.000000</td>\n",
              "      <td>20.000000</td>\n",
              "      <td>34.000000</td>\n",
              "      <td>0</td>\n",
              "      <td>1</td>\n",
              "      <td>0</td>\n",
              "      <td>0</td>\n",
              "      <td>0</td>\n",
              "      <td>0</td>\n",
              "      <td>0</td>\n",
              "      <td>0</td>\n",
              "      <td>0</td>\n",
              "      <td>0</td>\n",
              "      <td>0</td>\n",
              "      <td>0</td>\n",
              "      <td>0</td>\n",
              "      <td>0</td>\n",
              "      <td>0</td>\n",
              "      <td>0</td>\n",
              "      <td>0</td>\n",
              "      <td>0</td>\n",
              "      <td>0</td>\n",
              "      <td>0</td>\n",
              "      <td>0</td>\n",
              "      <td>0</td>\n",
              "      <td>0</td>\n",
              "      <td>0</td>\n",
              "      <td>0</td>\n",
              "      <td>0</td>\n",
              "      <td>0</td>\n",
              "      <td>0</td>\n",
              "      <td>0</td>\n",
              "      <td>0</td>\n",
              "      <td>0</td>\n",
              "      <td>0</td>\n",
              "      <td>0</td>\n",
              "      <td>0</td>\n",
              "      <td>0</td>\n",
              "      <td>0</td>\n",
              "      <td>0</td>\n",
              "      <td>0</td>\n",
              "      <td>0</td>\n",
              "      <td>0</td>\n",
              "      <td>0</td>\n",
              "      <td>0</td>\n",
              "      <td>0</td>\n",
              "      <td>0</td>\n",
              "      <td>0</td>\n",
              "      <td>0</td>\n",
              "      <td>0</td>\n",
              "      <td>0</td>\n",
              "      <td>0</td>\n",
              "      <td>0</td>\n",
              "      <td>0</td>\n",
              "      <td>0</td>\n",
              "      <td>1</td>\n",
              "      <td>0</td>\n",
              "      <td>0</td>\n",
              "      <td>0</td>\n",
              "      <td>0</td>\n",
              "      <td>0</td>\n",
              "      <td>0</td>\n",
              "      <td>0</td>\n",
              "      <td>0</td>\n",
              "      <td>0</td>\n",
              "      <td>0</td>\n",
              "      <td>0</td>\n",
              "      <td>0</td>\n",
              "      <td>0</td>\n",
              "      <td>0</td>\n",
              "    </tr>\n",
              "    <tr>\n",
              "      <th>1990-08-18</th>\n",
              "      <td>10.0</td>\n",
              "      <td>15.000000</td>\n",
              "      <td>26.000000</td>\n",
              "      <td>20.000000</td>\n",
              "      <td>15.000000</td>\n",
              "      <td>30.000000</td>\n",
              "      <td>21.000000</td>\n",
              "      <td>34.000000</td>\n",
              "      <td>31.000000</td>\n",
              "      <td>37.000000</td>\n",
              "      <td>20.000000</td>\n",
              "      <td>34.000000</td>\n",
              "      <td>58.000000</td>\n",
              "      <td>0</td>\n",
              "      <td>0</td>\n",
              "      <td>1</td>\n",
              "      <td>0</td>\n",
              "      <td>0</td>\n",
              "      <td>0</td>\n",
              "      <td>0</td>\n",
              "      <td>0</td>\n",
              "      <td>0</td>\n",
              "      <td>0</td>\n",
              "      <td>0</td>\n",
              "      <td>0</td>\n",
              "      <td>0</td>\n",
              "      <td>0</td>\n",
              "      <td>0</td>\n",
              "      <td>0</td>\n",
              "      <td>0</td>\n",
              "      <td>0</td>\n",
              "      <td>0</td>\n",
              "      <td>0</td>\n",
              "      <td>0</td>\n",
              "      <td>0</td>\n",
              "      <td>0</td>\n",
              "      <td>0</td>\n",
              "      <td>0</td>\n",
              "      <td>0</td>\n",
              "      <td>0</td>\n",
              "      <td>0</td>\n",
              "      <td>0</td>\n",
              "      <td>0</td>\n",
              "      <td>0</td>\n",
              "      <td>0</td>\n",
              "      <td>0</td>\n",
              "      <td>0</td>\n",
              "      <td>0</td>\n",
              "      <td>0</td>\n",
              "      <td>0</td>\n",
              "      <td>0</td>\n",
              "      <td>0</td>\n",
              "      <td>0</td>\n",
              "      <td>0</td>\n",
              "      <td>0</td>\n",
              "      <td>0</td>\n",
              "      <td>0</td>\n",
              "      <td>0</td>\n",
              "      <td>0</td>\n",
              "      <td>0</td>\n",
              "      <td>0</td>\n",
              "      <td>0</td>\n",
              "      <td>0</td>\n",
              "      <td>0</td>\n",
              "      <td>0</td>\n",
              "      <td>1</td>\n",
              "      <td>0</td>\n",
              "      <td>0</td>\n",
              "      <td>0</td>\n",
              "      <td>0</td>\n",
              "      <td>0</td>\n",
              "      <td>0</td>\n",
              "      <td>0</td>\n",
              "      <td>0</td>\n",
              "      <td>0</td>\n",
              "      <td>0</td>\n",
              "      <td>0</td>\n",
              "      <td>0</td>\n",
              "      <td>0</td>\n",
              "      <td>0</td>\n",
              "    </tr>\n",
              "    <tr>\n",
              "      <th>1990-08-25</th>\n",
              "      <td>15.0</td>\n",
              "      <td>26.000000</td>\n",
              "      <td>20.000000</td>\n",
              "      <td>15.000000</td>\n",
              "      <td>30.000000</td>\n",
              "      <td>21.000000</td>\n",
              "      <td>34.000000</td>\n",
              "      <td>31.000000</td>\n",
              "      <td>37.000000</td>\n",
              "      <td>20.000000</td>\n",
              "      <td>34.000000</td>\n",
              "      <td>58.000000</td>\n",
              "      <td>23.000000</td>\n",
              "      <td>0</td>\n",
              "      <td>0</td>\n",
              "      <td>0</td>\n",
              "      <td>1</td>\n",
              "      <td>0</td>\n",
              "      <td>0</td>\n",
              "      <td>0</td>\n",
              "      <td>0</td>\n",
              "      <td>0</td>\n",
              "      <td>0</td>\n",
              "      <td>0</td>\n",
              "      <td>0</td>\n",
              "      <td>0</td>\n",
              "      <td>0</td>\n",
              "      <td>0</td>\n",
              "      <td>0</td>\n",
              "      <td>0</td>\n",
              "      <td>0</td>\n",
              "      <td>0</td>\n",
              "      <td>0</td>\n",
              "      <td>0</td>\n",
              "      <td>0</td>\n",
              "      <td>0</td>\n",
              "      <td>0</td>\n",
              "      <td>0</td>\n",
              "      <td>0</td>\n",
              "      <td>0</td>\n",
              "      <td>0</td>\n",
              "      <td>0</td>\n",
              "      <td>0</td>\n",
              "      <td>0</td>\n",
              "      <td>0</td>\n",
              "      <td>0</td>\n",
              "      <td>0</td>\n",
              "      <td>0</td>\n",
              "      <td>0</td>\n",
              "      <td>0</td>\n",
              "      <td>0</td>\n",
              "      <td>0</td>\n",
              "      <td>0</td>\n",
              "      <td>0</td>\n",
              "      <td>0</td>\n",
              "      <td>0</td>\n",
              "      <td>0</td>\n",
              "      <td>0</td>\n",
              "      <td>0</td>\n",
              "      <td>0</td>\n",
              "      <td>0</td>\n",
              "      <td>0</td>\n",
              "      <td>0</td>\n",
              "      <td>0</td>\n",
              "      <td>0</td>\n",
              "      <td>1</td>\n",
              "      <td>0</td>\n",
              "      <td>0</td>\n",
              "      <td>0</td>\n",
              "      <td>0</td>\n",
              "      <td>0</td>\n",
              "      <td>0</td>\n",
              "      <td>0</td>\n",
              "      <td>0</td>\n",
              "      <td>0</td>\n",
              "      <td>0</td>\n",
              "      <td>0</td>\n",
              "      <td>0</td>\n",
              "      <td>0</td>\n",
              "      <td>0</td>\n",
              "    </tr>\n",
              "    <tr>\n",
              "      <th>1990-09-01</th>\n",
              "      <td>26.0</td>\n",
              "      <td>20.000000</td>\n",
              "      <td>15.000000</td>\n",
              "      <td>30.000000</td>\n",
              "      <td>21.000000</td>\n",
              "      <td>34.000000</td>\n",
              "      <td>31.000000</td>\n",
              "      <td>37.000000</td>\n",
              "      <td>20.000000</td>\n",
              "      <td>34.000000</td>\n",
              "      <td>58.000000</td>\n",
              "      <td>23.000000</td>\n",
              "      <td>28.000000</td>\n",
              "      <td>0</td>\n",
              "      <td>0</td>\n",
              "      <td>0</td>\n",
              "      <td>0</td>\n",
              "      <td>1</td>\n",
              "      <td>0</td>\n",
              "      <td>0</td>\n",
              "      <td>0</td>\n",
              "      <td>0</td>\n",
              "      <td>0</td>\n",
              "      <td>0</td>\n",
              "      <td>0</td>\n",
              "      <td>0</td>\n",
              "      <td>0</td>\n",
              "      <td>0</td>\n",
              "      <td>0</td>\n",
              "      <td>0</td>\n",
              "      <td>0</td>\n",
              "      <td>0</td>\n",
              "      <td>0</td>\n",
              "      <td>0</td>\n",
              "      <td>0</td>\n",
              "      <td>0</td>\n",
              "      <td>0</td>\n",
              "      <td>0</td>\n",
              "      <td>0</td>\n",
              "      <td>0</td>\n",
              "      <td>0</td>\n",
              "      <td>0</td>\n",
              "      <td>0</td>\n",
              "      <td>0</td>\n",
              "      <td>0</td>\n",
              "      <td>0</td>\n",
              "      <td>0</td>\n",
              "      <td>0</td>\n",
              "      <td>0</td>\n",
              "      <td>0</td>\n",
              "      <td>0</td>\n",
              "      <td>0</td>\n",
              "      <td>0</td>\n",
              "      <td>0</td>\n",
              "      <td>0</td>\n",
              "      <td>0</td>\n",
              "      <td>0</td>\n",
              "      <td>0</td>\n",
              "      <td>0</td>\n",
              "      <td>0</td>\n",
              "      <td>0</td>\n",
              "      <td>0</td>\n",
              "      <td>0</td>\n",
              "      <td>0</td>\n",
              "      <td>0</td>\n",
              "      <td>1</td>\n",
              "      <td>0</td>\n",
              "      <td>0</td>\n",
              "      <td>0</td>\n",
              "      <td>0</td>\n",
              "      <td>0</td>\n",
              "      <td>0</td>\n",
              "      <td>0</td>\n",
              "      <td>0</td>\n",
              "      <td>0</td>\n",
              "      <td>0</td>\n",
              "      <td>0</td>\n",
              "      <td>0</td>\n",
              "      <td>0</td>\n",
              "      <td>0</td>\n",
              "    </tr>\n",
              "    <tr>\n",
              "      <th>...</th>\n",
              "      <td>...</td>\n",
              "      <td>...</td>\n",
              "      <td>...</td>\n",
              "      <td>...</td>\n",
              "      <td>...</td>\n",
              "      <td>...</td>\n",
              "      <td>...</td>\n",
              "      <td>...</td>\n",
              "      <td>...</td>\n",
              "      <td>...</td>\n",
              "      <td>...</td>\n",
              "      <td>...</td>\n",
              "      <td>...</td>\n",
              "      <td>...</td>\n",
              "      <td>...</td>\n",
              "      <td>...</td>\n",
              "      <td>...</td>\n",
              "      <td>...</td>\n",
              "      <td>...</td>\n",
              "      <td>...</td>\n",
              "      <td>...</td>\n",
              "      <td>...</td>\n",
              "      <td>...</td>\n",
              "      <td>...</td>\n",
              "      <td>...</td>\n",
              "      <td>...</td>\n",
              "      <td>...</td>\n",
              "      <td>...</td>\n",
              "      <td>...</td>\n",
              "      <td>...</td>\n",
              "      <td>...</td>\n",
              "      <td>...</td>\n",
              "      <td>...</td>\n",
              "      <td>...</td>\n",
              "      <td>...</td>\n",
              "      <td>...</td>\n",
              "      <td>...</td>\n",
              "      <td>...</td>\n",
              "      <td>...</td>\n",
              "      <td>...</td>\n",
              "      <td>...</td>\n",
              "      <td>...</td>\n",
              "      <td>...</td>\n",
              "      <td>...</td>\n",
              "      <td>...</td>\n",
              "      <td>...</td>\n",
              "      <td>...</td>\n",
              "      <td>...</td>\n",
              "      <td>...</td>\n",
              "      <td>...</td>\n",
              "      <td>...</td>\n",
              "      <td>...</td>\n",
              "      <td>...</td>\n",
              "      <td>...</td>\n",
              "      <td>...</td>\n",
              "      <td>...</td>\n",
              "      <td>...</td>\n",
              "      <td>...</td>\n",
              "      <td>...</td>\n",
              "      <td>...</td>\n",
              "      <td>...</td>\n",
              "      <td>...</td>\n",
              "      <td>...</td>\n",
              "      <td>...</td>\n",
              "      <td>...</td>\n",
              "      <td>...</td>\n",
              "      <td>...</td>\n",
              "      <td>...</td>\n",
              "      <td>...</td>\n",
              "      <td>...</td>\n",
              "      <td>...</td>\n",
              "      <td>...</td>\n",
              "      <td>...</td>\n",
              "      <td>...</td>\n",
              "      <td>...</td>\n",
              "      <td>...</td>\n",
              "      <td>...</td>\n",
              "      <td>...</td>\n",
              "      <td>...</td>\n",
              "      <td>...</td>\n",
              "    </tr>\n",
              "    <tr>\n",
              "      <th>2005-07-02</th>\n",
              "      <td>14.0</td>\n",
              "      <td>29.000000</td>\n",
              "      <td>44.000000</td>\n",
              "      <td>52.000000</td>\n",
              "      <td>73.000000</td>\n",
              "      <td>68.777778</td>\n",
              "      <td>71.555556</td>\n",
              "      <td>70.333333</td>\n",
              "      <td>64.111111</td>\n",
              "      <td>61.888889</td>\n",
              "      <td>52.666667</td>\n",
              "      <td>47.444444</td>\n",
              "      <td>52.222222</td>\n",
              "      <td>0</td>\n",
              "      <td>0</td>\n",
              "      <td>0</td>\n",
              "      <td>0</td>\n",
              "      <td>0</td>\n",
              "      <td>0</td>\n",
              "      <td>0</td>\n",
              "      <td>0</td>\n",
              "      <td>0</td>\n",
              "      <td>0</td>\n",
              "      <td>0</td>\n",
              "      <td>0</td>\n",
              "      <td>0</td>\n",
              "      <td>0</td>\n",
              "      <td>0</td>\n",
              "      <td>0</td>\n",
              "      <td>0</td>\n",
              "      <td>0</td>\n",
              "      <td>0</td>\n",
              "      <td>0</td>\n",
              "      <td>0</td>\n",
              "      <td>0</td>\n",
              "      <td>0</td>\n",
              "      <td>0</td>\n",
              "      <td>0</td>\n",
              "      <td>0</td>\n",
              "      <td>0</td>\n",
              "      <td>0</td>\n",
              "      <td>0</td>\n",
              "      <td>0</td>\n",
              "      <td>0</td>\n",
              "      <td>0</td>\n",
              "      <td>0</td>\n",
              "      <td>0</td>\n",
              "      <td>0</td>\n",
              "      <td>0</td>\n",
              "      <td>0</td>\n",
              "      <td>0</td>\n",
              "      <td>0</td>\n",
              "      <td>0</td>\n",
              "      <td>0</td>\n",
              "      <td>0</td>\n",
              "      <td>0</td>\n",
              "      <td>0</td>\n",
              "      <td>0</td>\n",
              "      <td>0</td>\n",
              "      <td>0</td>\n",
              "      <td>1</td>\n",
              "      <td>0</td>\n",
              "      <td>0</td>\n",
              "      <td>0</td>\n",
              "      <td>0</td>\n",
              "      <td>0</td>\n",
              "      <td>0</td>\n",
              "      <td>0</td>\n",
              "      <td>0</td>\n",
              "      <td>0</td>\n",
              "      <td>0</td>\n",
              "      <td>0</td>\n",
              "      <td>0</td>\n",
              "      <td>0</td>\n",
              "      <td>0</td>\n",
              "      <td>0</td>\n",
              "      <td>0</td>\n",
              "      <td>0</td>\n",
              "      <td>0</td>\n",
              "      <td>0</td>\n",
              "    </tr>\n",
              "    <tr>\n",
              "      <th>2005-07-09</th>\n",
              "      <td>29.0</td>\n",
              "      <td>44.000000</td>\n",
              "      <td>52.000000</td>\n",
              "      <td>73.000000</td>\n",
              "      <td>68.777778</td>\n",
              "      <td>71.555556</td>\n",
              "      <td>70.333333</td>\n",
              "      <td>64.111111</td>\n",
              "      <td>61.888889</td>\n",
              "      <td>52.666667</td>\n",
              "      <td>47.444444</td>\n",
              "      <td>52.222222</td>\n",
              "      <td>43.000000</td>\n",
              "      <td>0</td>\n",
              "      <td>0</td>\n",
              "      <td>0</td>\n",
              "      <td>0</td>\n",
              "      <td>0</td>\n",
              "      <td>0</td>\n",
              "      <td>0</td>\n",
              "      <td>0</td>\n",
              "      <td>0</td>\n",
              "      <td>0</td>\n",
              "      <td>0</td>\n",
              "      <td>0</td>\n",
              "      <td>0</td>\n",
              "      <td>0</td>\n",
              "      <td>0</td>\n",
              "      <td>0</td>\n",
              "      <td>0</td>\n",
              "      <td>0</td>\n",
              "      <td>0</td>\n",
              "      <td>0</td>\n",
              "      <td>0</td>\n",
              "      <td>0</td>\n",
              "      <td>0</td>\n",
              "      <td>0</td>\n",
              "      <td>0</td>\n",
              "      <td>0</td>\n",
              "      <td>0</td>\n",
              "      <td>0</td>\n",
              "      <td>0</td>\n",
              "      <td>0</td>\n",
              "      <td>0</td>\n",
              "      <td>0</td>\n",
              "      <td>0</td>\n",
              "      <td>0</td>\n",
              "      <td>0</td>\n",
              "      <td>0</td>\n",
              "      <td>0</td>\n",
              "      <td>0</td>\n",
              "      <td>0</td>\n",
              "      <td>0</td>\n",
              "      <td>0</td>\n",
              "      <td>0</td>\n",
              "      <td>0</td>\n",
              "      <td>0</td>\n",
              "      <td>0</td>\n",
              "      <td>0</td>\n",
              "      <td>0</td>\n",
              "      <td>0</td>\n",
              "      <td>1</td>\n",
              "      <td>0</td>\n",
              "      <td>0</td>\n",
              "      <td>0</td>\n",
              "      <td>0</td>\n",
              "      <td>0</td>\n",
              "      <td>0</td>\n",
              "      <td>0</td>\n",
              "      <td>0</td>\n",
              "      <td>0</td>\n",
              "      <td>0</td>\n",
              "      <td>0</td>\n",
              "      <td>0</td>\n",
              "      <td>0</td>\n",
              "      <td>0</td>\n",
              "      <td>0</td>\n",
              "      <td>0</td>\n",
              "      <td>0</td>\n",
              "      <td>0</td>\n",
              "    </tr>\n",
              "    <tr>\n",
              "      <th>2005-07-16</th>\n",
              "      <td>44.0</td>\n",
              "      <td>52.000000</td>\n",
              "      <td>73.000000</td>\n",
              "      <td>68.777778</td>\n",
              "      <td>71.555556</td>\n",
              "      <td>70.333333</td>\n",
              "      <td>64.111111</td>\n",
              "      <td>61.888889</td>\n",
              "      <td>52.666667</td>\n",
              "      <td>47.444444</td>\n",
              "      <td>52.222222</td>\n",
              "      <td>43.000000</td>\n",
              "      <td>-2.000000</td>\n",
              "      <td>0</td>\n",
              "      <td>0</td>\n",
              "      <td>0</td>\n",
              "      <td>0</td>\n",
              "      <td>0</td>\n",
              "      <td>0</td>\n",
              "      <td>0</td>\n",
              "      <td>0</td>\n",
              "      <td>0</td>\n",
              "      <td>0</td>\n",
              "      <td>0</td>\n",
              "      <td>0</td>\n",
              "      <td>0</td>\n",
              "      <td>0</td>\n",
              "      <td>0</td>\n",
              "      <td>0</td>\n",
              "      <td>0</td>\n",
              "      <td>0</td>\n",
              "      <td>0</td>\n",
              "      <td>0</td>\n",
              "      <td>0</td>\n",
              "      <td>0</td>\n",
              "      <td>0</td>\n",
              "      <td>0</td>\n",
              "      <td>0</td>\n",
              "      <td>0</td>\n",
              "      <td>0</td>\n",
              "      <td>0</td>\n",
              "      <td>0</td>\n",
              "      <td>0</td>\n",
              "      <td>0</td>\n",
              "      <td>0</td>\n",
              "      <td>0</td>\n",
              "      <td>0</td>\n",
              "      <td>0</td>\n",
              "      <td>0</td>\n",
              "      <td>0</td>\n",
              "      <td>0</td>\n",
              "      <td>0</td>\n",
              "      <td>0</td>\n",
              "      <td>0</td>\n",
              "      <td>0</td>\n",
              "      <td>0</td>\n",
              "      <td>0</td>\n",
              "      <td>0</td>\n",
              "      <td>0</td>\n",
              "      <td>0</td>\n",
              "      <td>0</td>\n",
              "      <td>0</td>\n",
              "      <td>1</td>\n",
              "      <td>0</td>\n",
              "      <td>0</td>\n",
              "      <td>0</td>\n",
              "      <td>0</td>\n",
              "      <td>0</td>\n",
              "      <td>0</td>\n",
              "      <td>0</td>\n",
              "      <td>0</td>\n",
              "      <td>0</td>\n",
              "      <td>0</td>\n",
              "      <td>0</td>\n",
              "      <td>0</td>\n",
              "      <td>0</td>\n",
              "      <td>0</td>\n",
              "      <td>0</td>\n",
              "      <td>0</td>\n",
              "      <td>0</td>\n",
              "    </tr>\n",
              "    <tr>\n",
              "      <th>2005-07-23</th>\n",
              "      <td>52.0</td>\n",
              "      <td>73.000000</td>\n",
              "      <td>68.777778</td>\n",
              "      <td>71.555556</td>\n",
              "      <td>70.333333</td>\n",
              "      <td>64.111111</td>\n",
              "      <td>61.888889</td>\n",
              "      <td>52.666667</td>\n",
              "      <td>47.444444</td>\n",
              "      <td>52.222222</td>\n",
              "      <td>43.000000</td>\n",
              "      <td>-2.000000</td>\n",
              "      <td>-1.000000</td>\n",
              "      <td>0</td>\n",
              "      <td>0</td>\n",
              "      <td>0</td>\n",
              "      <td>0</td>\n",
              "      <td>0</td>\n",
              "      <td>0</td>\n",
              "      <td>0</td>\n",
              "      <td>0</td>\n",
              "      <td>0</td>\n",
              "      <td>0</td>\n",
              "      <td>0</td>\n",
              "      <td>0</td>\n",
              "      <td>0</td>\n",
              "      <td>0</td>\n",
              "      <td>0</td>\n",
              "      <td>0</td>\n",
              "      <td>0</td>\n",
              "      <td>0</td>\n",
              "      <td>0</td>\n",
              "      <td>0</td>\n",
              "      <td>0</td>\n",
              "      <td>0</td>\n",
              "      <td>0</td>\n",
              "      <td>0</td>\n",
              "      <td>0</td>\n",
              "      <td>0</td>\n",
              "      <td>0</td>\n",
              "      <td>0</td>\n",
              "      <td>0</td>\n",
              "      <td>0</td>\n",
              "      <td>0</td>\n",
              "      <td>0</td>\n",
              "      <td>0</td>\n",
              "      <td>0</td>\n",
              "      <td>0</td>\n",
              "      <td>0</td>\n",
              "      <td>0</td>\n",
              "      <td>0</td>\n",
              "      <td>0</td>\n",
              "      <td>0</td>\n",
              "      <td>0</td>\n",
              "      <td>0</td>\n",
              "      <td>0</td>\n",
              "      <td>0</td>\n",
              "      <td>0</td>\n",
              "      <td>0</td>\n",
              "      <td>0</td>\n",
              "      <td>0</td>\n",
              "      <td>0</td>\n",
              "      <td>0</td>\n",
              "      <td>1</td>\n",
              "      <td>0</td>\n",
              "      <td>0</td>\n",
              "      <td>0</td>\n",
              "      <td>0</td>\n",
              "      <td>0</td>\n",
              "      <td>0</td>\n",
              "      <td>0</td>\n",
              "      <td>0</td>\n",
              "      <td>0</td>\n",
              "      <td>0</td>\n",
              "      <td>0</td>\n",
              "      <td>0</td>\n",
              "      <td>0</td>\n",
              "      <td>0</td>\n",
              "      <td>0</td>\n",
              "      <td>0</td>\n",
              "    </tr>\n",
              "    <tr>\n",
              "      <th>2005-07-30</th>\n",
              "      <td>73.0</td>\n",
              "      <td>68.777778</td>\n",
              "      <td>71.555556</td>\n",
              "      <td>70.333333</td>\n",
              "      <td>64.111111</td>\n",
              "      <td>61.888889</td>\n",
              "      <td>52.666667</td>\n",
              "      <td>47.444444</td>\n",
              "      <td>52.222222</td>\n",
              "      <td>43.000000</td>\n",
              "      <td>-2.000000</td>\n",
              "      <td>-1.000000</td>\n",
              "      <td>-20.000000</td>\n",
              "      <td>0</td>\n",
              "      <td>0</td>\n",
              "      <td>0</td>\n",
              "      <td>0</td>\n",
              "      <td>0</td>\n",
              "      <td>0</td>\n",
              "      <td>0</td>\n",
              "      <td>0</td>\n",
              "      <td>0</td>\n",
              "      <td>0</td>\n",
              "      <td>0</td>\n",
              "      <td>0</td>\n",
              "      <td>0</td>\n",
              "      <td>0</td>\n",
              "      <td>0</td>\n",
              "      <td>0</td>\n",
              "      <td>0</td>\n",
              "      <td>0</td>\n",
              "      <td>0</td>\n",
              "      <td>0</td>\n",
              "      <td>0</td>\n",
              "      <td>0</td>\n",
              "      <td>0</td>\n",
              "      <td>0</td>\n",
              "      <td>0</td>\n",
              "      <td>0</td>\n",
              "      <td>0</td>\n",
              "      <td>0</td>\n",
              "      <td>0</td>\n",
              "      <td>0</td>\n",
              "      <td>0</td>\n",
              "      <td>0</td>\n",
              "      <td>0</td>\n",
              "      <td>0</td>\n",
              "      <td>0</td>\n",
              "      <td>0</td>\n",
              "      <td>0</td>\n",
              "      <td>0</td>\n",
              "      <td>0</td>\n",
              "      <td>0</td>\n",
              "      <td>0</td>\n",
              "      <td>0</td>\n",
              "      <td>0</td>\n",
              "      <td>0</td>\n",
              "      <td>0</td>\n",
              "      <td>0</td>\n",
              "      <td>0</td>\n",
              "      <td>0</td>\n",
              "      <td>0</td>\n",
              "      <td>0</td>\n",
              "      <td>0</td>\n",
              "      <td>1</td>\n",
              "      <td>0</td>\n",
              "      <td>0</td>\n",
              "      <td>0</td>\n",
              "      <td>0</td>\n",
              "      <td>0</td>\n",
              "      <td>0</td>\n",
              "      <td>0</td>\n",
              "      <td>0</td>\n",
              "      <td>0</td>\n",
              "      <td>0</td>\n",
              "      <td>0</td>\n",
              "      <td>0</td>\n",
              "      <td>0</td>\n",
              "      <td>0</td>\n",
              "      <td>0</td>\n",
              "    </tr>\n",
              "  </tbody>\n",
              "</table>\n",
              "<p>783 rows × 80 columns</p>\n",
              "</div>"
            ],
            "text/plain": [
              "                 t-12       t-11       t-10  ...  year_2002  year_2003  year_2004\n",
              "week_start_date                              ...                                 \n",
              "1990-08-04       12.0  19.000000  10.000000  ...          0          0          0\n",
              "1990-08-11       19.0  10.000000  15.000000  ...          0          0          0\n",
              "1990-08-18       10.0  15.000000  26.000000  ...          0          0          0\n",
              "1990-08-25       15.0  26.000000  20.000000  ...          0          0          0\n",
              "1990-09-01       26.0  20.000000  15.000000  ...          0          0          0\n",
              "...               ...        ...        ...  ...        ...        ...        ...\n",
              "2005-07-02       14.0  29.000000  44.000000  ...          0          0          0\n",
              "2005-07-09       29.0  44.000000  52.000000  ...          0          0          0\n",
              "2005-07-16       44.0  52.000000  73.000000  ...          0          0          0\n",
              "2005-07-23       52.0  73.000000  68.777778  ...          0          0          0\n",
              "2005-07-30       73.0  68.777778  71.555556  ...          0          0          0\n",
              "\n",
              "[783 rows x 80 columns]"
            ]
          },
          "metadata": {
            "tags": []
          },
          "execution_count": 241
        }
      ]
    },
    {
      "cell_type": "code",
      "metadata": {
        "colab": {
          "base_uri": "https://localhost:8080/",
          "height": 502
        },
        "id": "4JyF5RSKRspq",
        "outputId": "f1202ed4-19ba-4fe0-a740-23e005102827"
      },
      "source": [
        "from pandas import read_csv\r\n",
        "from sklearn.ensemble import RandomForestRegressor\r\n",
        "from matplotlib import pyplot\r\n",
        "# load data\r\n",
        "#dataframe = read_csv('lags_12months_features.csv', header=0)\r\n",
        "dataframe=train_df_feature_selection_encoded\r\n",
        "array = dataframe.values\r\n",
        "# split into input and output\r\n",
        "X = array[:,0:-1]\r\n",
        "y = array[:,-1]\r\n",
        "# fit random forest model\r\n",
        "model = RandomForestRegressor(n_estimators=500, random_state=1)\r\n",
        "model.fit(X, y)\r\n",
        "# show importance scores\r\n",
        "print(model.feature_importances_)\r\n",
        "# plot importance scores\r\n",
        "names = dataframe.columns.values[0:-1]\r\n",
        "ticks = [i for i in range(len(names))]\r\n",
        "pyplot.bar(ticks, model.feature_importances_)\r\n",
        "pyplot.xticks(ticks, names)\r\n",
        "pyplot.show()"
      ],
      "execution_count": null,
      "outputs": [
        {
          "output_type": "stream",
          "text": [
            "[0.06196818 0.05895868 0.06102847 0.05875706 0.05834461 0.05868108\n",
            " 0.05087804 0.05674613 0.05904644 0.06192267 0.07767923 0.07038249\n",
            " 0.07461465 0.00343666 0.00342518 0.00292701 0.00234497 0.00226549\n",
            " 0.00251481 0.00209539 0.0027178  0.00272818 0.00282999 0.00322162\n",
            " 0.00418005 0.00413221 0.00522855 0.00410204 0.0048697  0.006217\n",
            " 0.00668002 0.00650945 0.0063303  0.00453629 0.00426325 0.00361266\n",
            " 0.00385737 0.00573186 0.00405785 0.00360042 0.00267282 0.00271744\n",
            " 0.0023202  0.00252456 0.00221882 0.00195995 0.00232322 0.00117601\n",
            " 0.00192082 0.00185244 0.00263075 0.00281392 0.00140437 0.00140691\n",
            " 0.00155144 0.00187239 0.00327545 0.00209798 0.00221876 0.00325307\n",
            " 0.00331628 0.00257435 0.00256251 0.00251138 0.00243609 0.\n",
            " 0.00162311 0.00055027 0.00347922 0.00162382 0.00072445 0.00317502\n",
            " 0.0011269  0.00199714 0.00033543 0.00259692 0.00168153 0.00466788\n",
            " 0.00138251]\n"
          ],
          "name": "stdout"
        },
        {
          "output_type": "display_data",
          "data": {
            "image/png": "[encoded data removed]",
            "text/plain": [
              "<Figure size 432x288 with 1 Axes>"
            ]
          },
          "metadata": {
            "tags": [],
            "needs_background": "light"
          }
        }
      ]
    },
    {
      "cell_type": "code",
      "metadata": {
        "colab": {
          "base_uri": "https://localhost:8080/"
        },
        "id": "Vfy5JFT35KHF",
        "outputId": "31c7046d-5c18-4e4c-d773-b99b26ce0be6"
      },
      "source": [
        "model.feature_importances_[:5]"
      ],
      "execution_count": null,
      "outputs": [
        {
          "output_type": "execute_result",
          "data": {
            "text/plain": [
              "array([0.06196818, 0.05895868, 0.06102847, 0.05875706, 0.05834461])"
            ]
          },
          "metadata": {
            "tags": []
          },
          "execution_count": 240
        }
      ]
    },
    {
      "cell_type": "code",
      "metadata": {
        "colab": {
          "base_uri": "https://localhost:8080/",
          "height": 450
        },
        "id": "xdA7h01tRxPB",
        "outputId": "4624471d-6813-4f56-e0e8-c5bb2a1d7f91"
      },
      "source": [
        "from pandas import read_csv\r\n",
        "from sklearn.feature_selection import RFE\r\n",
        "from sklearn.ensemble import RandomForestRegressor\r\n",
        "from matplotlib import pyplot\r\n",
        "# load dataset\r\n",
        "#dataframe = read_csv('lags_12months_features.csv', header=0)\r\n",
        "dataframe=train_df_feature_selection_encoded\r\n",
        "# separate into input and output variables\r\n",
        "array = dataframe.values\r\n",
        "X = array[:,0:-1]\r\n",
        "y = array[:,-1]\r\n",
        "# perform feature selection\r\n",
        "rfe = RFE(RandomForestRegressor(n_estimators=500, random_state=1), n_features_to_select=6)\r\n",
        "fit = rfe.fit(X, y)\r\n",
        "# report selected features\r\n",
        "print('Selected Features:')\r\n",
        "names = dataframe.columns.values[0:-1]\r\n",
        "for i in range(len(fit.support_)):\r\n",
        "\tif fit.support_[i]:\r\n",
        "\t\tprint(names[i])\r\n",
        "# plot feature rank\r\n",
        "names = dataframe.columns.values[0:-1]\r\n",
        "ticks = [i for i in range(len(names))]\r\n",
        "pyplot.bar(ticks, fit.ranking_)\r\n",
        "pyplot.xticks(ticks, names)\r\n",
        "pyplot.show()"
      ],
      "execution_count": null,
      "outputs": [
        {
          "output_type": "stream",
          "text": [
            "Selected Features:\n",
            "t-12\n",
            "t-11\n",
            "t-10\n",
            "t-9\n",
            "t-8\n",
            "t-4\n",
            "t-3\n",
            "t-2\n",
            "t-1\n",
            "t\n"
          ],
          "name": "stdout"
        },
        {
          "output_type": "display_data",
          "data": {
            "image/png": "[encoded data removed]",
            "text/plain": [
              "<Figure size 432x288 with 1 Axes>"
            ]
          },
          "metadata": {
            "tags": [],
            "needs_background": "light"
          }
        }
      ]
    },
    {
      "cell_type": "code",
      "metadata": {
        "id": "F2mgX72URxH1"
      },
      "source": [
        ""
      ],
      "execution_count": null,
      "outputs": []
    },
    {
      "cell_type": "markdown",
      "metadata": {
        "id": "hTX9rBmBGXBi"
      },
      "source": [
        "##creat lag features"
      ]
    },
    {
      "cell_type": "code",
      "metadata": {
        "id": "ScGKuYIYIUkS"
      },
      "source": [
        ""
      ],
      "execution_count": null,
      "outputs": []
    },
    {
      "cell_type": "code",
      "metadata": {
        "id": "SpcC4uneIUXb"
      },
      "source": [
        ""
      ],
      "execution_count": null,
      "outputs": []
    },
    {
      "cell_type": "code",
      "metadata": {
        "id": "hbJ8WDr7IURf"
      },
      "source": [
        ""
      ],
      "execution_count": null,
      "outputs": []
    }
  ]
}